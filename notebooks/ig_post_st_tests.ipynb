{
 "cells": [
  {
   "cell_type": "markdown",
   "metadata": {},
   "source": [
    "Testing of:\n",
    "\n",
    "Posting and generating Dataclass for IgPostData (posts, albums reels) and IgStData (stories)\n",
    "\n",
    "Focusing on JK page:\n",
    " - posting on my own page\n",
    "    - photo\n",
    "    - album\n",
    "    - normal video\n",
    "    - reel\n",
    " - liking them\n",
    " - commenting on them\n",
    " - liking the comments\n",
    " - posting into the story\n",
    "\n",
    "Based on third party\n",
    " - liking a post/reel\n",
    " - commenting a post/reel\n",
    " - liking a comment\n",
    " - using the third party to publish on JK page\n",
    "\n",
    " All the objects created are in the Doc Outputs from the first postings JK\n",
    "on the JK account link https://docs.google.com/document/d/1SGKB9F9cjemIIsNFRvMl-fdec7CIewiDnGA22NzFZr4/edit"
   ]
  },
  {
   "cell_type": "markdown",
   "metadata": {},
   "source": [
    "Setting up and imports"
   ]
  },
  {
   "cell_type": "code",
   "execution_count": 2,
   "metadata": {},
   "outputs": [],
   "source": [
    "\n",
    "\"\"\"\n",
    "main.py:\n",
    "Schedules and publishes Instagram posts from an Excel spreadsheet,\n",
    "managing post history and retrying failed uploads.\n",
    "\"\"\"\n",
    "\n",
    "import os\n",
    "import json\n",
    "import random\n",
    "import time\n",
    "import datetime\n",
    "import logging\n",
    "import pprint\n",
    "\n",
    "\n",
    "import pandas as pd\n",
    "from pathlib import Path\n",
    "\n",
    "from instagrapi.exceptions import ClientError\n",
    "from instagrapi.types import (\n",
    "    UserShort,\n",
    "    StoryMention, \n",
    "    StoryMedia, \n",
    "    StoryLink,\n",
    "    StoryHashtag,\n",
    "    StoryLocation,\n",
    "    StoryBuild,\n",
    "    StorySticker,\n",
    "    StoryStickerLink\n",
    ")\n",
    "from instagrapi.story import StoryBuild, StoryBuilder, StoryMention, StorySticker\n",
    "import instagrapi\n",
    "\n",
    "from ig_config import Config\n",
    "from ig_client import IgClient\n",
    "from ig_data import IgPostData\n",
    "from ig_utils import IgUtils, create_post_dataframe, save_post_dataframe, correct_orientation\n",
    "from ig_post_manager import IgPostManager\n",
    "from ig_st_manager import IgStManager"
   ]
  },
  {
   "cell_type": "markdown",
   "metadata": {},
   "source": [
    "Opening the Ig session (do not forget to prepare first the config, and the specific session file)\n",
    "Instantiating the Objects"
   ]
  },
  {
   "cell_type": "code",
   "execution_count": 3,
   "metadata": {},
   "outputs": [
    {
     "name": "stderr",
     "output_type": "stream",
     "text": [
      "INFO:ig_client:Session loaded successfully.\n",
      "INFO:ig_client:Connected Successfully!\n"
     ]
    }
   ],
   "source": [
    "# Configure logging (optional, but recommended)\n",
    "logging.basicConfig(level=logging.INFO, format=\"%(asctime)s - %(levelname)s - %(message)s\")\n",
    "\n",
    "# Load project configuration file\n",
    "config_file_path = r\"C:\\Users\\manue\\Documents\\GitHubMLSN\\sn-libraries\\notebooks\\ig_JK_config.json\"  # Replace with the actual path\n",
    "config = Config(config_file_path=config_file_path)  # Create Config object with path\n",
    "username = config.get(\"username\")\n",
    "password = config.get(\"password\")\n",
    "\n",
    "# Authenticate using IgClient\n",
    "igcl = IgClient(session_file=config.get(\"settings_file_path\"))  \n",
    "igcl.login(username, password)\n",
    "\n",
    "#Instantiate objects\n",
    "ig_utils = IgUtils(igcl)\n",
    "ig_post_manager = IgPostManager(igcl)\n",
    "ig_st_manager = IgStManager(igcl, ig_utils)\n"
   ]
  },
  {
   "cell_type": "markdown",
   "metadata": {},
   "source": [
    "one photo post"
   ]
  },
  {
   "cell_type": "code",
   "execution_count": null,
   "metadata": {},
   "outputs": [],
   "source": [
    "# post test data\n",
    "# path should be this format from the PC folder\n",
    "path = r\"C:\\Users\\manue\\Documents\\GitHubMLSN\\JK Peru Photos\\Street Photografy 8 Miraflores & Surquyillo.JPG\"\n",
    "\n",
    "# sometimes the phot is not in the right orientation.\n",
    "# All need to be passed through this (old photos may not work, but only warnings, no errors)\n",
    "# No vatiables, just this code (see in album for a set of photos)\n",
    "correct_orientation(Path(path))\n",
    "\n",
    "#caption should encapsulate all hashtags with # the mentions with @\n",
    "caption = \"#streetphotography in #Lima #surquillo area by @johnklanik\"\n",
    "\n",
    "# location_place needs to be a Location object.\n",
    "# Calculated just once, based on the location coming from Instagram\n",
    "# being the number in https://www.instagram.com/explore/locations/758569403/surquillo/ \n",
    "# which needs to be an integer.\n",
    "# We use the get:location_by_pk from the utils (there are other like get the pk from name)\n",
    "# and used on all the subsequent uploads if they are from the same location\n",
    "\n",
    "location: int = 758569403\n",
    "location_surquillo = ig_utils.get_location_by_pk(location)"
   ]
  },
  {
   "cell_type": "code",
   "execution_count": null,
   "metadata": {},
   "outputs": [],
   "source": [
    "# one photo upload_photo\n",
    "\n",
    "ig_photo_post = ig_post_manager.upload_photo(\n",
    "    photo_path=path, caption=caption, location=location_surquillo)\n",
    "\n",
    "# I removed on ig_post_manager the several attemps\n",
    "# by changing the MAX_RETRIES = 1  # Maximum number of retries\n",
    "# as it seems it is working just OK\n"
   ]
  },
  {
   "cell_type": "code",
   "execution_count": null,
   "metadata": {},
   "outputs": [],
   "source": [
    "#DO NOT NEED TO DO THIS\n",
    "# this is a direct method to get the whole Media Objetc from the instagrapi\n",
    "# library if you didn't saved the ig_photo_post\n",
    "\n",
    "ig_photo_post_pk = igcl.client.media_pk_from_url(\"https://www.instagram.com/p/C8_19b7o9-g/\")\n",
    "ig_photo_post = igcl.client.media_info(ig_photo_post_pk)"
   ]
  },
  {
   "cell_type": "markdown",
   "metadata": {},
   "source": [
    "One album of phots and videos"
   ]
  },
  {
   "cell_type": "code",
   "execution_count": null,
   "metadata": {},
   "outputs": [],
   "source": [
    "media_paths = [\n",
    "    Path(r\"C:\\Users\\manue\\Documents\\GitHubMLSN\\JK Peru Photos\\20130816_193318.jpg\"),\n",
    "    Path(r\"C:\\Users\\manue\\Documents\\GitHubMLSN\\JK Peru Photos\\papas_video.mp4\"),\n",
    "    Path(r\"C:\\Users\\manue\\Documents\\GitHubMLSN\\JK Peru Photos\\20130816_193323.jpg\")\n",
    "    ]      # Add more paths as needed\n",
    "\n",
    "for path in media_paths:\n",
    "    correct_orientation(path)  # Correct orientation before uploading\n",
    "caption = \"\"\"\n",
    "“How many #papas are there in Peru?”\n",
    "\n",
    "\"\"\"\n",
    "# using the same locatn than above"
   ]
  },
  {
   "cell_type": "code",
   "execution_count": null,
   "metadata": {},
   "outputs": [],
   "source": [
    "\n",
    "ig_album_post = ig_post_manager.upload_album(\n",
    "    paths=media_paths,\n",
    "    caption=caption,\n",
    "    location=location_surquillo)\n"
   ]
  },
  {
   "cell_type": "markdown",
   "metadata": {},
   "source": [
    "One video_post with upload_video (it is different thatn one reel upload)"
   ]
  },
  {
   "cell_type": "code",
   "execution_count": null,
   "metadata": {},
   "outputs": [],
   "source": [
    "location_larcomar = ig_utils.get_location_by_pk(101440375504236)\n",
    "path = r\"C:\\Users\\manue\\Documents\\GitHubMLSN\\JK Peru Photos\\Belmond Miraflores Park.mp4\"\n",
    "caption = \"Some tim ago I took this where today sits the wonderfull hotel @belmondmiraflorespark\"\n"
   ]
  },
  {
   "cell_type": "code",
   "execution_count": null,
   "metadata": {},
   "outputs": [],
   "source": [
    "ig_video_post = ig_post_manager.upload_video(video_path=path, caption=caption, location=location_surquillo)"
   ]
  },
  {
   "cell_type": "markdown",
   "metadata": {},
   "source": [
    "One reel post (different from one video post)"
   ]
  },
  {
   "cell_type": "code",
   "execution_count": null,
   "metadata": {},
   "outputs": [],
   "source": [
    "# one reel upload_reel \n",
    "\n",
    "path = r\"C:\\Users\\manue\\Documents\\GitHubMLSN\\JK Peru Photos\\prices are great.mp4\"\n",
    "caption = \" #vegetables and #fruit prices are great in Peru\"\n",
    "#location same as above\n",
    "\n"
   ]
  },
  {
   "cell_type": "code",
   "execution_count": null,
   "metadata": {},
   "outputs": [],
   "source": [
    "ig_reel = ig_post_manager.upload_video(path, caption=caption, location= location_surquillo)"
   ]
  },
  {
   "cell_type": "code",
   "execution_count": null,
   "metadata": {},
   "outputs": [],
   "source": [
    "#DO NOT NEED TO DO THIS\n",
    "# this is a direct method to get the whole Media Objetc from the instagrapi\n",
    "# library if you didn't saved the ig_photo_post\n",
    "\n",
    "ig_reel_pk = igcl.client.media_pk_from_url(\"https://www.instagram.com/p/C8_7O9yMPzi/\")\n",
    "ig_reel = igcl.client.media_info(ig_reel_pk)\n",
    "print(ig_reel)"
   ]
  },
  {
   "cell_type": "markdown",
   "metadata": {},
   "source": [
    "Commenting and liking all kinds\n",
    " - Not converted to libraries yet\n",
    " - using directly the instagrapi methods directly"
   ]
  },
  {
   "cell_type": "code",
   "execution_count": null,
   "metadata": {},
   "outputs": [],
   "source": [
    "# Commenting on the above posts\n",
    "comment_photo = \"great street photography\"\n",
    "comment_album = \"they say they have like four thousand varieties\"\n",
    "comment_reel = \"and those are soles, not dollars\"\n",
    "media_photo_id: str = \"3404677161660178336_67318685241\"    # in case you picked somewhere else\n",
    "media_album_id: str = ig_album_post.media_id # this is the normal to do using the IgPostData dataclass\n",
    "media_reel_id: str = \"3404700356472536290_67318685241\"\n",
    "\n",
    "\n",
    "comment = igcl.client.media_comment(media_photo_id, comment_photo)\n",
    "time.sleep(63)\n",
    "comment = igcl.client.media_comment(media_album_id, comment_album)\n",
    "time.sleep(97)\n",
    "comment = igcl.client.media_comment(media_reel_id, comment_reel)"
   ]
  },
  {
   "cell_type": "markdown",
   "metadata": {},
   "source": [
    "Comment on a third party post using the link of the post"
   ]
  },
  {
   "cell_type": "code",
   "execution_count": null,
   "metadata": {},
   "outputs": [],
   "source": [
    "# try to comment on the post by ahiesnada  https://www.instagram.com/p/CnHw_vmrXJz/\n",
    "media_pk = igcl.client.media_pk_from_url(\"https://www.instagram.com/p/CnHw_vmrXJz/\")\n",
    "print(\"media_pk: \",media_pk)\n",
    "\n",
    "insights_media = igcl.client.insights_media(media_pk)\n",
    "print(f\"insights media\\n{insights_media}\")\n",
    "\n",
    "media_id = igcl.client.media_id(media_pk)\n",
    "print(\"media_id: \",media_id)\n",
    "\n",
    "comment_on_ahiesnada = igcl.client.media_comment(media_id, \"I love it. This is great #streetphotography\")\n"
   ]
  },
  {
   "cell_type": "code",
   "execution_count": null,
   "metadata": {},
   "outputs": [],
   "source": [
    "print(comment_on_ahiesnada)"
   ]
  },
  {
   "cell_type": "markdown",
   "metadata": {},
   "source": [
    "Likes on posts, reels and comments"
   ]
  },
  {
   "cell_type": "code",
   "execution_count": null,
   "metadata": {},
   "outputs": [],
   "source": [
    "# Like my reels/posts:\n",
    "# BECAREFUL NOT TO CALL THIS TWICE\n",
    "\n",
    "album_like = igcl.client.media_like(ig_album_post.media_id)\n",
    "\n"
   ]
  },
  {
   "cell_type": "code",
   "execution_count": null,
   "metadata": {},
   "outputs": [],
   "source": [
    "# like third party posts/reels\n",
    "media_pk = igcl.client.media_pk_from_url(\"https://www.instagram.com/p/CnXOdOdKUTp/\")\n",
    "media_id: str = igcl.client.media_id(media_pk)\n",
    "like = igcl.client.media_like(ig_album_post.media_id)"
   ]
  },
  {
   "cell_type": "code",
   "execution_count": null,
   "metadata": {},
   "outputs": [],
   "source": [
    "# like on my comments on my account\n",
    "\n",
    "comment_pk: int = comment.pk   # normally extract firectly from the Object\n",
    "like_on_reel = igcl.client.comment_like(comment_pk)"
   ]
  },
  {
   "cell_type": "code",
   "execution_count": null,
   "metadata": {},
   "outputs": [],
   "source": [
    "# like comments I did on other accounts\n",
    "# extract directly the pk in the call\n",
    "\n",
    "comment_on_ahiesnada_like = igcl.client.comment_like(comment_on_ahiesnada.pk)"
   ]
  },
  {
   "cell_type": "markdown",
   "metadata": {},
   "source": [
    "Upload to story"
   ]
  },
  {
   "cell_type": "code",
   "execution_count": 10,
   "metadata": {},
   "outputs": [],
   "source": [
    "# ONLY THE METHOD TO SHARE A VIDEO OR REEL TO STORY HAS BEEN CREATED\n",
    "# My own story\n",
    "# from my reel: https://www.instagram.com/reel/C8_7O9yMPzi/\n",
    "# from photo https://www.instagram.com/p/C85AI2ps9NR/\n",
    "# from my album: https://www.instagram.com/p/C8_6ramNXoX/?utm_source=ig_web_button_share_sheet&igsh=ZDNlZDc0MzIxNw%3D%3D&img_index=3\n",
    "# from a third party media https://www.instagram.com/reel/C9AMD8HonUx/\n",
    "\n",
    "#  IT STILL NOT WELL PROOFED.\n",
    "\n",
    "# THE METHOD WORKS WELL AS IN THE EXAMPLE BELOW,\n",
    "# BUT WE ARE LACKING THE UPLOAD OF A PHOTO,\n",
    "# THE CONVERSION OF A PHOTO INTO VIDEO AND UPLOAD IT\n",
    "# AND THE UPLOAD OF A REEL WITHOUT SO MUCH INFO\n",
    "\n",
    "# ALSO INSTAGRAPI DOES NOT WORKS WELL AND IT ONLY UPLOADS THE REEL, BUT NOT THE OTHER INFO"
   ]
  },
  {
   "cell_type": "markdown",
   "metadata": {},
   "source": [
    "other story check \n",
    "example = cl.user_info_by_username('example')"
   ]
  },
  {
   "cell_type": "code",
   "execution_count": null,
   "metadata": {},
   "outputs": [],
   "source": [
    "# story reel from other source: \"https://www.instagram.com/p/C8-jIjnI3z8/\"\n",
    "# location Id = plaza de armas de Lima = 1380181525548680\n",
    "\n",
    "# REMEMBER the Story is using the UserShort object, not the user object\n",
    "\n",
    "third_party = \"https://www.instagram.com/reel/C9AMD8HonUx/\"   \n",
    "st_media_pk = igcl.client.media_pk_from_url(third_party)\n",
    "st_media_path = igcl.client.video_download(st_media_pk)\n",
    "st_source_long = igcl.client.user_info_by_username(\"europexplores\")\n",
    "st_source = UserShort(\n",
    "    pk=st_source_long.pk,\n",
    "    username=st_source_long.username,\n",
    "    full_name=st_source_long.full_name,\n",
    "    profile_pic_url=st_source_long.profile_pic_url\n",
    ")\n",
    "st_caption = \" agree with @europexplores\"\n",
    "st_location = ig_utils.get_location_by_pk(1380181525548680)\n",
    "st_hashtag = igcl.client.hashtag_info(\"fiestaspatrias\")\n",
    "# no stickers this time\n",
    "\n",
    "story_video = igcl.client.video_upload_to_story(\n",
    "    st_media_path,\n",
    "    caption=st_caption,\n",
    "    mentions=[StoryMention(user=st_source, x= 0.5, y=0.75, width=0.45, height=0.1)],\n",
    "    locations=[StoryLocation(location=st_location)],\n",
    "    links=[StoryLink(webUri=\"https://www.youtube.com/watch?v=y9ezAdXMUrw\")],\n",
    "    hashtags=[StoryHashtag(hashtag=st_hashtag, x=0.23, y=0.32, width=0.3, height=.18)],\n",
    "    medias = [StoryMedia(media_pk=st_media_pk, x=0.5, y=0.6, width=0.4, height=0.6)]\n",
    "    )"
   ]
  },
  {
   "cell_type": "code",
   "execution_count": null,
   "metadata": {},
   "outputs": [],
   "source": [
    "print(f\"st_reel_url ({type(st_reel_url).__name__}): {st_reel_url}\")\n",
    "print(\"\\n\")  # Empty print for a blank line\n",
    "print(f\"st_media_pk ({type(st_media_pk).__name__}): {st_media_pk}\")\n",
    "print(\"\\n\")\n",
    "print(f\"st_media_path ({type(st_media_path).__name__}): {st_media_path}\")\n",
    "print(\"\\n\")\n",
    "print(f\"st_source ({type(st_source).__name__}): {st_source}\")\n",
    "print(\"\\n\")\n",
    "print(f\"st_caption ({type(st_caption).__name__}): {st_caption}\")\n",
    "print(\"\\n\")\n",
    "print(f\"st_location ({type(st_location).__name__}): {st_location}\")\n",
    "print(\"\\n\")\n",
    "print(f\"st_hashtag ({type(st_hashtag).__name__}): {st_hashtag}\")\n",
    "\n"
   ]
  }
 ],
 "metadata": {
  "kernelspec": {
   "display_name": "sn-env",
   "language": "python",
   "name": "python3"
  },
  "language_info": {
   "codemirror_mode": {
    "name": "ipython",
    "version": 3
   },
   "file_extension": ".py",
   "mimetype": "text/x-python",
   "name": "python",
   "nbconvert_exporter": "python",
   "pygments_lexer": "ipython3",
   "version": "3.12.4"
  }
 },
 "nbformat": 4,
 "nbformat_minor": 2
}
