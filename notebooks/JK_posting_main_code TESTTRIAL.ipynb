{
 "cells": [
  {
   "cell_type": "markdown",
   "metadata": {},
   "source": [
    "## Main\n"
   ]
  },
  {
   "cell_type": "code",
   "execution_count": null,
   "metadata": {},
   "outputs": [],
   "source": [
    "\n",
    "\"\"\"\n",
    "main.py:\n",
    "Schedules and publishes Instagram posts from an Excel spreadsheet,\n",
    "managing post history and retrying failed uploads.\n",
    "\"\"\"\n",
    "\n",
    "import os\n",
    "import json\n",
    "import random\n",
    "import time\n",
    "import datetime\n",
    "import logging\n",
    "import pprint\n",
    "\n",
    "\n",
    "import pandas as pd\n",
    "from pathlib import Path\n",
    "\n",
    "from instagrapi.exceptions import ClientError\n",
    "\n",
    "\n",
    "from ig_config import Config\n",
    "from ig_client import IgClient\n",
    "from ig_data import IgPostData\n",
    "from ig_utils import IgUtils, create_post_dataframe, save_post_dataframe, correct_orientation\n",
    "from ig_post_manager import IgPostManager"
   ]
  },
  {
   "cell_type": "code",
   "execution_count": null,
   "metadata": {},
   "outputs": [],
   "source": [
    "# Configure logging (optional, but recommended)\n",
    "logging.basicConfig(level=logging.INFO, format=\"%(asctime)s - %(levelname)s - %(message)s\")\n",
    "\n",
    "# Load project configuration file\n",
    "config_file_path = r\"C:\\Users\\manue\\Documents\\GitHubMLSN\\sn-libraries\\notebooks\\ig_JK_config.json\"  # Replace with the actual path\n",
    "config = Config(config_file_path=config_file_path)  # Create Config object with path\n",
    "username = config.get(\"username\")\n",
    "password = config.get(\"password\")\n",
    "\n",
    "# Authenticate using IgClient\n",
    "igcl = IgClient(session_file=config.get(\"settings_file_path\"))  \n",
    "igcl.login(username, password)\n",
    "\n",
    "#Instantiate objects\n",
    "ig_utils = IgUtils(igcl)\n",
    "post_manager = IgPostManager(igcl)"
   ]
  },
  {
   "cell_type": "code",
   "execution_count": null,
   "metadata": {},
   "outputs": [],
   "source": [
    "# post test\n",
    "\n",
    "path = r\"C:\\Users\\manue\\Documents\\GitHubMLSN\\JK Peru Photos\\IMG_3239.JPG\"\n",
    "correct_orientation(Path(path))\n",
    "\n",
    "caption = \" more by #JKTravels\"\n"
   ]
  },
  {
   "cell_type": "code",
   "execution_count": null,
   "metadata": {},
   "outputs": [],
   "source": [
    "\n",
    "location_comas = ig_utils.get_location_by_pk(250765185)\n"
   ]
  },
  {
   "cell_type": "code",
   "execution_count": null,
   "metadata": {},
   "outputs": [],
   "source": [
    "# one photo upload_photo\n",
    "\n",
    "ig_photo_post = post_manager.upload_photo(\n",
    "    photo_path=path, caption=caption, location=location_comas)\n"
   ]
  },
  {
   "cell_type": "code",
   "execution_count": null,
   "metadata": {},
   "outputs": [],
   "source": [
    "\n",
    "print(type(ig_photo_post))\n",
    "print(ig_photo_post.location_name)"
   ]
  },
  {
   "cell_type": "code",
   "execution_count": null,
   "metadata": {},
   "outputs": [],
   "source": [
    "print(ig_photo_post.media_id)\n",
    "print(ig_photo_post.media_type)\n",
    "print(ig_photo_post.caption)\n",
    "print(ig_photo_post.timestamp)\n",
    "print(ig_photo_post.media_url)\n",
    "\n",
    "# ... (print other attributes)\n"
   ]
  },
  {
   "cell_type": "code",
   "execution_count": null,
   "metadata": {},
   "outputs": [],
   "source": [
    "# one video_post with upload_video\n",
    "location_larcomar = ig_utils.get_location_by_pk(101440375504236)\n",
    "path = r\"C:\\Users\\manue\\Documents\\GitHubMLSN\\JK Peru Photos\\Belmond Miraflores Park.mp4\"\n",
    "caption = \"Some tim ago I took this where today sits the wonderfull hotel @belmondmiraflorespark\"\n"
   ]
  },
  {
   "cell_type": "code",
   "execution_count": null,
   "metadata": {},
   "outputs": [],
   "source": [
    "ig_video_post = post_manager.upload_video(video_path=path, caption=caption, location=location_larcomar)"
   ]
  },
  {
   "cell_type": "code",
   "execution_count": null,
   "metadata": {},
   "outputs": [],
   "source": [
    "print(ig_video_post)"
   ]
  },
  {
   "cell_type": "code",
   "execution_count": null,
   "metadata": {},
   "outputs": [],
   "source": [
    "# upload album post with upload_album\n",
    "media_paths = [\n",
    "    Path(r\"C:\\Users\\manue\\Documents\\GitHubMLSN\\JK Peru Photos\\IMG_3197.JPG\"),\n",
    "    Path(r\"C:\\Users\\manue\\Documents\\GitHubMLSN\\JK Peru Photos\\IMG_3227.JPG\"),\n",
    "    Path(r\"C:\\Users\\manue\\Documents\\GitHubMLSN\\JK Peru Photos\\VID_20151108_162632485.mp4\"),\n",
    "    Path(r\"C:\\Users\\manue\\Documents\\GitHubMLSN\\JK Peru Photos\\IMG_3197.JPG\")  # Add more paths as needed\n",
    "]\n",
    "for path in media_paths:\n",
    "    correct_orientation(path)  # Correct orientation before uploading\n",
    "caption = \"\"\"\n",
    "street photography in Lima\n",
    "\"\"\"\n",
    "ig_album_post = post_manager.upload_album(paths=media_paths, caption=caption, location=location_comas)\n"
   ]
  },
  {
   "cell_type": "code",
   "execution_count": null,
   "metadata": {},
   "outputs": [],
   "source": [
    "\n",
    "print(ig_album_post)\n"
   ]
  },
  {
   "cell_type": "code",
   "execution_count": null,
   "metadata": {},
   "outputs": [],
   "source": [
    "# one reel upload_reel \n",
    "\n",
    "path = r\"C:\\Users\\manue\\Documents\\GitHubMLSN\\JK Peru Photos\\dog.mp4\"\n",
    "caption = \"dogs run on further down the Malecom\"\n",
    "\n",
    "ig_reel = post_manager.upload_video(path, caption=caption, location= location_larcomar)"
   ]
  },
  {
   "cell_type": "code",
   "execution_count": null,
   "metadata": {},
   "outputs": [],
   "source": [
    "print(type(ig_reel))\n",
    "print(ig_reel)"
   ]
  },
  {
   "cell_type": "code",
   "execution_count": null,
   "metadata": {},
   "outputs": [],
   "source": [
    "# one reel with music upload_video_with_music\n",
    "\n",
    "track_id: str = \"318570269071669\"\n",
    "\n",
    "track = IgUtils.get_track_by_id(track_id)\n",
    "print(type(track))\n",
    "print(track)\n"
   ]
  },
  {
   "cell_type": "code",
   "execution_count": null,
   "metadata": {},
   "outputs": [],
   "source": [
    "path = r\"C:\\Users\\manue\\Documents\\GitHubMLSN\\JK Peru Photos\\dog.mp4\"\n",
    "caption = \"dogs run on further down the Malecom towards Barranco\"\n",
    "reel_with_music = post_manager.upload_reel_with_music(path=path, caption=caption, track=track, location=location_larcomar)"
   ]
  },
  {
   "cell_type": "code",
   "execution_count": null,
   "metadata": {},
   "outputs": [],
   "source": []
  }
 ],
 "metadata": {
  "kernelspec": {
   "display_name": "sn-env",
   "language": "python",
   "name": "python3"
  },
  "language_info": {
   "codemirror_mode": {
    "name": "ipython",
    "version": 3
   },
   "file_extension": ".py",
   "mimetype": "text/x-python",
   "name": "python",
   "nbconvert_exporter": "python",
   "pygments_lexer": "ipython3",
   "version": "3.12.4"
  }
 },
 "nbformat": 4,
 "nbformat_minor": 2
}
