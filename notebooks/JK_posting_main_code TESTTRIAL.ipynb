{
 "cells": [
  {
   "cell_type": "code",
   "execution_count": null,
   "metadata": {},
   "outputs": [],
   "source": [
    "def publish_post(post_manager: IgPostManager, row: pd.Series):\n",
    "    \"\"\"\n",
    "    Publishes a post based on the data in the row.\n",
    "    \"\"\"\n",
    "    post_type = row[\"post_type\"].lower()\n",
    "    media_path = row[\"Video/photo path\"]\n",
    "    caption = row[\"Caption\"]\n",
    "    hashtags = row[\"Hashtags\"]\n",
    "    mentions = row[\"Mentions\"]\n",
    "    \n",
    "    print(\"post_type:\", post_type)\n",
    "    print(media_path)\n",
    "    print(caption)\n",
    "    print(hashtags)\n",
    "    print(mentions)\n",
    "\n",
    "    location_pk = int(row.get(\"Location\"))   # Get location PK from the row\n",
    "    location = ig_utils.get_location_by_pk(location_pk)\n",
    "       \n",
    "    location_dict = ig_utils.location_to_dict(location)\n",
    "    print(\"location_pk: \", location_pk, \"followed by the location.json\")\n",
    "    print(json.dump(location_dict, f, indent=4))\n",
    "    \n",
    "    if post_type == \"photo\":\n",
    "        return post_manager.upload_photo(media_path, caption, location)\n",
    "    elif post_type == \"video\":\n",
    "        return post_manager.upload_video(media_path, caption, location_pk, hashtags=hashtags, mentions=mentions)\n",
    "    elif post_type == \"album\":\n",
    "        media_paths = media_path.split(\",\")\n",
    "        return post_manager.upload_album(media_paths, caption, location_pk, hashtags=hashtags, mentions=mentions)\n",
    "    else:\n",
    "        raise ValueError(f\"Invalid post type: {post_type}\")\n"
   ]
  },
  {
   "cell_type": "code",
   "execution_count": null,
   "metadata": {},
   "outputs": [],
   "source": [
    "def load_and_merge_post_history(new_posts_df):\n",
    "    \"\"\"\n",
    "    Loads existing post history from a JSON file, merges it with new posts,\n",
    "    and returns the combined DataFrame.\n",
    "    \"\"\"\n",
    "    post_history_file = config.get(\"post_history_file\")\n",
    "\n",
    "    if os.path.exists(post_history_file):\n",
    "        with open(post_history_file, \"r\", encoding=\"utf-8\") as f:\n",
    "            existing_posts = json.load(f).get(\"posts\", [])\n",
    "        existing_df = create_post_dataframe(\n",
    "            [IgPost(**post_data) for post_data in existing_posts]\n",
    "        )\n",
    "        df_posts = pd.concat([existing_df, new_posts_df], ignore_index=True)\n",
    "    else:\n",
    "        df_posts = new_posts_df\n",
    "        df_posts[\"published\"] = False\n",
    "        df_posts[\"failed_attempts\"] = 0\n",
    "        df_posts[\"last_failed_attempt\"] = None\n",
    "\n",
    "    return df_posts"
   ]
  },
  {
   "cell_type": "markdown",
   "metadata": {},
   "source": [
    "## Main\n"
   ]
  },
  {
   "cell_type": "code",
   "execution_count": 1,
   "metadata": {},
   "outputs": [],
   "source": [
    "\n",
    "\"\"\"\n",
    "main.py:\n",
    "Schedules and publishes Instagram posts from an Excel spreadsheet,\n",
    "managing post history and retrying failed uploads.\n",
    "\"\"\"\n",
    "\n",
    "import os\n",
    "import json\n",
    "import random\n",
    "import time\n",
    "import datetime\n",
    "import logging\n",
    "\n",
    "import pandas as pd\n",
    "from pathlib import Path\n",
    "\n",
    "from instagrapi.exceptions import ClientError\n",
    "\n",
    "\n",
    "from ig_config import Config\n",
    "from ig_client import IgClient\n",
    "from ig_utils import IgPost, IgUtils, create_post_dataframe, save_post_dataframe, correct_orientation\n",
    "from ig_post_manager import IgPostManager"
   ]
  },
  {
   "cell_type": "code",
   "execution_count": null,
   "metadata": {},
   "outputs": [],
   "source": [
    "import pprint"
   ]
  },
  {
   "cell_type": "code",
   "execution_count": 2,
   "metadata": {},
   "outputs": [
    {
     "name": "stderr",
     "output_type": "stream",
     "text": [
      "INFO:ig_client:Session loaded successfully.\n",
      "INFO:ig_client:Connected Successfully!\n"
     ]
    }
   ],
   "source": [
    "# Configure logging (optional, but recommended)\n",
    "logging.basicConfig(level=logging.INFO, format=\"%(asctime)s - %(levelname)s - %(message)s\")\n",
    "\n",
    "# Load project configuration file\n",
    "config_file_path = r\"C:\\Users\\manue\\Documents\\GitHubMLSN\\sn-libraries\\notebooks\\ig_JK_config.json\"  # Replace with the actual path\n",
    "config = Config(config_file_path=config_file_path)  # Create Config object with path\n",
    "username = config.get(\"username\")\n",
    "password = config.get(\"password\")\n",
    "\n",
    "# Authenticate using IgClient\n",
    "igcl = IgClient(session_file=config.get(\"settings_file_path\"))  \n",
    "igcl.login(username, password)\n",
    "\n",
    "#Instantiate objects\n",
    "ig_utils = IgUtils(igcl)\n",
    "post_manager = IgPostManager(igcl)"
   ]
  },
  {
   "cell_type": "code",
   "execution_count": 3,
   "metadata": {},
   "outputs": [],
   "source": [
    "# just one post as a test before automation\n",
    "\n",
    "path = r\"C:\\Users\\manue\\Documents\\GitHubMLSN\\JK Peru Photos\\IMG_3239.JPG\"\n",
    "correct_orientation(Path(path))\n",
    "\n",
    "caption = \"  #JKTravels\"\n"
   ]
  },
  {
   "cell_type": "code",
   "execution_count": 4,
   "metadata": {},
   "outputs": [
    {
     "name": "stderr",
     "output_type": "stream",
     "text": [
      "INFO:public_request:[None] [201] GET https://www.instagram.com/explore/locations/250765185/?__a=1&__d=dis\n",
      "ERROR:public_request:Status 201: JSONDecodeError in public_request (url=https://www.instagram.com/explore/locations/250765185/?__a=1&__d=dis) >>> \n",
      "INFO:public_request:[None] [201] GET https://www.instagram.com/explore/locations/250765185/?__a=1&__d=dis\n",
      "ERROR:public_request:Status 201: JSONDecodeError in public_request (url=https://www.instagram.com/explore/locations/250765185/?__a=1&__d=dis) >>> \n",
      "INFO:public_request:[None] [201] GET https://www.instagram.com/explore/locations/250765185/?__a=1&__d=dis\n",
      "ERROR:public_request:Status 201: JSONDecodeError in public_request (url=https://www.instagram.com/explore/locations/250765185/?__a=1&__d=dis) >>> \n",
      "INFO:instagrapi:https://i.instagram.com/api/v1/locations/250765185/location_info/\n",
      "INFO:private_request:johnklanick [200] GET https://i.instagram.com/api/v1/locations/250765185/location_info/ (269.0.0.18.75, OnePlus 6T Dev)\n"
     ]
    }
   ],
   "source": [
    "\n",
    "location_comas = ig_utils.get_location_by_pk(250765185)\n"
   ]
  },
  {
   "cell_type": "code",
   "execution_count": null,
   "metadata": {},
   "outputs": [],
   "source": [
    "print(type(location_comas))"
   ]
  },
  {
   "cell_type": "code",
   "execution_count": null,
   "metadata": {},
   "outputs": [],
   "source": [
    "print(location_comas.__dict__)"
   ]
  },
  {
   "cell_type": "code",
   "execution_count": null,
   "metadata": {},
   "outputs": [],
   "source": [
    "# one photo upload_photo\n",
    "\n",
    "photo_post = post_manager.upload_photo(photo_path=path, caption=caption, location=location_comas)\n",
    "ig_photo_post = IgPost(photo_post)"
   ]
  },
  {
   "cell_type": "code",
   "execution_count": null,
   "metadata": {},
   "outputs": [],
   "source": [
    "\n",
    "print(type(ig_photo_post))\n",
    "pprint.pprint(ig_photo_post)"
   ]
  },
  {
   "cell_type": "code",
   "execution_count": null,
   "metadata": {},
   "outputs": [],
   "source": [
    "#one video_post with upload_video\n",
    "location_larcomar = ig_utils.get_location_by_pk(101440375504236)\n",
    "path = r\"C:\\Users\\manue\\Documents\\GitHubMLSN\\JK Peru Photos\\Belmond Miraflores Park.mp4\"\n",
    "caption = \"Some tim ago I took this where today sits the wonderfull hotel @belmondmiraflorespark\"\n",
    "video_post = post_manager.upload_video(video_path=path, caption=caption, location=location_larcomar)"
   ]
  },
  {
   "cell_type": "code",
   "execution_count": null,
   "metadata": {},
   "outputs": [],
   "source": [
    "ig_video_post = IgPost(video_post)\n",
    "print(type(video_post))\n",
    "pprint.pprint(video_post)"
   ]
  },
  {
   "cell_type": "code",
   "execution_count": null,
   "metadata": {},
   "outputs": [],
   "source": [
    "# upload album post with upload_album\n",
    "media_paths = [\n",
    "    Path(r\"C:\\Users\\manue\\Documents\\GitHubMLSN\\JK Peru Photos\\IMG_3211.JPG\"),\n",
    "    Path(r\"C:\\Users\\manue\\Documents\\GitHubMLSN\\JK Peru Photos\\IMG_3227.JPG\"),\n",
    "    Path(r\"C:\\Users\\manue\\Documents\\GitHubMLSN\\JK Peru Photos\\IMG_3197.JPG\")  # Add more paths as needed\n",
    "]\n",
    "for path in media_paths:\n",
    "    correct_orientation(path)  # Correct orientation before uploading\n",
    "caption = \"\"\"\n",
    "street photography in Lima\n",
    "\"\"\"\n",
    "album_post = post_manager.upload_album(paths=media_paths, caption=caption, location=location_comas)\n"
   ]
  },
  {
   "cell_type": "code",
   "execution_count": null,
   "metadata": {},
   "outputs": [],
   "source": [
    "ig_album_post = IgPost(album_post)\n",
    "print(type(ig_album_post))\n",
    "pprint.pprint(ig_album_post)"
   ]
  },
  {
   "cell_type": "code",
   "execution_count": null,
   "metadata": {},
   "outputs": [],
   "source": [
    "# one reel upload_reel \n",
    "\n",
    "path = r\"C:\\Users\\manue\\Documents\\GitHubMLSN\\JK Peru Photos\\dog.mp4\"\n",
    "caption = \"dogs run on further than the Malecom\"\n",
    "\n",
    "reel = post_manager.upload_video(path, caption=caption, location= location_larcomar)"
   ]
  },
  {
   "cell_type": "code",
   "execution_count": null,
   "metadata": {},
   "outputs": [],
   "source": [
    "ig_reel = IgPost(reel)\n",
    "print(type(ig_reel))\n",
    "print(ig_reel)"
   ]
  },
  {
   "cell_type": "code",
   "execution_count": null,
   "metadata": {},
   "outputs": [],
   "source": [
    "# one reel with music upload_video_with_music\n",
    "\n",
    "track_id: str = \"318570269071669\"\n",
    "\n",
    "track = IgUtils.get_track_by_id(track_id)\n",
    "print(type(track))\n",
    "print(track)\n"
   ]
  },
  {
   "cell_type": "code",
   "execution_count": null,
   "metadata": {},
   "outputs": [],
   "source": [
    "path = r\"C:\\Users\\manue\\Documents\\GitHubMLSN\\JK Peru Photos\\dog.mp4\"\n",
    "caption = \"dogs run on further than the Malecom\"\n",
    "reel_with_music = post_manager.upload_reel_with_music(path=path, caption=caption, track=track, location=location)"
   ]
  },
  {
   "cell_type": "code",
   "execution_count": null,
   "metadata": {},
   "outputs": [],
   "source": [
    "ig_reel_with_music = IgPost(ig_reel_with_music)"
   ]
  },
  {
   "cell_type": "code",
   "execution_count": null,
   "metadata": {},
   "outputs": [],
   "source": [
    "# --------------------------------------------------------------------\n",
    "# --------------------------------------------------------------------\n",
    "# \n",
    "# --------------------------------------------------------------------\n",
    "# Read Excel into DataFrame\n",
    "\n",
    "\n",
    "df_posts = pd.read_excel(r\"C:\\Users\\manue\\Documents\\GitHubMLSN\\sn-libraries\\notebooks\\JK_post_in_queue.xlsx\")\n"
   ]
  },
  {
   "cell_type": "code",
   "execution_count": null,
   "metadata": {},
   "outputs": [],
   "source": [
    "####   NOT RUN UNTIL LATER····\n",
    "\n",
    "# Check if 'published' column exists in the DataFrame\n",
    "if 'published' not in df_posts.columns:\n",
    "    df_posts[\"published\"] = False\n",
    "\n",
    "# Load existing post history and combine with new data\n",
    "df_posts = load_and_merge_post_history(df_posts)\n",
    "\n",
    "print(df_posts['Mentions'].apply(type).unique())\n",
    "\n"
   ]
  },
  {
   "cell_type": "code",
   "execution_count": null,
   "metadata": {},
   "outputs": [],
   "source": [
    "display(df_posts)"
   ]
  },
  {
   "cell_type": "code",
   "execution_count": null,
   "metadata": {},
   "outputs": [],
   "source": [
    "\n",
    "# Replace NaN with empty string in the \"Hashtags\" and \"Mentions\" columns\n",
    "df_posts['Mentions'] = df_posts['Mentions'].fillna('')\n",
    "df_posts['Hashtags'] = df_posts['Hashtags'].fillna('')\n",
    "print(df_posts['Mentions'].apply(type).unique())"
   ]
  },
  {
   "cell_type": "code",
   "execution_count": null,
   "metadata": {},
   "outputs": [],
   "source": [
    "print(df_posts['Mentions'])"
   ]
  },
  {
   "cell_type": "code",
   "execution_count": null,
   "metadata": {},
   "outputs": [],
   "source": [
    "\n",
    "import pprint\n",
    "pprint.pprint(df_posts)\n"
   ]
  },
  {
   "cell_type": "code",
   "execution_count": null,
   "metadata": {},
   "outputs": [],
   "source": [
    "# simplified for 1 post\n",
    "published_posts = []\n",
    "df_posts['failed_attempts'] = 0  # Initialize 'failed_attempts' column here\n",
    "\n",
    "for _, row in df_posts[df_posts['published'] == False].head(2).iterrows():\n",
    "    try:\n",
    "        post = publish_post(post_manager, row)\n",
    "        if post.published:  # Add to the list only if published successfully\n",
    "            published_posts.append(post.to_dict())\n",
    "        else:\n",
    "            # If failed, update the DataFrame with failed attempts and timestamp\n",
    "            df_posts.loc[df_posts['post_id'] == row['post_id'], 'failed_attempts'] = post.failed_attempts\n",
    "            df_posts.loc[df_posts['post_id'] == row['post_id'], 'last_failed_attempt'] = post.last_failed_attempt\n",
    "\n",
    "        time.sleep(random.randint(90, 900))\n",
    "    except Exception as e:\n",
    "        # Handle errors (log, retry, skip, or stop)\n",
    "        logging.error(f\"Error publishing post: {e}\")\n",
    "        row['published'] = False\n",
    "        row['failed_attempts'] += 1\n",
    "        row['last_failed_attempt'] = datetime.datetime.now()\n"
   ]
  },
  {
   "cell_type": "code",
   "execution_count": null,
   "metadata": {},
   "outputs": [],
   "source": [
    "\n",
    "\n",
    "# Schedule posts\n",
    "published_posts = []\n",
    "df_posts['failed_attempts'] = 0  # Initialize 'failed_attempts' column here\n",
    "\n",
    "for _, row in df_posts[df_posts['published'] == False].head(2).iterrows():\n",
    "    try:\n",
    "        post = publish_post(post_manager, row)\n",
    "        if post.published:  # Add to the list only if published successfully\n",
    "            published_posts.append(post.to_dict())\n",
    "        else:\n",
    "            # If failed, update the DataFrame with failed attempts and timestamp\n",
    "            df_posts.loc[df_posts['post_id'] == row['post_id'], 'failed_attempts'] = post.failed_attempts\n",
    "            df_posts.loc[df_posts['post_id'] == row['post_id'], 'last_failed_attempt'] = post.last_failed_attempt\n",
    "\n",
    "        time.sleep(random.randint(90, 900))\n",
    "    except Exception as e:\n",
    "        # Handle errors (log, retry, skip, or stop)\n",
    "        logging.error(f\"Error publishing post: {e}\")\n",
    "        row['published'] = False\n",
    "        row['failed_attempts'] += 1\n",
    "        row['last_failed_attempt'] = datetime.datetime.now()\n"
   ]
  },
  {
   "cell_type": "markdown",
   "metadata": {},
   "source": []
  },
  {
   "cell_type": "code",
   "execution_count": null,
   "metadata": {},
   "outputs": [],
   "source": [
    "print(post_manager)"
   ]
  },
  {
   "cell_type": "code",
   "execution_count": null,
   "metadata": {},
   "outputs": [],
   "source": [
    "\n",
    "print(\"solo queda guardar el historico en algun sitio\")\n",
    "import pprint\n",
    "pprint.pprint(published_posts)\n",
    "\n"
   ]
  },
  {
   "cell_type": "code",
   "execution_count": null,
   "metadata": {},
   "outputs": [],
   "source": [
    "\n",
    "\n",
    "\n",
    "#Update Posts History\n",
    "if os.path.exists(POSTS_HISTORY_FILE):\n",
    "    with open(POSTS_HISTORY_FILE, \"r\", encoding=\"utf-8\") as f:\n",
    "        posts_data = json.load(f)\n",
    "    posts_data[\"posts\"].extend(published_posts)\n",
    "    with open(POSTS_HISTORY_FILE, \"w\", encoding=\"utf-8\") as f:\n",
    "        json.dump(posts_data, f, ensure_ascii=False, indent=4)\n",
    "else: \n",
    "    posts_data = {\"posts\": published_posts}\n",
    "    with open(POSTS_HISTORY_FILE, \"w\", encoding=\"utf-8\") as f:\n",
    "        json.dump(posts_data, f, ensure_ascii=False, indent=4)\n",
    "\n"
   ]
  }
 ],
 "metadata": {
  "kernelspec": {
   "display_name": "sn-env",
   "language": "python",
   "name": "python3"
  },
  "language_info": {
   "codemirror_mode": {
    "name": "ipython",
    "version": 3
   },
   "file_extension": ".py",
   "mimetype": "text/x-python",
   "name": "python",
   "nbconvert_exporter": "python",
   "pygments_lexer": "ipython3",
   "version": "3.12.4"
  }
 },
 "nbformat": 4,
 "nbformat_minor": 2
}
