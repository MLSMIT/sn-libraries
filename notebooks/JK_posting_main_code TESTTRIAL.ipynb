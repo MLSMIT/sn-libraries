{
 "cells": [
  {
   "cell_type": "code",
   "execution_count": null,
   "metadata": {},
   "outputs": [],
   "source": [
    "\n",
    "\"\"\"\n",
    "main.py:\n",
    "Schedules and publishes Instagram posts from an Excel spreadsheet,\n",
    "managing post history and retrying failed uploads.\n",
    "\"\"\"\n",
    "\n",
    "import os\n",
    "import json\n",
    "import random\n",
    "import time\n",
    "import datetime\n",
    "import logging\n",
    "\n",
    "import pandas as pd\n",
    "\n",
    "from instagrapi.exceptions import ClientError\n",
    "\n",
    "\n",
    "from ig_auth import authenticate_and_save_session\n",
    "from ig_client import IgClient\n",
    "from ig_data import IgPost, create_post_dataframe\n",
    "from ig_post_manager import IgPostManager\n",
    "from ig_config import POSTS_HISTORY_FILE\n"
   ]
  },
  {
   "cell_type": "code",
   "execution_count": null,
   "metadata": {},
   "outputs": [],
   "source": [
    "def publish_post(post_manager: IgPostManager, row: pd.Series):\n",
    "    \"\"\"\n",
    "    Publishes a post based on the data in the row.\n",
    "    \"\"\"\n",
    "    post_type = row[\"post_type\"].lower()\n",
    "    media_path = row[\"Video/photo path\"]\n",
    "    caption = row[\"Caption\"]\n",
    "    hashtags = row[\"Hashtags\"]\n",
    "    mentions = row[\"Mentions\"]\n",
    "    \n",
    "    print(\"post_type:\", post_type)\n",
    "    print(media_path)\n",
    "    print(caption)\n",
    "    print(hashtags)\n",
    "    print(mentions)\n",
    "\n",
    "    location_pk = int(row.get(\"Location\"))  # Get location PK from the row\n",
    "    \n",
    "    print(\"location_pk: \", location_pk)\n",
    "    \n",
    "    if post_type == \"photo\":\n",
    "        return post_manager.upload_photo(media_path, caption, location_pk, hashtags=hashtags, mentions=mentions)\n",
    "    elif post_type == \"video\":\n",
    "        return post_manager.upload_video(media_path, caption, location_pk, hashtags=hashtags, mentions=mentions)\n",
    "    elif post_type == \"album\":\n",
    "        media_paths = media_path.split(\",\")\n",
    "        return post_manager.upload_album(media_paths, caption, location_pk, hashtags=hashtags, mentions=mentions)\n",
    "    else:\n",
    "        raise ValueError(f\"Invalid post type: {post_type}\")\n"
   ]
  },
  {
   "cell_type": "code",
   "execution_count": null,
   "metadata": {},
   "outputs": [],
   "source": [
    "def load_and_merge_post_history(new_posts_df):\n",
    "    \"\"\"\n",
    "    Loads existing post history from a JSON file, merges it with new posts,\n",
    "    and returns the combined DataFrame.\n",
    "    \"\"\"\n",
    "\n",
    "    if os.path.exists(POSTS_HISTORY_FILE):\n",
    "        with open(POSTS_HISTORY_FILE, \"r\", encoding=\"utf-8\") as f:\n",
    "            existing_posts = json.load(f).get(\"posts\", [])\n",
    "        existing_df = create_post_dataframe(\n",
    "            [IgPost(**post_data) for post_data in existing_posts]\n",
    "        )\n",
    "        df_posts = pd.concat([existing_df, new_posts_df], ignore_index=True)\n",
    "    else:\n",
    "        df_posts = new_posts_df\n",
    "        df_posts[\"published\"] = False\n",
    "        df_posts[\"failed_attempts\"] = 0\n",
    "        df_posts[\"last_failed_attempt\"] = None\n",
    "\n",
    "    return df_posts"
   ]
  },
  {
   "cell_type": "markdown",
   "metadata": {},
   "source": [
    "## Main\n"
   ]
  },
  {
   "cell_type": "code",
   "execution_count": null,
   "metadata": {},
   "outputs": [],
   "source": [
    "# 1. Authentication (Always attempt authentication first)\n",
    "session_file = \"cl_ig.pkl\"\n",
    "if not os.path.exists(session_file):  # Check if session file exists\n",
    "    authenticate_and_save_session(session_file)\n",
    "\n",
    "# Now, you should have a valid session, so create the client\n",
    "insta_client = IgClient(session_file)\n",
    "post_manager = IgPostManager(insta_client)\n"
   ]
  },
  {
   "cell_type": "code",
   "execution_count": null,
   "metadata": {},
   "outputs": [],
   "source": [
    "\n",
    "# Read Excel into DataFrame\n",
    "df_posts = pd.read_excel(r\"C:\\Users\\manue\\Documents\\GitHubMLSN\\sn-libraries\\notebooks\\JK_post_in_queue.xlsx\")\n",
    "\n",
    "# Check if 'published' column exists in the DataFrame\n",
    "if 'published' not in df_posts.columns:\n",
    "    df_posts[\"published\"] = False\n",
    "\n",
    "# Load existing post history and combine with new data\n",
    "df_posts = load_and_merge_post_history(df_posts)\n",
    "\n",
    "print(df_posts['Mentions'].apply(type).unique())\n",
    "\n"
   ]
  },
  {
   "cell_type": "code",
   "execution_count": null,
   "metadata": {},
   "outputs": [],
   "source": [
    "\n",
    "# Replace NaN with empty string in the \"Hashtags\" and \"Mentions\" columns\n",
    "df_posts['Mentions'] = df_posts['Mentions'].fillna('')\n",
    "df_posts['Hashtags'] = df_posts['Hashtags'].fillna('')\n",
    "print(df_posts['Mentions'].apply(type).unique())"
   ]
  },
  {
   "cell_type": "code",
   "execution_count": null,
   "metadata": {},
   "outputs": [],
   "source": [
    "print(df_posts['Mentions'])"
   ]
  },
  {
   "cell_type": "code",
   "execution_count": null,
   "metadata": {},
   "outputs": [],
   "source": [
    "\n",
    "import pprint\n",
    "pprint.pprint(df_posts)\n"
   ]
  },
  {
   "cell_type": "code",
   "execution_count": null,
   "metadata": {},
   "outputs": [],
   "source": [
    "\n",
    "\n",
    "# Schedule posts\n",
    "published_posts = []\n",
    "df_posts['failed_attempts'] = 0  # Initialize 'failed_attempts' column here\n",
    "\n",
    "for _, row in df_posts[df_posts['published'] == False].head(2).iterrows():\n",
    "    try:\n",
    "        post = publish_post(post_manager, row)\n",
    "        if post.published:  # Add to the list only if published successfully\n",
    "            published_posts.append(post.to_dict())\n",
    "        else:\n",
    "            # If failed, update the DataFrame with failed attempts and timestamp\n",
    "            df_posts.loc[df_posts['post_id'] == row['post_id'], 'failed_attempts'] = post.failed_attempts\n",
    "            df_posts.loc[df_posts['post_id'] == row['post_id'], 'last_failed_attempt'] = post.last_failed_attempt\n",
    "\n",
    "        time.sleep(random.randint(90, 900))\n",
    "    except Exception as e:\n",
    "        # Handle errors (log, retry, skip, or stop)\n",
    "        logging.error(f\"Error publishing post: {e}\")\n",
    "        row['published'] = False\n",
    "        row['failed_attempts'] += 1\n",
    "        row['last_failed_attempt'] = datetime.datetime.now()\n"
   ]
  },
  {
   "cell_type": "markdown",
   "metadata": {},
   "source": []
  },
  {
   "cell_type": "code",
   "execution_count": null,
   "metadata": {},
   "outputs": [],
   "source": [
    "print(post_manager)"
   ]
  },
  {
   "cell_type": "code",
   "execution_count": null,
   "metadata": {},
   "outputs": [],
   "source": [
    "\n",
    "print(\"solo queda guardar el historico en algun sitio\")\n",
    "import pprint\n",
    "pprint.pprint(published_posts)\n",
    "\n"
   ]
  },
  {
   "cell_type": "code",
   "execution_count": null,
   "metadata": {},
   "outputs": [],
   "source": [
    "\n",
    "\n",
    "\n",
    "#Update Posts History\n",
    "if os.path.exists(POSTS_HISTORY_FILE):\n",
    "    with open(POSTS_HISTORY_FILE, \"r\", encoding=\"utf-8\") as f:\n",
    "        posts_data = json.load(f)\n",
    "    posts_data[\"posts\"].extend(published_posts)\n",
    "    with open(POSTS_HISTORY_FILE, \"w\", encoding=\"utf-8\") as f:\n",
    "        json.dump(posts_data, f, ensure_ascii=False, indent=4)\n",
    "else: \n",
    "    posts_data = {\"posts\": published_posts}\n",
    "    with open(POSTS_HISTORY_FILE, \"w\", encoding=\"utf-8\") as f:\n",
    "        json.dump(posts_data, f, ensure_ascii=False, indent=4)\n",
    "\n"
   ]
  }
 ],
 "metadata": {
  "kernelspec": {
   "display_name": "sn-env",
   "language": "python",
   "name": "python3"
  },
  "language_info": {
   "codemirror_mode": {
    "name": "ipython",
    "version": 3
   },
   "file_extension": ".py",
   "mimetype": "text/x-python",
   "name": "python",
   "nbconvert_exporter": "python",
   "pygments_lexer": "ipython3",
   "version": "3.12.4"
  }
 },
 "nbformat": 4,
 "nbformat_minor": 2
}
