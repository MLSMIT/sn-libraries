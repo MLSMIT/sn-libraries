{
 "cells": [
  {
   "cell_type": "code",
   "execution_count": 1,
   "metadata": {},
   "outputs": [],
   "source": [
    "import logging\n",
    "import json\n",
    "from ig_auth import authenticate_and_save_session\n",
    "from ig_client import IgClient\n",
    "from ig_config import Config\n",
    "from ig_utils import IgUtils\n",
    "\n"
   ]
  },
  {
   "cell_type": "code",
   "execution_count": 2,
   "metadata": {},
   "outputs": [
    {
     "name": "stderr",
     "output_type": "stream",
     "text": [
      "INFO:ig_client:Session loaded successfully.\n",
      "INFO:ig_client:Connected Successfully!\n"
     ]
    }
   ],
   "source": [
    "# Configure logging (optional, but recommended)\n",
    "logging.basicConfig(level=logging.INFO, format=\"%(asctime)s - %(levelname)s - %(message)s\")\n",
    "\n",
    "# Load project configuration file\n",
    "config_file_path = r\"C:\\Users\\manue\\Documents\\GitHubMLSN\\sn-libraries\\notebooks\\ig_JK_config.json\"  # Replace with the actual path\n",
    "config = Config(config_file_path=config_file_path)  # Create Config object with path\n",
    "username = config.get(\"username\")\n",
    "password = config.get(\"password\")\n",
    "\n",
    "# Authenticate using IgClient\n",
    "client = IgClient(session_file=config.get(\"settings_file_path\"))  \n",
    "client.login(username, password)"
   ]
  },
  {
   "cell_type": "code",
   "execution_count": 3,
   "metadata": {},
   "outputs": [],
   "source": [
    "# Instantiate IgUtils\n",
    "ig_utils = IgUtils(client)"
   ]
  },
  {
   "cell_type": "markdown",
   "metadata": {},
   "source": [
    "Now, when you run main.py, it will:\n",
    "\n",
    " - Fetch location information based on PK and Print the location details to the console.\n",
    " - Fetch location information based on name and Print the location details to the console.\n",
    " - Fetch the top 2 locations based on name and Print the location details to the console.\n",
    " - Save the location information to the corresponding JSON files (location_by_pk.json, location_by_name.json or top_locations.json)."
   ]
  },
  {
   "cell_type": "code",
   "execution_count": null,
   "metadata": {},
   "outputs": [],
   "source": [
    "# Fetch location by PK\n",
    "location_pk = config.get(\"location_pk\", None)  # Get PK from config, or use None as default\n",
    "if location_pk:\n",
    "    location = ig_utils.get_location_by_pk(location_pk)\n",
    "    if location:\n",
    "        logging.info(f\"Location found by PK {location_pk}: {location}\")\n",
    "\n",
    "        # Save location to JSON (use path from config, or default to \"location_by_pk.json\")\n",
    "        location_dict = ig_utils.location_to_dict(location)\n",
    "        with open(\n",
    "            config.get(\"location_output_file\", \"location_by_pk.json\"), \"w\"\n",
    "        ) as f:\n",
    "            json.dump(location_dict, f, indent=4)\n",
    "        logging.info(\n",
    "            f\"Location saved to {config.get('location_output_file', 'location_by_pk.json')}\"\n",
    "        )\n",
    "    else:\n",
    "        logging.warning(f\"Location not found by PK: {location_pk}\")\n"
   ]
  },
  {
   "cell_type": "code",
   "execution_count": null,
   "metadata": {},
   "outputs": [],
   "source": [
    "# Fetch location by name\n",
    "location_name = \"Huelva\"\n",
    "location_output_file = 'location_by_name.json'\n",
    "location = ig_utils.get_locations_by_name(location_name, limit=1)[0]  # Get the first result\n",
    "\n",
    "if location:\n",
    "    logging.info(f\"Location found by name '{location_name}': {location}\")\n",
    "\n",
    "    # Save location to JSON (use path from config, or default to \"location_by_name.json\")\n",
    "    location_dict = ig_utils.location_to_dict(location)\n",
    "    with open(\n",
    "        config.get(\"location_output_file\", location_output_file), \"w\"\n",
    "    ) as f:\n",
    "        json.dump(location_dict, f, indent=4)\n",
    "    logging.info(\n",
    "        f\"Location saved to {config.get('location_output_file', 'location_by_name.json')}\"\n",
    "    )\n",
    "else:\n",
    "    logging.warning(f\"No location found for '{location_name}'\")\n"
   ]
  },
  {
   "cell_type": "code",
   "execution_count": 4,
   "metadata": {},
   "outputs": [
    {
     "name": "stderr",
     "output_type": "stream",
     "text": [
      "INFO:instagrapi:https://i.instagram.com/api/v1/fbsearch/places/\n",
      "INFO:private_request:johnklanick [200] GET https://i.instagram.com/api/v1/fbsearch/places/?search_surface=places_search_page&timezone_offset=-14400&lat=40.74&lng=-73.94&count=30&query=Pozuelo+de+Alarcon (269.0.0.18.75, OnePlus 6T Dev)\n",
      "INFO:root:Top location found: {'pk': 226652734, 'name': 'Pozuelo de Alarcón, Madrid', 'address': '', 'lng': -3.8144, 'lat': 40.4352, 'external_id': 111744885510390, 'external_id_source': 'facebook_places', 'city': '', 'zip': None, 'category': '', 'phone': '', 'website': ''}\n",
      "INFO:root:Top locations saved to top_locations.json\n"
     ]
    }
   ],
   "source": [
    "# Fetch top 4 locations by name\n",
    "top_locations_output_file = \"top_locations_output_file\"\n",
    "\n",
    "top_locations = ig_utils.get_top_locations_by_name(\"Pozuelo de Alarcon\", limit=4)\n",
    "\n",
    "if top_locations:\n",
    "    locations_data = []\n",
    "    for loc in top_locations:\n",
    "        location_dict = ig_utils.location_to_dict(loc)\n",
    "        locations_data.append(location_dict)\n",
    "        logging.info(f\"Top location found: {location_dict}\")\n",
    "\n",
    "    # Save top locations to JSON (use path from config, or default to \"top_locations.json\")\n",
    "    with open(\n",
    "        config.get(\"top_locations_output_file\", \"top_locations.json\"), \"w\"\n",
    "    ) as f:\n",
    "        json.dump(locations_data, f, indent=4)\n",
    "    logging.info(\n",
    "        f\"Top locations saved to {config.get('top_locations_output_file', 'top_locations.json')}\"\n",
    "    )\n",
    "else:\n",
    "    logging.warning(\"No top locations found.\")\n"
   ]
  }
 ],
 "metadata": {
  "kernelspec": {
   "display_name": "sn-env",
   "language": "python",
   "name": "python3"
  },
  "language_info": {
   "codemirror_mode": {
    "name": "ipython",
    "version": 3
   },
   "file_extension": ".py",
   "mimetype": "text/x-python",
   "name": "python",
   "nbconvert_exporter": "python",
   "pygments_lexer": "ipython3",
   "version": "3.12.4"
  }
 },
 "nbformat": 4,
 "nbformat_minor": 2
}
