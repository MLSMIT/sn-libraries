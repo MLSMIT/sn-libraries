{
 "cells": [
  {
   "cell_type": "code",
   "execution_count": null,
   "metadata": {},
   "outputs": [],
   "source": [
    "### all to create the igcl object"
   ]
  },
  {
   "cell_type": "code",
   "execution_count": null,
   "metadata": {},
   "outputs": [],
   "source": []
  },
  {
   "cell_type": "markdown",
   "metadata": {},
   "source": [
    "#### test of each Method of the St related class"
   ]
  },
  {
   "cell_type": "code",
   "execution_count": null,
   "metadata": {},
   "outputs": [],
   "source": [
    "# ... (your existing code to create 'client')\n",
    "\n",
    "st_manager = IgStManager(client)  # Create the story manager\n",
    "\n",
    "photo_path = Path(\"path/to/your/photo.jpg\")\n",
    "mentions = []  # Create StoryMention objects if needed\n",
    "hashtags = []  # Create StoryHashtag objects if needed\n",
    "links = []    # Create StoryLink objects if needed\n",
    "stickers = [] # Create StorySticker objects if needed\n",
    "captions = [] # If you want to add text to your story\n"
   ]
  },
  {
   "cell_type": "code",
   "execution_count": null,
   "metadata": {},
   "outputs": [],
   "source": [
    "\n",
    "st_manager.upload_story_photo(\n",
    "    photo_path, \n",
    "    mentions=mentions, \n",
    "    hashtags=hashtags, \n",
    "    links=links,\n",
    "    stickers=stickers,\n",
    "    captions=captions)\n"
   ]
  }
 ],
 "metadata": {
  "language_info": {
   "name": "python"
  }
 },
 "nbformat": 4,
 "nbformat_minor": 2
}
