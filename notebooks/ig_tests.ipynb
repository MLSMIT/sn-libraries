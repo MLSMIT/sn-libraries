{
 "cells": [
  {
   "cell_type": "markdown",
   "metadata": {},
   "source": [
    "Notebook to test and experiment with IG Classes\n",
    "There are some trials to check HikerAPI, but there are no test of the post and comment treatment using Instagrapy"
   ]
  },
  {
   "cell_type": "markdown",
   "metadata": {},
   "source": [
    "### Variable setting and other initial imports"
   ]
  },
  {
   "cell_type": "code",
   "execution_count": 1,
   "metadata": {},
   "outputs": [],
   "source": [
    "\"\"\"\n",
    "main.py:\n",
    "Example usage of the Instagram client, post manager, and music features to automate content posting.\n",
    "\"\"\"\n",
    "\n",
    "import os, pprint\n",
    "from ig_auth import authenticate_and_save_session\n",
    "from ig_client import IgClient\n",
    "from ig_post_manager import IgPostManager\n"
   ]
  },
  {
   "cell_type": "markdown",
   "metadata": {},
   "source": [
    "### 1. Authentication (If you don't have a session file yet)"
   ]
  },
  {
   "cell_type": "code",
   "execution_count": 2,
   "metadata": {},
   "outputs": [],
   "source": [
    "# 1. Authentication (Always attempt authentication first)\n",
    "session_file = \"cl_ig.pkl\"\n",
    "if not os.path.exists(session_file):  # Check if session file exists\n",
    "    authenticate_and_save_session(session_file)\n",
    "\n",
    "# Now, you should have a valid session, so create the client\n",
    "insta_client = IgClient(session_file)\n",
    "post_manager = IgPostManager(insta_client)\n"
   ]
  },
  {
   "cell_type": "markdown",
   "metadata": {},
   "source": [
    "#### Initialize a list to store IgPost objects"
   ]
  },
  {
   "cell_type": "code",
   "execution_count": 4,
   "metadata": {},
   "outputs": [],
   "source": [
    "ig_posts = []"
   ]
  },
  {
   "cell_type": "markdown",
   "metadata": {},
   "source": [
    "### Test the basic APIs for p-mgmt"
   ]
  },
  {
   "cell_type": "code",
   "execution_count": null,
   "metadata": {},
   "outputs": [],
   "source": [
    "# 2. Post a Photo:\n",
    "photo_path = r\"C:\\Users\\manue\\Documents\\GitHubMLSN\\JK Peru Photos\\IMG-20160212-WA0018.jpeg\"\n",
    "photo_caption = \"\"\"Chasing sunsets along the enchanting Malecon in Miraflores, Lima. 🌅 \n",
    "Embracing the golden hues as the sun dips below the horizon, \n",
    "painting the sky in a masterpiece of colors. \n",
    "Where's your favorite sunset spot? Share below! \n",
    "\n",
    "#SunsetMagic #MirafloresSunset \n",
    "#LimaSunsets #MaleconViews #GoldenHourGram #PeruvianSunsets #TravelDiaries #SunsetChasers #NaturePhotography #TravelGram #WanderlustAdventures\"\"\"\n",
    "\n",
    "location_pk = 61047499  # Malecón Cisneros - Miraflores\n",
    "ig_post = post_manager.upload_photo(photo_path, photo_caption, location_pk=location_pk)\n",
    "ig_posts.append(ig_post) \n"
   ]
  },
  {
   "cell_type": "code",
   "execution_count": null,
   "metadata": {},
   "outputs": [],
   "source": [
    "# Create the Pandas DataFrame\n",
    "from ig_data import create_post_dataframe, save_post_dataframe\n",
    "\n",
    "df_posts = create_post_dataframe(ig_posts)\n",
    "print(df_posts)\n",
    "\n",
    "# Save the dataframe\n",
    "save_post_dataframe(df_posts, filename=\"my_instagram_posts_2.csv\")"
   ]
  },
  {
   "cell_type": "code",
   "execution_count": null,
   "metadata": {},
   "outputs": [],
   "source": [
    "\n",
    "# 3. Post a Video:\n",
    "video_path = r\"C:\\Users\\manue\\Documents\\GitHubMLSN\\JK Peru Photos\\VID_20151108_161118266.mp4\"  # Replace with your actual video path\n",
    "video_caption = \"\"\"Witness Otto, our four-legged skateboarding star, \n",
    "breaking records with style and skill! 🐾🛹\n",
    "#OttoTheSkateboardingDog \n",
    "#WorldRecordHolder #TalentOnFourPaws #DogSkateboarder #RecordBreakingPup #lima #peru \n",
    "# malecomcisneros #travelexperiences #funnyfacts @ottoskater\"\"\"\n",
    "\n",
    "ig_post = post_manager.upload_video(video_path, video_caption)\n",
    "\n",
    "ig_posts.append(ig_post)  # Store the post object"
   ]
  },
  {
   "cell_type": "code",
   "execution_count": null,
   "metadata": {},
   "outputs": [],
   "source": [
    "# Create the Pandas DataFrame\n",
    "from ig_data import create_post_dataframe, save_post_dataframe\n",
    "\n",
    "df_posts = create_post_dataframe(ig_posts)\n",
    "print(df_posts)"
   ]
  },
  {
   "cell_type": "code",
   "execution_count": null,
   "metadata": {},
   "outputs": [],
   "source": [
    "\n",
    "# 4. Post a Carousel (Album) of Photos and Videos:\n",
    "location_pk = 61047499  # Malecón Cisneros - Miraflores\n",
    "\n",
    "paths = [\n",
    "    r\"C:\\Users\\manue\\Documents\\GitHubMLSN\\JK Peru Photos\\IMG_20151108_163642941.jpg\",\n",
    "    r\"C:\\Users\\manue\\Documents\\GitHubMLSN\\JK Peru Photos\\IMG_20151108_163629670.jpg\",\n",
    "    r\"C:\\Users\\manue\\Documents\\GitHubMLSN\\JK Peru Photos\\IMG-20151108-WA0001.jpg\",\n",
    "    r\"C:\\Users\\manue\\Documents\\GitHubMLSN\\JK Peru Photos\\VID_20151108_162632485.mp4\"\n",
    "]\n",
    "\n",
    "album_caption = \"🐾 Throwback to November 2015 on the Malecón in Miraflores, Lima, where Otto the skateboarding bulldog made history! 🛹 \",\n",
    "\"🐶 Otto cruised his way into the Guinness World Records by skating through the longest human tunnel ever attempted by a dog.\", \n",
    "\"🏅A paw-some achievement for this furry athlete!   \", \n",
    "\"#SkateboardingDog #GuinnessWorldRecord #Miraflores #Lima #Peru #TravelPeru #DogsofInstagram #AdventureDog #FourLeggedFun\"\n",
    "\n",
    "post_manager.upload_album(paths, album_caption)\n",
    "\n",
    "ig_posts.append(ig_post)  # Store the post object"
   ]
  },
  {
   "cell_type": "markdown",
   "metadata": {},
   "source": [
    "### save info and printing"
   ]
  },
  {
   "cell_type": "code",
   "execution_count": null,
   "metadata": {},
   "outputs": [],
   "source": [
    "# Create the Pandas DataFrame\n",
    "df_posts = create_post_dataframe(ig_posts)\n",
    "print(df_posts)\n",
    "\n",
    "# Save the dataframe\n",
    "save_post_dataframe(df_posts, filename=\"my_instagram_posts.csv\")"
   ]
  },
  {
   "cell_type": "code",
   "execution_count": null,
   "metadata": {},
   "outputs": [],
   "source": [
    "\n",
    "# 5. Upload a Reel with Music:\n",
    "reel_video_path = \"path/to/your/reel.mp4\"\n",
    "reel_caption = \"Having fun with this new trend! #dance #music\"\n"
   ]
  },
  {
   "cell_type": "markdown",
   "metadata": {},
   "source": [
    "Type of music_results: It's likely a list or some iterable collection of objects representing music tracks found in the search.\n",
    "Arguments/Parameters: Each music track object in music_results probably has attributes like:\n",
    "id: A unique identifier for the music track.\n",
    "title: The title of the song.\n",
    "artist: The name of the artist.\n",
    "album: The name of the album (if applicable).\n",
    "cover_url: A URL to the album cover image.\n"
   ]
  },
  {
   "cell_type": "code",
   "execution_count": 5,
   "metadata": {},
   "outputs": [
    {
     "ename": "AttributeError",
     "evalue": "'IgPostManager' object has no attribute 'search_music'",
     "output_type": "error",
     "traceback": [
      "\u001b[1;31m---------------------------------------------------------------------------\u001b[0m",
      "\u001b[1;31mAttributeError\u001b[0m                            Traceback (most recent call last)",
      "Cell \u001b[1;32mIn[5], line 5\u001b[0m\n\u001b[0;32m      1\u001b[0m \u001b[38;5;66;03m# Option A: Search for music on Instagram\u001b[39;00m\n\u001b[0;32m      4\u001b[0m search_query \u001b[38;5;241m=\u001b[39m \u001b[38;5;124m\"\u001b[39m\u001b[38;5;124mManuel Carrasco\u001b[39m\u001b[38;5;124m\"\u001b[39m\n\u001b[1;32m----> 5\u001b[0m music_results \u001b[38;5;241m=\u001b[39m \u001b[43mpost_manager\u001b[49m\u001b[38;5;241;43m.\u001b[39;49m\u001b[43msearch_music\u001b[49m(search_query)\n\u001b[0;32m      6\u001b[0m selected_track_id \u001b[38;5;241m=\u001b[39m music_results[\u001b[38;5;241m0\u001b[39m]\u001b[38;5;241m.\u001b[39mid  \u001b[38;5;66;03m# Choose the first result (be sure to validate!)\u001b[39;00m\n\u001b[0;32m      8\u001b[0m \u001b[38;5;28;01mif\u001b[39;00m music_results:  \u001b[38;5;66;03m# Check if any results were found\u001b[39;00m\n",
      "\u001b[1;31mAttributeError\u001b[0m: 'IgPostManager' object has no attribute 'search_music'"
     ]
    }
   ],
   "source": [
    "\n",
    "# Option A: Search for music on Instagram\n",
    "\n",
    "\n",
    "search_query = \"Manuel Carrasco\"\n",
    "music_results = post_manager.search_music(search_query)\n",
    "\n",
    "\n",
    "if music_results:  # Check if any results were found\n",
    "    for track in music_results:  # Iterate through the list of music tracks\n",
    "        print(\"----------------------\")\n",
    "        print(f\"ID: {track.id}\")\n",
    "        print(f\"Title: {track.title}\")\n",
    "        print(f\"Artist: {track.artist}\")\n",
    "        # Add more print statements for other attributes you want to display (e.g., album, cover_url, audio_url)\n",
    "\n",
    "else:\n",
    "    print(\"No music tracks found for the given search query.\")"
   ]
  },
  {
   "cell_type": "code",
   "execution_count": null,
   "metadata": {},
   "outputs": [],
   "source": [
    "\n",
    "# Option B: Use your own music\n",
    "# music_path = \"path/to/your/music.mp3\"\n",
    "# selected_track_id = post_manager.client.music_upload(music_path)\n",
    "\n",
    "post_manager.upload_reel_with_music(reel_video_path, selected_track_id, reel_caption)\n"
   ]
  },
  {
   "cell_type": "markdown",
   "metadata": {},
   "source": [
    "### Test the more advance p-mgmt APIs"
   ]
  },
  {
   "cell_type": "code",
   "execution_count": null,
   "metadata": {},
   "outputs": [],
   "source": [
    "from ig_client import IgClient\n",
    "from ig_post_manager import IgPostManager\n",
    "\n",
    "insta_client = IgClient()\n",
    "post_manager = IgPostManager(insta_client)\n",
    "\n",
    "# Upload video with a music track\n",
    "video_path = \"path/to/your/video.mp4\"\n",
    "music_path = \"path/to/your/music.mp3\"\n",
    "post = post_manager.upload_video_with_music(video_path, music_path, \"My awesome video with music!\")\n",
    "\n",
    "\n",
    "# Search for music\n",
    "music_results = post_manager.search_music(\"Upbeat pop\")\n",
    "for track in music_results:\n",
    "    print(f\"{track.id}: {track.title} - {track.artist}\")\n",
    "\n",
    "# Select a track by its ID and upload a reel\n",
    "selected_track_id = music_results[0].id  # Choose the first track\n",
    "post = post_manager.upload_reel_with_music(\"path/to/your/reel.mp4\", selected_track_id, \"My fun reel!\")\n"
   ]
  },
  {
   "cell_type": "markdown",
   "metadata": {},
   "source": [
    "### Several Test for Hiker API to get info"
   ]
  },
  {
   "cell_type": "markdown",
   "metadata": {},
   "source": [
    "# NEED TO CONVERT INTO METHODS OF A CLASS"
   ]
  },
  {
   "cell_type": "code",
   "execution_count": null,
   "metadata": {},
   "outputs": [],
   "source": [
    "%pip install --upgrade hikerapi\n",
    "\n",
    "\n"
   ]
  },
  {
   "cell_type": "code",
   "execution_count": null,
   "metadata": {},
   "outputs": [],
   "source": [
    "from hikerapi import Client\n",
    "hiker_api_key = os.environ[\"HikerAPI_key\"]\n",
    "cl = Client(token=hiker_api_key)  "
   ]
  },
  {
   "cell_type": "code",
   "execution_count": null,
   "metadata": {},
   "outputs": [],
   "source": [
    "print(type(cl))"
   ]
  },
  {
   "cell_type": "code",
   "execution_count": null,
   "metadata": {},
   "outputs": [],
   "source": [
    "print(hiker_api_key)"
   ]
  },
  {
   "cell_type": "markdown",
   "metadata": {},
   "source": [
    "### Hiker API - Get user info"
   ]
  },
  {
   "cell_type": "code",
   "execution_count": null,
   "metadata": {},
   "outputs": [],
   "source": [
    "\n",
    "\n",
    "user_info = cl.user_by_username_v2(\"huelvafoodie\")\n",
    "\n",
    "pprint(user_info)"
   ]
  },
  {
   "cell_type": "markdown",
   "metadata": {},
   "source": [
    "## Extract the most important Huelva influencers profiles by name\n",
    "### store them in a JSON file"
   ]
  },
  {
   "cell_type": "code",
   "execution_count": null,
   "metadata": {},
   "outputs": [],
   "source": [
    "import os\n",
    "import json\n",
    "from hikerapi import Client\n",
    "\n",
    "def fetch_and_save_profiles(usernames, output_file=\"instagram_profiles.json\"):\n",
    "    \"\"\"Fetches user profiles from HikerAPI and saves the data to a JSON file.\n",
    "\n",
    "    Args:\n",
    "        usernames: A list of Instagram usernames to fetch.\n",
    "        output_file: The path to the JSON file where data will be saved.\n",
    "    \"\"\"\n",
    "    \n",
    "    # Load your HikerAPI key securely from an environment variable\n",
    "    hiker_api_key = os.environ.get(\"HikerAPI_key\")\n",
    "    if not hiker_api_key:\n",
    "        raise ValueError(\"HikerAPI_key environment variable not found.\")\n",
    "\n",
    "    # Create the HikerAPI client\n",
    "    cl = Client(token=hiker_api_key)\n",
    "\n",
    "    all_profile_data = []\n",
    "\n",
    "    for username in usernames:\n",
    "        try:\n",
    "            user_info = cl.user_by_username_v2(username)\n",
    "\n",
    "            # If the request is successful, add it to the list\n",
    "            if user_info['status'] == 'ok':\n",
    "                all_profile_data.append(user_info)\n",
    "            else:\n",
    "                print(f\"Error fetching data for {username}: {user_info.get('error')}\")\n",
    "        except Exception as e:\n",
    "            print(f\"Error fetching data for {username}: {e}\")\n",
    "\n",
    "    # Save the data to a JSON file\n",
    "    with open(output_file, \"w\", encoding=\"utf-8\") as f:\n",
    "        json.dump(all_profile_data, f, ensure_ascii=False, indent=4)\n",
    "\n",
    "\n"
   ]
  },
  {
   "cell_type": "code",
   "execution_count": null,
   "metadata": {},
   "outputs": [],
   "source": [
    "# call the function to fetch the information\n",
    "usernames_to_fetch = [\"capturolavida_emn\",\n",
    "                      \"huelvafoodie\",\n",
    "                      \"laesenciadehuelva\",\n",
    "                      \"huelvagram\",\n",
    "                      \"agendahuelva\",\n",
    "                      \"huelva_secreta\",\n",
    "                      \"huelva.explore\",\n",
    "                      \"huelva24com\",\n",
    "                      \"huelvainformacion\",\n",
    "                      \"huelvahoy\",\n",
    "                      \"huelvaoriginal\"]\n",
    "\n",
    "# Call the function to fetch and save profiles\n",
    "fetch_and_save_profiles(usernames_to_fetch)    # add arg for output_file - default \"instagram_profiles.json\""
   ]
  },
  {
   "cell_type": "markdown",
   "metadata": {},
   "source": [
    "## Extract relevant information from the JSON and store it in a pandas data frame\n",
    "## and, latter, store in a .csv file\n",
    "## to access it with Excel or Google Sheets"
   ]
  },
  {
   "cell_type": "code",
   "execution_count": null,
   "metadata": {},
   "outputs": [],
   "source": [
    "import os\n",
    "import json\n",
    "import pandas as pd\n",
    "\n",
    "def extract_profile_data_from_json(input_file=\"instagram_profiles.json\", output_file=\"instagram_profiles.csv\"):\n",
    "    \"\"\"Loads Instagram profile data from a JSON file, extracts relevant fields,\n",
    "    creates a Pandas DataFrame, and exports it to a CSV file.\n",
    "\n",
    "    Args:\n",
    "        input_file: The path to the JSON file containing the profile data.\n",
    "        output_file: The path to save the CSV file.\n",
    "    \"\"\"\n",
    "\n",
    "    with open(input_file, \"r\", encoding=\"utf-8\") as f:\n",
    "        all_profile_data = json.load(f)\n",
    "\n",
    "    extracted_data = []\n",
    "\n",
    "    for profile in all_profile_data:\n",
    "        if profile[\"status\"] == \"ok\":\n",
    "            user = profile[\"user\"]\n",
    "            extracted_data.append({\n",
    "                \"username\": user[\"username\"],\n",
    "                \"full_name\": user[\"full_name\"],\n",
    "                \"instagram_id\": user.get(\"pk\", user.get(\"pk_id\")),  # Extract the ID (either \"pk\" or \"pk_id\")\n",
    "                \"category\": user[\"category\"],\n",
    "                \"biography\": user[\"biography\"],\n",
    "                \"followers\": user[\"follower_count\"],\n",
    "                \"following\": user[\"following_count\"],\n",
    "                \"is_private\": user[\"is_private\"],\n",
    "                \"is_business\": user[\"is_business\"],\n",
    "                \"is_verified\": user[\"is_verified\"],\n",
    "                \"media_count\": user[\"media_count\"],\n",
    "                \"fb_page_id\": str(user[\"page_id\"]),\n",
    "                \"fb_page_name\": user[\"page_name\"],\n",
    "                \"profile_pic_url\": user[\"profile_pic_url\"],\n",
    "                \"external_url\": user.get(\"external_url\"), # Use get() to handle missing keys\n",
    "                \"bio_links\": [link[\"url\"] for link in user.get(\"bio_links\", [])] # Extract URLs from bio links\n",
    "            })\n",
    "\n",
    "    # Create a DataFrame from the extracted data\n",
    "    df = pd.DataFrame(extracted_data)\n",
    "\n",
    "    # Export the DataFrame to a CSV file (for Google Sheets)\n",
    "    df.to_csv(output_file, index=False)\n",
    "\n",
    "# Example Usage: \n",
    "extract_profile_data_from_json()    # Using default file names\n",
    "                                    # input_file=\"instagram_profiles.json\",\n",
    "                                    # output_file=\"instagram_profiles.csv\"\n",
    "\n",
    "\n"
   ]
  }
 ],
 "metadata": {
  "kernelspec": {
   "display_name": "my_torch_env",
   "language": "python",
   "name": "python3"
  },
  "language_info": {
   "codemirror_mode": {
    "name": "ipython",
    "version": 3
   },
   "file_extension": ".py",
   "mimetype": "text/x-python",
   "name": "python",
   "nbconvert_exporter": "python",
   "pygments_lexer": "ipython3",
   "version": "3.12.4"
  }
 },
 "nbformat": 4,
 "nbformat_minor": 2
}
