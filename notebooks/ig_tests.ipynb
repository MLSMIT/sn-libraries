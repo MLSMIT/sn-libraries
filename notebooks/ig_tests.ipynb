{
 "cells": [
  {
   "cell_type": "markdown",
   "metadata": {},
   "source": [
    "Notebook to test and experiment with IG Classes\n",
    "There are some trials to check HikerAPI, but there are no test of the post and comment treatment using Instagrapy"
   ]
  },
  {
   "cell_type": "markdown",
   "metadata": {},
   "source": [
    "### Variable setting and other initial imports"
   ]
  },
  {
   "cell_type": "code",
   "execution_count": null,
   "metadata": {},
   "outputs": [],
   "source": [
    "\"\"\"\n",
    "main.py:\n",
    "Example usage of the Instagram client, post manager, and music features to automate content posting.\n",
    "\"\"\"\n",
    "\n",
    "import os, pprint\n",
    "import pandas as pd\n",
    "from ig_auth import authenticate_and_save_session\n",
    "from ig_client import IgClient\n",
    "from ig_post_manager import IgPostManager\n"
   ]
  },
  {
   "cell_type": "markdown",
   "metadata": {},
   "source": [
    "### 1. Authentication (If you don't have a session file yet)"
   ]
  },
  {
   "cell_type": "code",
   "execution_count": null,
   "metadata": {},
   "outputs": [],
   "source": [
    "# 1. Authentication (Always attempt authentication first)\n",
    "session_file = \"cl_ig.pkl\"\n",
    "if not os.path.exists(session_file):  # Check if session file exists\n",
    "    authenticate_and_save_session(session_file)\n",
    "\n",
    "# Now, you should have a valid session, so create the client\n",
    "insta_client = IgClient(session_file)\n",
    "post_manager = IgPostManager(insta_client)\n"
   ]
  },
  {
   "cell_type": "markdown",
   "metadata": {},
   "source": [
    "#### Initialize a list to store IgPost objects"
   ]
  },
  {
   "cell_type": "code",
   "execution_count": null,
   "metadata": {},
   "outputs": [],
   "source": [
    "ig_posts = []\n",
    "df_post = pd.DataFrame() "
   ]
  },
  {
   "cell_type": "markdown",
   "metadata": {},
   "source": [
    "### Test the basic APIs for p-mgmt"
   ]
  },
  {
   "cell_type": "markdown",
   "metadata": {},
   "source": [
    "#### # 2. Post a Photo:"
   ]
  },
  {
   "cell_type": "code",
   "execution_count": null,
   "metadata": {},
   "outputs": [],
   "source": [
    "# 2. Post a Photo:\n",
    "photo_path = r\"C:\\Users\\manue\\Documents\\GitHubMLSN\\JK Peru Photos\\IMG-20160212-WA0018.jpeg\"\n",
    "photo_caption = \"\"\"Chasing sunsets along the enchanting Malecon in Miraflores, Lima. 🌅 \n",
    "Embracing the golden hues as the sun dips below the horizon, \n",
    "painting the sky in a masterpiece of colors. \n",
    "Where's your favorite sunset spot? Share below! \n",
    "\n",
    "#SunsetMagic #MirafloresSunset \n",
    "#LimaSunsets #MaleconViews #GoldenHourGram #PeruvianSunsets #TravelDiaries #SunsetChasers #NaturePhotography #TravelGram #WanderlustAdventures\"\"\"\n",
    "\n",
    "location_pk = 61047499  # Malecón Cisneros - Miraflores\n",
    "ig_post = post_manager.upload_photo(photo_path, photo_caption, location_pk=location_pk)\n",
    "ig_posts.append(ig_post) \n"
   ]
  },
  {
   "cell_type": "code",
   "execution_count": null,
   "metadata": {},
   "outputs": [],
   "source": [
    "# Create the Pandas DataFrame to save the above output\n",
    "from ig_data import create_post_dataframe, save_post_dataframe\n",
    "\n",
    "df_posts = create_post_dataframe(ig_posts)\n",
    "print(df_posts)\n",
    "\n",
    "# Save the dataframe\n",
    "save_post_dataframe(df_posts, filename=\"my_instagram_posts_2.csv\")"
   ]
  },
  {
   "cell_type": "markdown",
   "metadata": {},
   "source": [
    "#### # 3. Post a Reel:"
   ]
  },
  {
   "cell_type": "code",
   "execution_count": null,
   "metadata": {},
   "outputs": [],
   "source": [
    "\n",
    "# 3. Post a Reel:\n",
    "video_path = r\"C:\\Users\\manue\\Documents\\GitHubMLSN\\JK Peru Photos\\VID_20151108_161138142.mp4\"  # Replace with your actual video path\n",
    "video_caption = \"\"\"Witness Otto, our four-legged skateboarding star, \n",
    "getting ready to breaking records with style and skill! 🐾🛹\n",
    "#OttoTheSkateboardingDog \n",
    "#WorldRecordHolder #TalentOnFourPaws #DogSkateboarder #RecordBreakingPup #lima #peru \n",
    "# malecomcisneros #travelexperiences #funnyfacts @ottoskater\"\"\"\n",
    "\n",
    "ig_post = post_manager.upload_reel(video_path, video_caption)\n",
    "\n",
    "ig_posts.append(ig_post)  # Store the post object"
   ]
  },
  {
   "cell_type": "code",
   "execution_count": null,
   "metadata": {},
   "outputs": [],
   "source": [
    "# Create the Pandas DataFrame to save the above output\n",
    "from ig_data import create_post_dataframe, save_post_dataframe\n",
    "\n",
    "df_posts = create_post_dataframe(ig_posts)\n",
    "print(df_posts)"
   ]
  },
  {
   "cell_type": "markdown",
   "metadata": {},
   "source": [
    "#### 4. Post a Carousel (Album) of Photos and Videos:\n",
    "\n",
    "#### it never worked due to \n",
    "---------------------------------------------------------------------------\n",
    "ResponseError                             Traceback (most recent call last)\n",
    "ResponseError: too many 500 error responses\n",
    "\n",
    "Possible Reasons:\n",
    "\n",
    "Instagram Server Issues: Instagram's servers might be experiencing temporary problems or undergoing maintenance.\n",
    "API Changes: Instagram might have made changes to their API that are causing unexpected behavior with Instagrapi.\n",
    "Rate Limiting: If you've been uploading a lot of content in a short period, Instagram might be temporarily rate-limiting your account to prevent abuse.\n",
    "Account Flagged: In rare cases, if your account has been flagged for suspicious activity, it could lead to errors when interacting with the API."
   ]
  },
  {
   "cell_type": "code",
   "execution_count": null,
   "metadata": {},
   "outputs": [],
   "source": [
    "\n",
    "# 4. Post a Carousel (Album) of Photos and Videos:\n",
    "location_pk = 61047499  # Malecón Cisneros - Miraflores\n",
    "\n",
    "paths = [\n",
    "    r\"C:\\Users\\manue\\Documents\\GitHubMLSN\\JK Peru Photos\\IMG_20151108_163642941.jpg\",\n",
    "    # r\"C:\\Users\\manue\\Documents\\GitHubMLSN\\JK Peru Photos\\IMG_20151108_163629670.jpg\",\n",
    "    # r\"C:\\Users\\manue\\Documents\\GitHubMLSN\\JK Peru Photos\\IMG-20151108-WA0001.jpg\",\n",
    "    r\"C:\\Users\\manue\\Documents\\GitHubMLSN\\JK Peru Photos\\VID_20151108_162632485.mp4\"\n",
    "]\n",
    "\n",
    "album_caption = \"🐾 Throwback to November 2015 on the Malecón in Miraflores, Lima, where Otto the skateboarding bulldog made history! 🛹 \",\n",
    "\"🐶 Otto cruised his way into the Guinness World Records by skating through the longest human tunnel ever attempted by a dog.\", \n",
    "\"🏅A paw-some achievement for this furry athlete!   \", \n",
    "\"#SkateboardingDog #GuinnessWorldRecord #Miraflores #Lima #Peru #TravelPeru #DogsofInstagram #AdventureDog #FourLeggedFun\"\n",
    "\n",
    "ig_post = post_manager.upload_album(paths, album_caption)\n",
    "\n",
    "ig_posts.append(ig_post)  # Store the post object\n",
    "\n",
    "df_posts = create_post_dataframe(ig_posts)\n",
    "print(df_posts)"
   ]
  },
  {
   "cell_type": "markdown",
   "metadata": {},
   "source": [
    "### save info and printing  --- part is done on the above cells"
   ]
  },
  {
   "cell_type": "code",
   "execution_count": null,
   "metadata": {},
   "outputs": [],
   "source": [
    "# Create the Pandas DataFrame\n",
    "df_posts = create_post_dataframe(ig_posts)\n",
    "print(df_posts)\n",
    "\n",
    "# Save the dataframe\n",
    "save_post_dataframe(df_posts, filename=\"my_instagram_posts.csv\")"
   ]
  },
  {
   "cell_type": "code",
   "execution_count": null,
   "metadata": {},
   "outputs": [],
   "source": [
    "\n",
    "# 5. Upload a Reel with Music:\n",
    "reel_video_path = \"path/to/your/reel.mp4\"\n",
    "reel_caption = \"Having fun with this new trend! #dance #music\"\n"
   ]
  },
  {
   "cell_type": "markdown",
   "metadata": {},
   "source": [
    "### It seems the following advanced methods (# 6 and #7)\n",
    "#### for incorporating background music\n",
    "#### are not available in the API Library - check the source API documentation\n",
    "\n",
    "\n",
    "Type of music_results: It's likely a list or some iterable collection of objects representing music tracks found in the search.\n",
    "Arguments/Parameters: Each music track object in music_results probably has attributes like:\n",
    "id: A unique identifier for the music track.\n",
    "title: The title of the song.\n",
    "artist: The name of the artist.\n",
    "album: The name of the album (if applicable).\n",
    "cover_url: A URL to the album cover image.\n"
   ]
  },
  {
   "cell_type": "code",
   "execution_count": null,
   "metadata": {},
   "outputs": [],
   "source": [
    "print(dir(post_manager))"
   ]
  },
  {
   "cell_type": "code",
   "execution_count": null,
   "metadata": {},
   "outputs": [],
   "source": [
    "\n",
    "# Option A: Search for music on Instagram\n",
    "\n",
    "\n",
    "search_query = \"Manuel Carrasco\"\n",
    "music_results = post_manager.search_music(search_query)\n",
    "\n",
    "if music_results:  # Check if any results were found\n",
    "    for track in music_results:  # Iterate through the list of music tracks\n",
    "        print(\"----------------------\")\n",
    "        print(f\"ID: {track.id}\")\n",
    "        print(f\"Title: {track.title}\")\n",
    "        print(f\"Artist: {track.artist}\")\n",
    "        # Add more print statements for other attributes you want to display (e.g., album, cover_url, audio_url)\n",
    "\n",
    "else:\n",
    "    print(\"No music tracks found for the given search query.\")"
   ]
  },
  {
   "cell_type": "markdown",
   "metadata": {},
   "source": [
    "### Test the more advance p-mgmt APIs"
   ]
  },
  {
   "cell_type": "code",
   "execution_count": null,
   "metadata": {},
   "outputs": [],
   "source": [
    "#### This Method is not working - but needs to be reviewed through the Instagrapi community\n",
    "\n",
    "\n",
    "video_caption = \"🐾 Throwback to November 2015 on the Malecón in Miraflores, Lima, where Otto the skateboarding bulldog made history! 🛹 \",\n",
    "\"🐶 Otto cruised his way into the Guinness World Records by skating through the longest human tunnel ever attempted by a dog.\", \n",
    "\"🏅A paw-some achievement for this furry athlete!   \", \n",
    "\"#SkateboardingDog #GuinnessWorldRecord #Miraflores #Lima #Peru #TravelPeru #DogsofInstagram #AdventureDog #FourLeggedFun\"\n",
    "\n",
    "\n",
    "# Upload video with a music track\n",
    "video_path =  r\"C:\\Users\\manue\\Documents\\GitHubMLSN\\JK Peru Photos\\VID_20151108_163255451.mp4\"\n",
    "music_path =  r\"C:\\Users\\manue\\Documents\\GitHubMLSN\\JK Peru Photos\\music_fx_emotion_driven_expectation__with_classic_mu (1).mp3\"\n",
    "post = post_manager.upload_video_with_music(video_path, music_path, video_caption)\n",
    "\n",
    "\n",
    "# Search for music\n",
    "# music_results = post_manager.search_music(\"Upbeat pop\")\n",
    "# for track in music_results:\n",
    "#     print(f\"{track.id}: {track.title} - {track.artist}\")\n",
    "\n",
    "# Select a track by its ID and upload a reel\n",
    "# selected_track_id = music_results[0].id  # Choose the first track\n",
    "# post = post_manager.upload_reel_with_music(\"path/to/your/reel.mp4\", selected_track_id, \"My fun reel!\")\n"
   ]
  },
  {
   "cell_type": "markdown",
   "metadata": {},
   "source": [
    "### Check reel with music"
   ]
  },
  {
   "cell_type": "code",
   "execution_count": null,
   "metadata": {},
   "outputs": [],
   "source": [
    "#### This Method is not working - but needs to be reviewed through the Instagrapi community\n",
    "\n",
    "# 5. Upload a Reel with Music:\n",
    "reel_video_path = r\"C:\\Users\\manue\\Documents\\GitHubMLSN\\JK Peru Photos\\VID_20151108_163255451.mp4\"\n",
    "reel_caption = \"\"\"This is a Reel test with the same video of Otto the skateboarding bulldog.\n",
    "#SkateboardingDog #GuinnessWorldRecord #Miraflores #Lima #Peru #TravelPeru #DogsofInstagram #AdventureDog #FourLeggedFun\"\"\"\n",
    "location_pk = 61047499  # Malecón Cisneros - Miraflores\n",
    "\n",
    "# Option A: Search for music on Instagram (same as before)\n",
    "# search_query = \"Chill vibes\"\n",
    "# music_results = post_manager.search_music(search_query)\n",
    "# selected_track_id = music_results[0].id\n",
    "\n",
    "# Option B: Use your own music (same as before)\n",
    "music_path = r\"C:\\Users\\manue\\Documents\\GitHubMLSN\\JK Peru Photos\\music_fx_emotion_driven_expectation__with_classic_mu (1).mp3\"\n",
    "\n",
    "\n",
    "ig_post = post_manager.upload_reel_with_music(reel_video_path, music_path, reel_caption, location_pk)\n",
    "\n",
    "ig_posts.append(ig_post)  # Store the post object\n",
    "print(ig_post)\n",
    "\n",
    "# Create the Pandas DataFrame\n",
    "df_posts = create_post_dataframe(ig_posts)\n",
    "print(df_posts)\n",
    "\n",
    "# Save the dataframe\n",
    "save_post_dataframe(df_posts, filename=\"my_instagram_posts-3.csv\")\n"
   ]
  }
 ],
 "metadata": {
  "kernelspec": {
   "display_name": "my_torch_env",
   "language": "python",
   "name": "python3"
  },
  "language_info": {
   "codemirror_mode": {
    "name": "ipython",
    "version": 3
   },
   "file_extension": ".py",
   "mimetype": "text/x-python",
   "name": "python",
   "nbconvert_exporter": "python",
   "pygments_lexer": "ipython3",
   "version": "3.12.4"
  }
 },
 "nbformat": 4,
 "nbformat_minor": 2
}
