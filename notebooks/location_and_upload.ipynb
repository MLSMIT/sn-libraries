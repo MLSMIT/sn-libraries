{
 "cells": [
  {
   "cell_type": "markdown",
   "metadata": {},
   "source": [
    "## check the Loc methods and the upload_ ones"
   ]
  },
  {
   "cell_type": "code",
   "execution_count": 1,
   "metadata": {},
   "outputs": [],
   "source": [
    "\n",
    "import os\n",
    "import json\n",
    "import random\n",
    "import time\n",
    "import datetime\n",
    "import logging\n",
    "\n",
    "import pandas as pd\n",
    "from typing import Optional\n",
    "\n",
    "from instagrapi.exceptions import ClientError, ClientJSONDecodeError\n",
    "\n",
    "\n",
    "from ig_auth import authenticate_and_save_session\n",
    "from ig_client import IgClient\n",
    "from ig_data import IgPost, create_post_dataframe\n",
    "from ig_post_manager import IgPostManager\n",
    "from config import POSTS_HISTORY_FILE\n"
   ]
  },
  {
   "cell_type": "code",
   "execution_count": 2,
   "metadata": {},
   "outputs": [],
   "source": [
    "from instagrapi import Client"
   ]
  },
  {
   "cell_type": "code",
   "execution_count": 3,
   "metadata": {},
   "outputs": [],
   "source": [
    "from instagrapi.types import Location "
   ]
  },
  {
   "cell_type": "markdown",
   "metadata": {},
   "source": [
    "## VPN connect before session start"
   ]
  },
  {
   "cell_type": "code",
   "execution_count": 4,
   "metadata": {},
   "outputs": [
    {
     "name": "stderr",
     "output_type": "stream",
     "text": [
      "INFO:instagrapi:https://i.instagram.com/api/v1/launcher/sync/\n",
      "INFO:private_request:johnklanick [200] POST https://i.instagram.com/api/v1/launcher/sync/ (269.0.0.18.75, OnePlus 6T Dev)\n",
      "INFO:instagrapi:https://i.instagram.com/api/v1/accounts/login/\n",
      "INFO:private_request:johnklanick [200] POST https://i.instagram.com/api/v1/accounts/login/ (269.0.0.18.75, OnePlus 6T Dev)\n",
      "INFO:instagrapi:https://i.instagram.com/api/v1/feed/reels_tray/\n",
      "INFO:private_request:johnklanick [200] POST https://i.instagram.com/api/v1/feed/reels_tray/ (269.0.0.18.75, OnePlus 6T Dev)\n",
      "INFO:instagrapi:https://i.instagram.com/api/v1/feed/timeline/\n",
      "INFO:private_request:johnklanick [200] POST https://i.instagram.com/api/v1/feed/timeline/ (269.0.0.18.75, OnePlus 6T Dev)\n",
      "INFO:ig_auth:Connected Successfully!\n",
      "INFO:ig_client:Session loaded successfully.\n"
     ]
    }
   ],
   "source": [
    "# 1. Authentication (Always attempt authentication first)\n",
    "SESSION_FILE = \"cl_ig.pkl\"\n",
    "if not os.path.exists(SESSION_FILE):  # Check if session file exists\n",
    "    authenticate_and_save_session(SESSION_FILE)\n",
    "\n",
    "# Now, you should have a valid session, so create the client\n",
    "insta_client = IgClient(SESSION_FILE)\n",
    "post_manager = IgPostManager(insta_client)"
   ]
  },
  {
   "cell_type": "code",
   "execution_count": 5,
   "metadata": {},
   "outputs": [
    {
     "name": "stdout",
     "output_type": "stream",
     "text": [
      "Logged in as user ID: 67318685241\n"
     ]
    }
   ],
   "source": [
    "if insta_client.client.user_id:\n",
    "    print(\"Logged in as user ID:\", insta_client.client.user_id)\n",
    "else:\n",
    "    print(\"Not logged in.\")"
   ]
  },
  {
   "cell_type": "code",
   "execution_count": 6,
   "metadata": {},
   "outputs": [],
   "source": [
    "cl = insta_client.client\n"
   ]
  },
  {
   "cell_type": "code",
   "execution_count": 7,
   "metadata": {},
   "outputs": [
    {
     "name": "stdout",
     "output_type": "stream",
     "text": [
      "Logged in as user ID: 67318685241\n"
     ]
    }
   ],
   "source": [
    "if cl.user_id:\n",
    "    print(\"Logged in as user ID:\", cl.user_id)\n",
    "else:\n",
    "    print(\"Not logged in.\")\n"
   ]
  },
  {
   "cell_type": "code",
   "execution_count": 8,
   "metadata": {},
   "outputs": [
    {
     "name": "stderr",
     "output_type": "stream",
     "text": [
      "INFO:public_request:[None] [401] GET https://www.instagram.com/johnklanick/?__a=1&__d=dis\n",
      "INFO:public_request:[None] [401] GET https://www.instagram.com/johnklanick/?__a=1&__d=dis\n",
      "INFO:public_request:[None] [401] GET https://www.instagram.com/johnklanick/?__a=1&__d=dis\n",
      "INFO:instagrapi:https://i.instagram.com/api/v1/users/johnklanick/usernameinfo/\n",
      "INFO:private_request:None [200] GET https://i.instagram.com/api/v1/users/johnklanick/usernameinfo/ (269.0.0.18.75, OnePlus 6T Dev)\n"
     ]
    },
    {
     "name": "stdout",
     "output_type": "stream",
     "text": [
      "Logged in successfully.\n"
     ]
    }
   ],
   "source": [
    "from instagrapi.exceptions import LoginRequired\n",
    "try:\n",
    "    user_info = cl.user_info_by_username('johnklanick') \n",
    "    print(\"Logged in successfully.\")\n",
    "except LoginRequired:\n",
    "    print(\"Not logged in or session expired.\")\n"
   ]
  },
  {
   "cell_type": "markdown",
   "metadata": {},
   "source": [
    "###Location\n",
    "\n",
    "from https://subzeroid.github.io/instagrapi/usage-guide/location.html"
   ]
  },
  {
   "cell_type": "code",
   "execution_count": 9,
   "metadata": {},
   "outputs": [],
   "source": [
    "\n",
    "def get_location_by_pk(client: Client, location_pk: int, retries: int = 3) -> Optional[Location]:\n",
    "    \"\"\"\n",
    "    Retrieves location information by its primary key (PK) using the Instagrapi API.\n",
    "\n",
    "    Args:\n",
    "        client: The Instagrapi Client object for API interactions.\n",
    "        location_pk: The unique identifier (PK) of the location to retrieve.\n",
    "        retries: The number of times to retry the request in case of failure (default is 3).\n",
    "\n",
    "    Returns:\n",
    "        The Location object if found, or None if not found after the specified retries.\n",
    "    \"\"\"\n",
    "\n",
    "    for attempt in range(retries):\n",
    "        try:\n",
    "            location: Location = client.location_info(location_pk)\n",
    "            return location \n",
    "        except ClientJSONDecodeError as e:\n",
    "            print(f\"Attempt {attempt + 1} failed for location PK {location_pk}: {e}\")\n",
    "            if attempt < retries - 1:  # Only sleep if there are more retries left\n",
    "                delay = 2 ** attempt + random.uniform(0, 1)  # Exponential backoff with jitter\n",
    "                time.sleep(delay)   # Introduce a delay before retrying\n",
    "\n",
    "    print(f\"Could not retrieve location info for PK {location_pk} after {retries} attempts.\")\n",
    "    return None  # Return None to indicate failure\n"
   ]
  },
  {
   "cell_type": "code",
   "execution_count": 10,
   "metadata": {},
   "outputs": [
    {
     "name": "stderr",
     "output_type": "stream",
     "text": [
      "INFO:public_request:[None] [201] GET https://www.instagram.com/explore/locations/61047499/?__a=1&__d=dis\n",
      "ERROR:public_request:Status 201: JSONDecodeError in public_request (url=https://www.instagram.com/explore/locations/61047499/?__a=1&__d=dis) >>> \n",
      "INFO:public_request:[None] [201] GET https://www.instagram.com/explore/locations/61047499/?__a=1&__d=dis\n",
      "ERROR:public_request:Status 201: JSONDecodeError in public_request (url=https://www.instagram.com/explore/locations/61047499/?__a=1&__d=dis) >>> \n",
      "INFO:public_request:[None] [201] GET https://www.instagram.com/explore/locations/61047499/?__a=1&__d=dis\n",
      "ERROR:public_request:Status 201: JSONDecodeError in public_request (url=https://www.instagram.com/explore/locations/61047499/?__a=1&__d=dis) >>> \n",
      "INFO:instagrapi:https://i.instagram.com/api/v1/locations/61047499/location_info/\n",
      "INFO:private_request:None [200] GET https://i.instagram.com/api/v1/locations/61047499/location_info/ (269.0.0.18.75, OnePlus 6T Dev)\n"
     ]
    },
    {
     "name": "stdout",
     "output_type": "stream",
     "text": [
      "Location found: pk=61047499 name='Malecon Cisneros Miraflores' phone='' website='http://www.miraflores.gob.pe' category='Beach' hours={'status': 'Open 24 hours', 'current_status': 'Open 24 hours', 'hours_today': '', 'schedule': [], 'is_open': True} address='' city='Lima, Peru' zip='15074' lng=None lat=None external_id=428571523840202 external_id_source=None\n"
     ]
    }
   ],
   "source": [
    "\n",
    "\n",
    "# Example usage\n",
    "location = get_location_by_pk(cl, 61047499) \n",
    "\n",
    "if location:\n",
    "    print(\"Location found:\", location)\n",
    "else:\n",
    "    print(\"Location not found.\")\n"
   ]
  },
  {
   "cell_type": "code",
   "execution_count": 11,
   "metadata": {},
   "outputs": [
    {
     "name": "stdout",
     "output_type": "stream",
     "text": [
      "{\n",
      "    \"pk\": 61047499,\n",
      "    \"name\": \"Malecon Cisneros Miraflores\",\n",
      "    \"phone\": \"\",\n",
      "    \"website\": \"http://www.miraflores.gob.pe\",\n",
      "    \"category\": \"Beach\",\n",
      "    \"hours\": {\n",
      "        \"status\": \"Open 24 hours\",\n",
      "        \"current_status\": \"Open 24 hours\",\n",
      "        \"hours_today\": \"\",\n",
      "        \"schedule\": [],\n",
      "        \"is_open\": true\n",
      "    },\n",
      "    \"address\": \"\",\n",
      "    \"city\": \"Lima, Peru\",\n",
      "    \"zip\": \"15074\",\n",
      "    \"lng\": null,\n",
      "    \"lat\": null,\n",
      "    \"external_id\": 428571523840202,\n",
      "    \"external_id_source\": null\n",
      "}\n"
     ]
    }
   ],
   "source": [
    "# Assuming 'location' contains the <class 'instagrapi.types.Location'> object\n",
    "location_dict = {\n",
    "    \"pk\": location.pk,\n",
    "    \"name\": location.name,\n",
    "    \"phone\": location.phone,\n",
    "    \"website\": location.website,\n",
    "    \"category\": location.category,\n",
    "    \"hours\": location.hours,  # Nested dictionary, already in a readable format\n",
    "    \"address\": location.address,\n",
    "    \"city\": location.city,\n",
    "    \"zip\": location.zip,\n",
    "    \"lng\": location.lng,\n",
    "    \"lat\": location.lat,\n",
    "    \"external_id\": location.external_id,\n",
    "    \"external_id_source\": location.external_id_source,\n",
    "}\n",
    "\n",
    "formatted_json = json.dumps(location_dict, indent=4)\n",
    "print(formatted_json)\n"
   ]
  },
  {
   "cell_type": "code",
   "execution_count": 12,
   "metadata": {},
   "outputs": [
    {
     "name": "stderr",
     "output_type": "stream",
     "text": [
      "INFO:instagrapi:https://i.instagram.com/api/v1/fbsearch/places/\n",
      "INFO:private_request:None [200] GET https://i.instagram.com/api/v1/fbsearch/places/?search_surface=places_search_page&timezone_offset=-14400&lat=40.74&lng=-73.94&count=30&query=punta+umbria (269.0.0.18.75, OnePlus 6T Dev)\n"
     ]
    }
   ],
   "source": [
    "def get_location_by_name(location_name, retries=3):\n",
    "    for attempt in range(retries):\n",
    "        try:\n",
    "            location = cl.fbsearch_places(location_name)  # Or use location_info_a1 if you're sure\n",
    "            return location\n",
    "        except ClientJSONDecodeError as e:\n",
    "            print(f\"Attempt {attempt + 1} failed: {e}\")\n",
    "            if attempt < retries - 1:\n",
    "                time.sleep(10)  # Delay before retrying\n",
    "    raise Exception(f\"Could not retrieve location info from name after {retries} attempts.\")\n",
    "\n",
    "location = get_location_by_name('punta umbria')"
   ]
  },
  {
   "cell_type": "code",
   "execution_count": 17,
   "metadata": {},
   "outputs": [
    {
     "name": "stdout",
     "output_type": "stream",
     "text": [
      "{\n",
      "    \"pk\": 265297120,\n",
      "    \"name\": \"El Rocio , Almonte\",\n",
      "    \"phone\": \"\",\n",
      "    \"website\": \"\",\n",
      "    \"category\": \"\",\n",
      "    \"hours\": {},\n",
      "    \"address\": \"\",\n",
      "    \"city\": \"\",\n",
      "    \"zip\": null,\n",
      "    \"lng\": -6.47485654398,\n",
      "    \"lat\": 37.1771048062,\n",
      "    \"external_id\": 210466289080691,\n",
      "    \"external_id_source\": \"facebook_places\"\n",
      "}\n"
     ]
    }
   ],
   "source": [
    "# Assuming 'location' contains the <class 'instagrapi.types.Location'> object\n",
    "location_dict = {\n",
    "    \"pk\": location.pk,\n",
    "    \"name\": location.name,\n",
    "    \"phone\": location.phone,\n",
    "    \"website\": location.website,\n",
    "    \"category\": location.category,\n",
    "    \"hours\": location.hours,  # Nested dictionary, already in a readable format\n",
    "    \"address\": location.address,\n",
    "    \"city\": location.city,\n",
    "    \"zip\": location.zip,\n",
    "    \"lng\": location.lng,\n",
    "    \"lat\": location.lat,\n",
    "    \"external_id\": location.external_id,\n",
    "    \"external_id_source\": location.external_id_source,\n",
    "}\n",
    "\n",
    "formatted_json = json.dumps(location_dict, indent=4)\n",
    "print(formatted_json)\n",
    "\n"
   ]
  },
  {
   "cell_type": "code",
   "execution_count": 14,
   "metadata": {},
   "outputs": [
    {
     "name": "stderr",
     "output_type": "stream",
     "text": [
      "INFO:instagrapi:https://i.instagram.com/api/v1/fbsearch/places/\n",
      "INFO:private_request:None [200] GET https://i.instagram.com/api/v1/fbsearch/places/?search_surface=places_search_page&timezone_offset=-14400&lat=40.74&lng=-73.94&count=30&query=El+Rocio (269.0.0.18.75, OnePlus 6T Dev)\n"
     ]
    },
    {
     "name": "stdout",
     "output_type": "stream",
     "text": [
      "pk=240482382 name='El Rocío, Andalucia, Spain' phone='' website='' category='' hours={} address='' city='' zip=None lng=-6.48778 lat=37.1333 external_id=110310265653776 external_id_source='facebook_places'\n",
      "pk=131009990801778 name='El Rocío' phone='' website='' category='' hours={} address='  Calle Ermita del Rocío ' city='El Rocío' zip=None lng=-5.98162 lat=37.4079 external_id=131009990801778 external_id_source='facebook_places'\n",
      "pk=265297120 name='El Rocio , Almonte' phone='' website='' category='' hours={} address='' city='' zip=None lng=-6.47485654398 lat=37.1771048062 external_id=210466289080691 external_id_source='facebook_places'\n"
     ]
    }
   ],
   "source": [
    "from typing import List\n",
    "from instagrapi import Client\n",
    "from instagrapi.exceptions import ClientJSONDecodeError\n",
    "import time\n",
    "\n",
    "def get_top_locations_by_name(client: Client, location_name: str, top_n: int = 3, retries: int = 3) -> List:\n",
    "    \"\"\"\n",
    "    Retrieves the top N locations matching the given location name using Instagrapi's fbsearch_places.\n",
    "\n",
    "    Args:\n",
    "        client: The Instagrapi Client object for interacting with the API.\n",
    "        location_name: The name of the location to search for.\n",
    "        top_n: The number of top results to return (default is 3).\n",
    "        retries: The number of times to retry the request if it fails (default is 3).\n",
    "\n",
    "    Returns:\n",
    "        A list of at most 'top_n' Location objects, or an empty list if none are found or an error occurs.\n",
    "    \"\"\"\n",
    "\n",
    "    for attempt in range(retries):\n",
    "        try:\n",
    "            locations: List = client.fbsearch_places(location_name)\n",
    "            return locations[:top_n]  # Return the top 'top_n' results\n",
    "\n",
    "        except ClientJSONDecodeError as e:\n",
    "            print(f\"Attempt {attempt + 1} failed: {e}\")\n",
    "            if attempt < retries - 1:\n",
    "                time.sleep(10)  # Delay before retrying\n",
    "\n",
    "    print(f\"Could not retrieve location info for '{location_name}' after {retries} attempts.\")\n",
    "    return []  # Return an empty list in case of failure\n",
    "\n",
    "# ... (Assuming you have your 'cl' client object set up)\n",
    "\n",
    "top_locations = get_top_locations_by_name(cl, 'El Rocio')\n",
    "for location in top_locations:\n",
    "    print(location)"
   ]
  },
  {
   "cell_type": "code",
   "execution_count": 16,
   "metadata": {},
   "outputs": [
    {
     "name": "stdout",
     "output_type": "stream",
     "text": [
      "[\n",
      "    {\n",
      "        \"pk\": 240482382,\n",
      "        \"name\": \"El Roc\\u00edo, Andalucia, Spain\",\n",
      "        \"phone\": \"\",\n",
      "        \"website\": \"\",\n",
      "        \"category\": \"\",\n",
      "        \"hours\": {},\n",
      "        \"address\": \"\",\n",
      "        \"city\": \"\",\n",
      "        \"zip\": null,\n",
      "        \"lng\": -6.48778,\n",
      "        \"lat\": 37.1333,\n",
      "        \"external_id\": 110310265653776,\n",
      "        \"external_id_source\": \"facebook_places\"\n",
      "    },\n",
      "    {\n",
      "        \"pk\": 131009990801778,\n",
      "        \"name\": \"El Roc\\u00edo\",\n",
      "        \"phone\": \"\",\n",
      "        \"website\": \"\",\n",
      "        \"category\": \"\",\n",
      "        \"hours\": {},\n",
      "        \"address\": \"  Calle Ermita del Roc\\u00edo \",\n",
      "        \"city\": \"El Roc\\u00edo\",\n",
      "        \"zip\": null,\n",
      "        \"lng\": -5.98162,\n",
      "        \"lat\": 37.4079,\n",
      "        \"external_id\": 131009990801778,\n",
      "        \"external_id_source\": \"facebook_places\"\n",
      "    },\n",
      "    {\n",
      "        \"pk\": 265297120,\n",
      "        \"name\": \"El Rocio , Almonte\",\n",
      "        \"phone\": \"\",\n",
      "        \"website\": \"\",\n",
      "        \"category\": \"\",\n",
      "        \"hours\": {},\n",
      "        \"address\": \"\",\n",
      "        \"city\": \"\",\n",
      "        \"zip\": null,\n",
      "        \"lng\": -6.47485654398,\n",
      "        \"lat\": 37.1771048062,\n",
      "        \"external_id\": 210466289080691,\n",
      "        \"external_id_source\": \"facebook_places\"\n",
      "    }\n",
      "]\n"
     ]
    }
   ],
   "source": [
    "if top_locations:\n",
    "    locations_data = []  # List to store location dictionaries\n",
    "    for location in top_locations:\n",
    "        location_dict = {\n",
    "            \"pk\": location.pk,\n",
    "            \"name\": location.name,\n",
    "            \"phone\": location.phone,\n",
    "            \"website\": location.website,\n",
    "            \"category\": location.category,\n",
    "            \"hours\": location.hours,\n",
    "            \"address\": location.address,\n",
    "            \"city\": location.city,\n",
    "            \"zip\": location.zip,\n",
    "            \"lng\": location.lng,\n",
    "            \"lat\": location.lat,\n",
    "            \"external_id\": location.external_id,\n",
    "            \"external_id_source\": location.external_id_source,\n",
    "        }\n",
    "        locations_data.append(location_dict)\n",
    "\n",
    "    formatted_json = json.dumps(locations_data, indent=4)\n",
    "    print(formatted_json)\n",
    "else:\n",
    "    print(\"No locations found.\")"
   ]
  },
  {
   "cell_type": "code",
   "execution_count": null,
   "metadata": {},
   "outputs": [],
   "source": [
    "# Assuming 'location' contains the <class 'instagrapi.types.Location'> object\n",
    "location_dict = {\n",
    "    \"pk\": location.pk,\n",
    "    \"name\": location.name,\n",
    "    \"phone\": location.phone,\n",
    "    \"website\": location.website,\n",
    "    \"category\": location.category,\n",
    "    \"hours\": location.hours,  # Nested dictionary, already in a readable format\n",
    "    \"address\": location.address,\n",
    "    \"city\": location.city,\n",
    "    \"zip\": location.zip,\n",
    "    \"lng\": location.lng,\n",
    "    \"lat\": location.lat,\n",
    "    \"external_id\": location.external_id,\n",
    "    \"external_id_source\": location.external_id_source,\n",
    "}\n",
    "\n",
    "formatted_json = json.dumps(location_dict, indent=4)\n",
    "print(formatted_json)\n"
   ]
  },
  {
   "cell_type": "markdown",
   "metadata": {},
   "source": [
    "### upload\n",
    "\n",
    "from https://subzeroid.github.io/instagrapi/usage-guide/media.html\n",
    " "
   ]
  },
  {
   "cell_type": "code",
   "execution_count": null,
   "metadata": {},
   "outputs": [],
   "source": []
  },
  {
   "cell_type": "markdown",
   "metadata": {},
   "source": [
    "### Find Track\n",
    "\n",
    "at https://subzeroid.github.io/instagrapi/usage-guide/track.html\n",
    "\n",
    "\n",
    "remember from (https://subzeroid.github.io/instagrapi/ )\n",
    "Public (anonymous request via web api) methods have a suffix _gql (Instagram GraphQL) or _a1 (example https://www.instagram.com/example/?__a=1)\n",
    "Private (authorized request via mobile api) methods have _v1 suffix\n",
    "\n",
    "The first request to fetch media/user is public (anonymous), if instagram raise exception, then use private (authorized).\n",
    "Example (pseudo-code):\n",
    "\n",
    "def media_info(media_pk):\n",
    "    try:\n",
    "        return self.media_info_gql(media_pk)\n",
    "    except ClientError as e:\n",
    "        # Restricted Video: This video is not available in your country.\n",
    "        # Or media from private account\n",
    "        return self.media_info_v1(media_pk)"
   ]
  },
  {
   "cell_type": "code",
   "execution_count": null,
   "metadata": {},
   "outputs": [],
   "source": []
  }
 ],
 "metadata": {
  "kernelspec": {
   "display_name": "sn-env",
   "language": "python",
   "name": "python3"
  },
  "language_info": {
   "codemirror_mode": {
    "name": "ipython",
    "version": 3
   },
   "file_extension": ".py",
   "mimetype": "text/x-python",
   "name": "python",
   "nbconvert_exporter": "python",
   "pygments_lexer": "ipython3",
   "version": "3.12.4"
  }
 },
 "nbformat": 4,
 "nbformat_minor": 2
}
