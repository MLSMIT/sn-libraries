{
 "cells": [
  {
   "cell_type": "markdown",
   "metadata": {},
   "source": [
    "# to run in all cases\n",
    "### get the credentials and instantiate the fb_client"
   ]
  },
  {
   "cell_type": "markdown",
   "metadata": {},
   "source": [
    "### Environmental Variables based on App and User/Page\n",
    "App M001\n",
    " - FB_M001_App_id\n",
    " - FB_M001_App_secret\n",
    " - FB_M001_user_token\n",
    " - FB_M001_DH_App_token (Access toke page)\n",
    " - FB_M001_ES_App_token (Access toke page)\n",
    "\n",
    "ES\n",
    " - FB_ES_App_id\n",
    " - FB_ES_App_secret\n",
    " - FB_ES_user_token\n",
    " - FB_ES_ES_App_token (Access toke page)\n",
    "\n",
    "\n",
    "Pages:\n",
    " - FB_DH_Pg_id - DH Page ID: 122097693698010058 \n",
    " - FB_ES_Pg_id - ES Page ID: 303403436189223\n"
   ]
  },
  {
   "cell_type": "code",
   "execution_count": 1,
   "metadata": {},
   "outputs": [
    {
     "name": "stdout",
     "output_type": "stream",
     "text": [
      "['c:\\\\Users\\\\manue\\\\AppData\\\\Local\\\\Programs\\\\Python\\\\Python312\\\\python312.zip', 'c:\\\\Users\\\\manue\\\\AppData\\\\Local\\\\Programs\\\\Python\\\\Python312\\\\DLLs', 'c:\\\\Users\\\\manue\\\\AppData\\\\Local\\\\Programs\\\\Python\\\\Python312\\\\Lib', 'c:\\\\Users\\\\manue\\\\AppData\\\\Local\\\\Programs\\\\Python\\\\Python312', '', 'C:\\\\Users\\\\manue\\\\AppData\\\\Roaming\\\\Python\\\\Python312\\\\site-packages', 'C:\\\\Users\\\\manue\\\\AppData\\\\Roaming\\\\Python\\\\Python312\\\\site-packages\\\\win32', 'C:\\\\Users\\\\manue\\\\AppData\\\\Roaming\\\\Python\\\\Python312\\\\site-packages\\\\win32\\\\lib', 'C:\\\\Users\\\\manue\\\\AppData\\\\Roaming\\\\Python\\\\Python312\\\\site-packages\\\\Pythonwin', 'c:\\\\Users\\\\manue\\\\AppData\\\\Local\\\\Programs\\\\Python\\\\Python312\\\\Lib\\\\site-packages', 'C:\\\\Users\\\\manue\\\\Documents\\\\GitHubMLSN\\\\sn-libraries\\\\src']\n",
      "sys.executable:  c:\\Users\\manue\\AppData\\Local\\Programs\\Python\\Python312\\python.exe\n"
     ]
    }
   ],
   "source": [
    "import sys\n",
    "sys.path.append(r\"C:\\Users\\manue\\Documents\\GitHubMLSN\\sn-libraries\\src\")\n",
    "print(sys.path)\n",
    "print(\"sys.executable: \", sys.executable)\n"
   ]
  },
  {
   "cell_type": "code",
   "execution_count": null,
   "metadata": {},
   "outputs": [],
   "source": [
    "import os\n",
    "from typing import Dict, Optional, Any, List\n",
    "from pprint import pprint\n",
    "\n",
    "from fb_api_client import FbApiClient\n"
   ]
  },
  {
   "cell_type": "code",
   "execution_count": null,
   "metadata": {},
   "outputs": [],
   "source": [
    "import os\n",
    "from typing import Dict, Optional, Any, List\n",
    "from pprint import pprint\n",
    "\n",
    "from fb_api_client import FbApiClient\n",
    "from fb_post_manager import FbPostManager\n",
    "from fb_utils import FbUtils\n",
    "from fb_comment_manager import FbCommentManager\n",
    "\n",
    "\n",
    "import logging\n",
    "logging.basicConfig(level=logging.DEBUG)  # Set the logging level to DEBUG\n",
    "\n",
    "# Load credentials (RELEVANT IF I AM GOING TO USE\n",
    "# DIFFERENT CREDENTIALS THAT THOSE DEFINED ON THE FacebookAPIClient Class load credentials)\n",
    "\n",
    "try:\n",
    "    app_id = os.environ[\"FB_M001_App_id\"]\n",
    "    app_secret = os.environ[\"FB_M001_App_secret\"]\n",
    "    access_token = os.environ[\"FB_M001_DH_App_token\"]\n",
    "    page_id = os.environ[\"FB_DH_Pg_id\"]\n",
    "    user_id = os.environ[\"FB_LS_User_id\"]\n",
    "\n",
    "    \n",
    "except KeyError:\n",
    "    print(\"Error: Environment variables not set. Please set them before running the tests.\")\n",
    "    exit(1)  # Exit with error code\n",
    "\n",
    "\n",
    "# Instantiate the FacebookAPIClient and PostManager\n",
    "fb_client = FbApiClient(app_id, app_secret, access_token, page_id)\n",
    "fb_post_manager = FbPostManager(fb_client)\n",
    "fb_utils = FbUtils(fb_client)\n",
    "fb_comment_manager = FbCommentManager(fb_client)"
   ]
  },
  {
   "cell_type": "code",
   "execution_count": null,
   "metadata": {},
   "outputs": [],
   "source": [
    "print(\"app_id\", app_id)\n",
    "print(\"app_secret\", app_secret)\n",
    "print(\"access_token\", access_token)\n",
    "print(\"page_id\", page_id)\n",
    "print(\"user_id\", user_id)"
   ]
  },
  {
   "cell_type": "code",
   "execution_count": null,
   "metadata": {},
   "outputs": [],
   "source": [
    "print(type(fb_client))"
   ]
  },
  {
   "cell_type": "code",
   "execution_count": null,
   "metadata": {},
   "outputs": [],
   "source": [
    "print(dir(fb_post_manager)) \n",
    "print(dir(fb_utils))\n",
    "print(dir(fb_comment_manager))\n"
   ]
  },
  {
   "cell_type": "markdown",
   "metadata": {},
   "source": [
    "## Test to get information about a Group\n",
    "### problems to get the id of a group - probably scraping better\n",
    "### problems to get the feed of a Group. Probably scraping better\n",
    "\n"
   ]
  },
  {
   "cell_type": "markdown",
   "metadata": {},
   "source": [
    "## Test to grab the latests posts from any of my pages (num_posts)"
   ]
  },
  {
   "cell_type": "code",
   "execution_count": null,
   "metadata": {},
   "outputs": [],
   "source": [
    "try:\n",
    "    latest_posts = fb_post_manager.get_latest_posts(page_id, num_posts=1)\n",
    "    \n",
    "    if latest_posts:  # Check if the list is not empty\n",
    "        print(\"Latest posts retrieved successfully:\")\n",
    "        for post in latest_posts:\n",
    "            print(f\"  ID: {post['id']}\")\n",
    "            print(f\"  Message: {post.get('message', 'No message available')}\")  # Use get() to handle missing messages\n",
    "            print(f\"  Post link: {post['permalink_url']}\")\n",
    "            print(f\"  Likes Count: {post['likes']['summary']['total_count']}\")\n",
    "            print(f\"  Comments Count: {post['comments']['summary']['total_count']}\")\n",
    "            print(\"---------------------------------------------------------------------\")\n",
    "\n",
    "            # You can print other fields here as well\n",
    "            # ----------------------------------------------------------------------------\n",
    "            # NOTE NOTE NOTE MAY NEED TO Decode message text before printing JSON\n",
    "            # ----------------------------------------------------------------------------\n",
    "            \n",
    "            import json\n",
    "            print(json.dumps(post, indent=4))      # Pretty-print each post individually\n",
    "\n",
    "    else:\n",
    "        print(\"No latest posts found or error retrieving posts.\")\n",
    "except Exception as e:  # Catching general exceptions for this example\n",
    "    print(f\"Error retrieving latest posts: {e}\")\n",
    "\n"
   ]
  },
  {
   "cell_type": "markdown",
   "metadata": {},
   "source": [
    "## Test to retrieve a post and its media by post id"
   ]
  },
  {
   "cell_type": "code",
   "execution_count": null,
   "metadata": {},
   "outputs": [],
   "source": [
    "\n",
    "post_id = \"303403436189223_122115904274316036\"  # Replace with the actual post ID\n",
    "specific_post = fb_post_manager.get_post_by_id(post_id)\n",
    "if specific_post:\n",
    "    import json\n",
    "    print(json.dumps(specific_post, indent=4)) \n",
    "\n",
    "    if \"attachments\" in specific_post:\n",
    "        attachments = specific_post[\"attachments\"][\"data\"]\n",
    "        for attachment in attachments:\n",
    "            media_type = attachment.get(\"media_type\")\n",
    "            if media_type == \"photo\":\n",
    "                photo_url = attachment[\"media\"][\"image\"][\"src\"]\n",
    "                print(f\"Found photo attachment: {photo_url}\")\n",
    "            elif media_type == \"video\":\n",
    "                video_url = attachment[\"media\"][\"source\"]\n",
    "                print(f\"Found video attachment: {video_url}\")\n",
    "            # Add other media types (e.g., \"link\", \"album\") if needed\n",
    "    else:\n",
    "        print(\"No attachments found in this post.\")\n",
    "else:\n",
    "    print(\"No post found or error retrieving post.\")\n"
   ]
  },
  {
   "cell_type": "markdown",
   "metadata": {},
   "source": [
    "## Test to retrieve likes information by post id\n",
    "\n",
    "### Ojo puede no funcionr, pero al extraer toda la informacion del ultio post, si incluye los likes\n",
    "\n"
   ]
  },
  {
   "cell_type": "code",
   "execution_count": null,
   "metadata": {},
   "outputs": [],
   "source": [
    "post_id = \"122097693698010058_122204455964006919\"  # Replace with the actual post ID\n",
    "\n",
    "likes = fb_post_manager.get_post_likes(post_id)\n",
    "\n",
    "print(f\"Post ID: {post_id}\")\n",
    "print(f\"Number of Likes: {len(likes)}\")  \n",
    "for like in likes:\n",
    "    if \"unknown\" in like:\n",
    "        print(f\"Liked by: Unknown user\")\n",
    "    else:\n",
    "        print(f\"Liked by: {like.get('name', 'Unknown Name')}\") \n"
   ]
  },
  {
   "cell_type": "code",
   "execution_count": null,
   "metadata": {},
   "outputs": [],
   "source": []
  },
  {
   "cell_type": "markdown",
   "metadata": {},
   "source": [
    "## Test to retrieve information regarding post shares\n"
   ]
  },
  {
   "cell_type": "code",
   "execution_count": null,
   "metadata": {},
   "outputs": [],
   "source": [
    "post_id = \"122097693698010058_122204455964006919\"  # Replace with the actual post ID\n",
    "shares = fb_post_manager.get_post_shares(post_id)\n",
    "print(type(shares))\n",
    "for item in shares:\n",
    "    pprint(item)  # Pretty-print each item"
   ]
  },
  {
   "cell_type": "markdown",
   "metadata": {},
   "source": [
    "# Tests to interact with comments\n",
    "\n",
    "## Test to read and print the comments of a specific post"
   ]
  },
  {
   "cell_type": "code",
   "execution_count": null,
   "metadata": {},
   "outputs": [],
   "source": [
    "post_id = input(\"Enter the post ID: \")  # You can prompt for the post ID\n",
    "    \n",
    "# Retrieve comments with specified fields\n",
    "comments = fb_comment_manager.get_post_comments(\n",
    "    post_id, fields=[\"id\", \"message\", \"created_time\", \"from\", \"like_count\", \"parent\", \"user_likes\",\"reactions\"]\n",
    ")\n",
    "\n",
    "if comments:\n",
    "    # Process the retrieved comments\n",
    "    for comment in comments:\n",
    "        print(f\"Comment ID: {comment['id']}\")\n",
    "        \n",
    "        # Modified Author Line (handling empty dictionary)\n",
    "        author_info = comment.get('from', {})  \n",
    "        if isinstance(author_info, dict) and author_info:  # Check if it's a non-empty dictionary\n",
    "            author_name = author_info.get('name', \"Unknown Author\")  # Get name or default\n",
    "        else:\n",
    "            author_name = \"Unknown Author (ID: Unknown ID)\" \n",
    "\n",
    "        print(f\"Author: {author_name}\")\n",
    "\n",
    "        print(f\"Message: {comment['message']}\")\n",
    "        print(f\"Created Time: {comment['created_time']}\")\n",
    "        print(f\"Likes: {comment.get('like_count', 0)}\")\n",
    "\n",
    "        # Check if it's a reply\n",
    "        if \"parent\" in comment:\n",
    "            print(f\"Reply to: {comment['parent']['id']}\")\n",
    "        else:\n",
    "            print(\"Not a reply\")\n",
    "\n",
    "        # Check if liked by the user\n",
    "        if comment.get(\"user_likes\"):\n",
    "            print(\"Liked by you\")\n",
    "        else:\n",
    "            print(\"Not liked by you\")\n",
    "\n",
    "        print(\"-\" * 20)  # Separator\n",
    "else:\n",
    "    print(\"No comments found or an error occurred.\")"
   ]
  },
  {
   "cell_type": "code",
   "execution_count": null,
   "metadata": {},
   "outputs": [],
   "source": [
    "pprint(comments)\n"
   ]
  },
  {
   "cell_type": "markdown",
   "metadata": {},
   "source": [
    "## Test to react to comments"
   ]
  },
  {
   "cell_type": "code",
   "execution_count": null,
   "metadata": {},
   "outputs": [],
   "source": [
    "if comments:\n",
    "    for comment in comments:\n",
    "        print(f\"Comment ID: {comment['id']}\")\n",
    "        print(f\"Message: {comment['message']}\")\n",
    "        \n",
    "    while True:  # Loop to keep prompting for reactions until user wants to quit\n",
    "        comment_id_to_react = input(\"Enter the comment ID to react to (or type 'q' to quit): \")\n",
    "        if comment_id_to_react.lower() == 'q':\n",
    "            break\n",
    "\n",
    "        message = input(\"Enter the answer text (or press Enter to skip reply): \")\n",
    "        \n",
    "        # Improved like input handling\n",
    "        while True:\n",
    "            like_input = input(\"Do you want to like the comment? (y/n): \")\n",
    "            if like_input.lower() in ['y', 'n']:\n",
    "                like = like_input.lower() == 'y'\n",
    "                break\n",
    "            else:\n",
    "                print(\"Invalid input. Please enter 'y' for yes or 'n' for no.\")\n",
    "\n",
    "        response = fb_comment_manager.react_to_comment(comment_id_to_react, message=message if message else None, like=like)\n",
    "    \n",
    "        if response:\n",
    "            print(\"Reaction successful:\", response)\n",
    "        else:\n",
    "            print(\"Failed to react to the comment.\")\n",
    "            "
   ]
  },
  {
   "cell_type": "markdown",
   "metadata": {},
   "source": [
    "## Test to publish a message post"
   ]
  },
  {
   "cell_type": "code",
   "execution_count": null,
   "metadata": {},
   "outputs": [],
   "source": [
    "   \n",
    "\n",
    "\n",
    "# Publish a text post\n",
    "text_post_message = \"I loved 2024 Romeria de El Rocio\"\n",
    "try:\n",
    "    text_post_result = fb_post_manager.publish_text_post(page_id, text_post_message)\n",
    "except Exception as e:  # Catching general exceptions for this example\n",
    "    print(f\"Error publishing text post: {e}\")\n",
    "\n",
    "print(\"Text post result:\", text_post_result)\n"
   ]
  },
  {
   "cell_type": "markdown",
   "metadata": {},
   "source": [
    "## Test to publish a one photo post with a message"
   ]
  },
  {
   "cell_type": "code",
   "execution_count": null,
   "metadata": {},
   "outputs": [],
   "source": [
    "\n",
    "\n",
    "photo_post_message = \"El Rocio so full with horses\"\n",
    "photo_path = r\"C:\\Users\\manue\\Documents\\Disfrutando Huelva\\Agrupados para editar\\Rocio - Todos\\Caballos carros y carretas en el rocio\\20240518_131042~2.jpg\"\n",
    "try:\n",
    "    photo_post_result = fb_post_manager.publish_photo_post(page_id, photo_post_message, photo_path)\n",
    "except Exception as e:  # Catching general exceptions for this example\n",
    "    print(f\"Error publishing photo post: {e}\")\n",
    "\n",
    "# Print results\n",
    "    \n",
    "print(\"Photo post result:\", photo_post_result)\n"
   ]
  },
  {
   "cell_type": "markdown",
   "metadata": {},
   "source": [
    "# Utils Tests\n",
    "\n",
    "##  def get_page_or_user_info\n",
    "\n",
    "\n"
   ]
  },
  {
   "cell_type": "code",
   "execution_count": null,
   "metadata": {},
   "outputs": [],
   "source": [
    "user_info = FbUtils.get_page_or_user_info(api_client=fb_client, page_or_user_id=\"303403436189223\")\n",
    "print(user_info)\n",
    "\n",
    "# Fetch specific fields\n",
    "specific_fields = [\"id\", \"name\", \"about\", \"link\", ]\n",
    "page_info = FbUtils.get_page_or_user_info(api_client=fb_client, page_or_user_id=\"303403436189223\", fields=specific_fields)\n",
    "pprint(page_info)"
   ]
  },
  {
   "cell_type": "markdown",
   "metadata": {},
   "source": [
    "##  def get_page_id (scraping)"
   ]
  },
  {
   "cell_type": "markdown",
   "metadata": {},
   "source": [
    "## Get the id of a page by its name"
   ]
  },
  {
   "cell_type": "code",
   "execution_count": null,
   "metadata": {},
   "outputs": [],
   "source": [
    "page_name = \"laesenciadehuelva\"  # Replace with the actual Page name\n",
    "user_id = FbUtils.get_page_id(page_name)\n",
    "\n",
    "if user_id:\n",
    "    print(f\"Found User ID for {page_name}: {user_id}\")\n",
    "else:\n",
    "    print(f\"Could not find User ID for {page_name}.\")"
   ]
  },
  {
   "cell_type": "markdown",
   "metadata": {},
   "source": [
    "# Test for Hiker API"
   ]
  },
  {
   "cell_type": "code",
   "execution_count": null,
   "metadata": {},
   "outputs": [],
   "source": [
    "%pip install --upgrade hikerapi\n",
    "\n",
    "\n"
   ]
  },
  {
   "cell_type": "code",
   "execution_count": null,
   "metadata": {},
   "outputs": [],
   "source": [
    "from hikerapi import Client\n",
    "hiker_api_key = os.environ[\"HikerAPI_key\"]\n",
    "cl = Client(token=hiker_api_key)  "
   ]
  },
  {
   "cell_type": "code",
   "execution_count": null,
   "metadata": {},
   "outputs": [],
   "source": [
    "print(type(cl))"
   ]
  },
  {
   "cell_type": "code",
   "execution_count": null,
   "metadata": {},
   "outputs": [],
   "source": [
    "print(hiker_api_key)"
   ]
  },
  {
   "cell_type": "markdown",
   "metadata": {},
   "source": [
    "### Hiker API - Get user info"
   ]
  },
  {
   "cell_type": "code",
   "execution_count": null,
   "metadata": {},
   "outputs": [],
   "source": [
    "\n",
    "\n",
    "user_info = cl.user_by_username_v2(\"huelvafoodie\")\n",
    "\n",
    "pprint(user_info)"
   ]
  },
  {
   "cell_type": "markdown",
   "metadata": {},
   "source": [
    "## Extract the most important Huelva influencers profiles by name\n",
    "### store them in a JSON file"
   ]
  },
  {
   "cell_type": "code",
   "execution_count": null,
   "metadata": {},
   "outputs": [],
   "source": [
    "import os\n",
    "import json\n",
    "from hikerapi import Client\n",
    "\n",
    "def fetch_and_save_profiles(usernames, output_file=\"instagram_profiles.json\"):\n",
    "    \"\"\"Fetches user profiles from HikerAPI and saves the data to a JSON file.\n",
    "\n",
    "    Args:\n",
    "        usernames: A list of Instagram usernames to fetch.\n",
    "        output_file: The path to the JSON file where data will be saved.\n",
    "    \"\"\"\n",
    "    \n",
    "    # Load your HikerAPI key securely from an environment variable\n",
    "    hiker_api_key = os.environ.get(\"HikerAPI_key\")\n",
    "    if not hiker_api_key:\n",
    "        raise ValueError(\"HikerAPI_key environment variable not found.\")\n",
    "\n",
    "    # Create the HikerAPI client\n",
    "    cl = Client(token=hiker_api_key)\n",
    "\n",
    "    all_profile_data = []\n",
    "\n",
    "    for username in usernames:\n",
    "        try:\n",
    "            user_info = cl.user_by_username_v2(username)\n",
    "\n",
    "            # If the request is successful, add it to the list\n",
    "            if user_info['status'] == 'ok':\n",
    "                all_profile_data.append(user_info)\n",
    "            else:\n",
    "                print(f\"Error fetching data for {username}: {user_info.get('error')}\")\n",
    "        except Exception as e:\n",
    "            print(f\"Error fetching data for {username}: {e}\")\n",
    "\n",
    "    # Save the data to a JSON file\n",
    "    with open(output_file, \"w\", encoding=\"utf-8\") as f:\n",
    "        json.dump(all_profile_data, f, ensure_ascii=False, indent=4)\n",
    "\n",
    "\n"
   ]
  },
  {
   "cell_type": "code",
   "execution_count": null,
   "metadata": {},
   "outputs": [],
   "source": [
    "# call the function to fetch the information\n",
    "usernames_to_fetch = [\"capturolavida_emn\",\n",
    "                      \"huelvafoodie\",\n",
    "                      \"laesenciadehuelva\",\n",
    "                      \"huelvagram\",\n",
    "                      \"agendahuelva\",\n",
    "                      \"huelva_secreta\",\n",
    "                      \"huelva.explore\",\n",
    "                      \"huelva24com\",\n",
    "                      \"huelvainformacion\",\n",
    "                      \"huelvahoy\",\n",
    "                      \"huelvaoriginal\"]\n",
    "\n",
    "# Call the function to fetch and save profiles\n",
    "fetch_and_save_profiles(usernames_to_fetch)    # add arg for output_file - default \"instagram_profiles.json\""
   ]
  },
  {
   "cell_type": "markdown",
   "metadata": {},
   "source": [
    "## Extract relevant information from the JSON and store it in a pandas data frame\n",
    "## and, latter, store in a .csv file\n",
    "## to access it with Excel or Google Sheets"
   ]
  },
  {
   "cell_type": "code",
   "execution_count": null,
   "metadata": {},
   "outputs": [],
   "source": [
    "import os\n",
    "import json\n",
    "import pandas as pd\n",
    "\n",
    "def extract_profile_data_from_json(input_file=\"instagram_profiles.json\", output_file=\"instagram_profiles.csv\"):\n",
    "    \"\"\"Loads Instagram profile data from a JSON file, extracts relevant fields,\n",
    "    creates a Pandas DataFrame, and exports it to a CSV file.\n",
    "\n",
    "    Args:\n",
    "        input_file: The path to the JSON file containing the profile data.\n",
    "        output_file: The path to save the CSV file.\n",
    "    \"\"\"\n",
    "\n",
    "    with open(input_file, \"r\", encoding=\"utf-8\") as f:\n",
    "        all_profile_data = json.load(f)\n",
    "\n",
    "    extracted_data = []\n",
    "\n",
    "    for profile in all_profile_data:\n",
    "        if profile[\"status\"] == \"ok\":\n",
    "            user = profile[\"user\"]\n",
    "            extracted_data.append({\n",
    "                \"username\": user[\"username\"],\n",
    "                \"full_name\": user[\"full_name\"],\n",
    "                \"instagram_id\": user.get(\"pk\", user.get(\"pk_id\")),  # Extract the ID (either \"pk\" or \"pk_id\")\n",
    "                \"category\": user[\"category\"],\n",
    "                \"biography\": user[\"biography\"],\n",
    "                \"followers\": user[\"follower_count\"],\n",
    "                \"following\": user[\"following_count\"],\n",
    "                \"is_private\": user[\"is_private\"],\n",
    "                \"is_business\": user[\"is_business\"],\n",
    "                \"is_verified\": user[\"is_verified\"],\n",
    "                \"media_count\": user[\"media_count\"],\n",
    "                \"fb_page_id\": str(user[\"page_id\"]),\n",
    "                \"fb_page_name\": user[\"page_name\"],\n",
    "                \"profile_pic_url\": user[\"profile_pic_url\"],\n",
    "                \"external_url\": user.get(\"external_url\"), # Use get() to handle missing keys\n",
    "                \"bio_links\": [link[\"url\"] for link in user.get(\"bio_links\", [])] # Extract URLs from bio links\n",
    "            })\n",
    "\n",
    "    # Create a DataFrame from the extracted data\n",
    "    df = pd.DataFrame(extracted_data)\n",
    "\n",
    "    # Export the DataFrame to a CSV file (for Google Sheets)\n",
    "    df.to_csv(output_file, index=False)\n",
    "\n",
    "# Example Usage: \n",
    "extract_profile_data_from_json()    # Using default file names\n",
    "                                    # input_file=\"instagram_profiles.json\",\n",
    "                                    # output_file=\"instagram_profiles.csv\"\n",
    "\n",
    "\n"
   ]
  }
 ],
 "metadata": {
  "kernelspec": {
   "display_name": "Python 3",
   "language": "python",
   "name": "python3"
  },
  "language_info": {
   "codemirror_mode": {
    "name": "ipython",
    "version": 3
   },
   "file_extension": ".py",
   "mimetype": "text/x-python",
   "name": "python",
   "nbconvert_exporter": "python",
   "pygments_lexer": "ipython3",
   "version": "3.12.4"
  }
 },
 "nbformat": 4,
 "nbformat_minor": 2
}
