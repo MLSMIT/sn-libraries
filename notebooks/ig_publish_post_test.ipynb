{
 "cells": [
  {
   "cell_type": "code",
   "execution_count": 65,
   "metadata": {},
   "outputs": [],
   "source": [
    "import logging\n",
    "import json\n",
    "from pathlib import Path\n",
    "from ig_auth import authenticate_and_save_session\n",
    "from ig_client import IgClient\n",
    "from ig_config import Config\n",
    "from ig_utils import IgUtils\n",
    "\n",
    "from ig_client import IgClient\n",
    "from ig_data_tools import IgPost, create_post_dataframe\n",
    "from ig_post_manager import IgPostManager"
   ]
  },
  {
   "cell_type": "code",
   "execution_count": 66,
   "metadata": {},
   "outputs": [],
   "source": [
    "import instagrapi"
   ]
  },
  {
   "cell_type": "code",
   "execution_count": 67,
   "metadata": {},
   "outputs": [
    {
     "name": "stderr",
     "output_type": "stream",
     "text": [
      "INFO:ig_client:Session loaded successfully.\n",
      "INFO:ig_client:Connected Successfully!\n"
     ]
    }
   ],
   "source": [
    "# Configure logging (optional, but recommended)\n",
    "logging.basicConfig(level=logging.INFO, format=\"%(asctime)s - %(levelname)s - %(message)s\")\n",
    "\n",
    "# Load project configuration file\n",
    "config_file_path = r\"C:\\Users\\manue\\Documents\\GitHubMLSN\\sn-libraries\\notebooks\\ig_JK_config.json\"  # Replace with the actual path\n",
    "config = Config(config_file_path=config_file_path)  # Create Config object with path\n",
    "username = config.get(\"username\")\n",
    "password = config.get(\"password\")\n",
    "\n",
    "# Authenticate using IgClient\n",
    "igcl = IgClient(session_file=config.get(\"settings_file_path\"))  \n",
    "igcl.login(username, password)"
   ]
  },
  {
   "cell_type": "code",
   "execution_count": 68,
   "metadata": {},
   "outputs": [],
   "source": [
    "# Instantiate objects\n",
    "ig_utils = IgUtils(igcl)\n",
    "\n",
    "ig_pm = IgPostManager(igcl)"
   ]
  },
  {
   "cell_type": "code",
   "execution_count": 69,
   "metadata": {},
   "outputs": [
    {
     "name": "stderr",
     "output_type": "stream",
     "text": [
      "INFO:public_request:[None] [201] GET https://www.instagram.com/explore/locations/250765185/?__a=1&__d=dis\n",
      "ERROR:public_request:Status 201: JSONDecodeError in public_request (url=https://www.instagram.com/explore/locations/250765185/?__a=1&__d=dis) >>> \n",
      "INFO:public_request:[None] [201] GET https://www.instagram.com/explore/locations/250765185/?__a=1&__d=dis\n",
      "ERROR:public_request:Status 201: JSONDecodeError in public_request (url=https://www.instagram.com/explore/locations/250765185/?__a=1&__d=dis) >>> \n",
      "INFO:public_request:[None] [201] GET https://www.instagram.com/explore/locations/250765185/?__a=1&__d=dis\n",
      "ERROR:public_request:Status 201: JSONDecodeError in public_request (url=https://www.instagram.com/explore/locations/250765185/?__a=1&__d=dis) >>> \n",
      "INFO:instagrapi:https://i.instagram.com/api/v1/locations/250765185/location_info/\n",
      "INFO:private_request:johnklanick [200] GET https://i.instagram.com/api/v1/locations/250765185/location_info/ (269.0.0.18.75, OnePlus 6T Dev)\n"
     ]
    },
    {
     "name": "stdout",
     "output_type": "stream",
     "text": [
      "location_pk:  250765185 followed by the location.json\n",
      "{\n",
      "    \"pk\": 250765185,\n",
      "    \"name\": \"Comas, Lima, Peru\",\n",
      "    \"address\": \"\",\n",
      "    \"lng\": null,\n",
      "    \"lat\": null,\n",
      "    \"external_id\": 108628399160343,\n",
      "    \"external_id_source\": null,\n",
      "    \"city\": \"\",\n",
      "    \"zip\": \"\",\n",
      "    \"category\": \"Subcity\",\n",
      "    \"phone\": \"\",\n",
      "    \"website\": \"http://lujo18.blogspot.com\"\n",
      "}\n"
     ]
    }
   ],
   "source": [
    "media_path = r\"C:\\Users\\manue\\Documents\\GitHubMLSN\\JK Peru Photos\\IMG-20151208-WA0003.jpeg\"\n",
    "caption = \"\"\"I wonder how some people use cars like the one I found \n",
    "on the streets of Lima. But you can see them driving doen the road \n",
    "#cars #lima #traffic\n",
    "\"\"\"\n",
    "location_pk: int = 250765185\n",
    "\n",
    "location = ig_utils.get_location_by_pk(location_pk)\n",
    "    \n",
    "location_dict = ig_utils.location_to_dict(location)\n",
    "print(\"location_pk: \", location_pk, \"followed by the location.json\")\n",
    "formatted_json_string = json.dumps(location_dict, indent=4)  # Serialize to JSON string\n",
    "print(formatted_json_string)   # Print the JSON string to the console"
   ]
  },
  {
   "cell_type": "code",
   "execution_count": 70,
   "metadata": {},
   "outputs": [
    {
     "name": "stdout",
     "output_type": "stream",
     "text": [
      "C:\\Users\\manue\\Documents\\GitHubMLSN\\JK Peru Photos\\IMG-20151208-WA0003.jpeg\n",
      "I wonder how some people use cars like the one I found \n",
      "on the streets of Lima. But you can see them driving doen the road \n",
      "#cars #lima #traffic\n",
      "\n",
      "pk=250765185 name='Comas, Lima, Peru' phone='' website='http://lujo18.blogspot.com' category='Subcity' hours={'status': '', 'current_status': '', 'hours_today': '', 'schedule': [], 'is_open': False} address='' city='' zip='' lng=None lat=None external_id=108628399160343 external_id_source=None\n"
     ]
    }
   ],
   "source": [
    "print(media_path)\n",
    "print(caption)\n",
    "print(location)"
   ]
  },
  {
   "cell_type": "code",
   "execution_count": 71,
   "metadata": {},
   "outputs": [
    {
     "name": "stderr",
     "output_type": "stream",
     "text": [
      "INFO:private_request:johnklanick [200] POST https://i.instagram.com/rupload_igphoto/1719762760276_0_3457750764 (269.0.0.18.75, OnePlus 6T Dev)\n",
      "INFO:instagrapi:https://i.instagram.com/api/v1/media/configure/\n",
      "INFO:private_request:johnklanick [200] POST https://i.instagram.com/api/v1/media/configure/ (269.0.0.18.75, OnePlus 6T Dev)\n",
      "INFO:instagrapi:https://i.instagram.com/api/v1/qe/expose/\n",
      "INFO:private_request:johnklanick [200] POST https://i.instagram.com/api/v1/qe/expose/ (269.0.0.18.75, OnePlus 6T Dev)\n"
     ]
    }
   ],
   "source": [
    "\n",
    "photo_1 = igcl.client.photo_upload(media_path, caption, location=location)"
   ]
  },
  {
   "cell_type": "code",
   "execution_count": 72,
   "metadata": {},
   "outputs": [
    {
     "name": "stdout",
     "output_type": "stream",
     "text": [
      "['#NurserySchoolParty', '#Parade', '#CulturalFestivity', '#FamilyEvent', '#CityLife', '#TravelDiaries', '#WorldTraveler', '#DailyLife', '#TravelPhotography', '#ExploreLocal', '#FestiveVibes']\n"
     ]
    }
   ],
   "source": [
    "hashtags = \"#NurserySchoolParty #Parade #CulturalFestivity #FamilyEvent #CityLife #TravelDiaries #WorldTraveler #DailyLife #TravelPhotography #ExploreLocal #FestiveVibes\"\n",
    "usertags = hashtags.split()  # Split into words based on spaces\n",
    "print(usertags)\n"
   ]
  },
  {
   "cell_type": "code",
   "execution_count": 73,
   "metadata": {},
   "outputs": [],
   "source": [
    "media_path = r\"C:\\Users\\manue\\Documents\\GitHubMLSN\\JK Peru Photos\\VID_20151129_074020138.mp4\"\n",
    "caption = \"\"\"✨ Nature's Spectacle ✨ Witness the mesmerizing dance of thousands of seagulls \n",
    "gracing the beaches near Lima. Their synchronized flight is a \n",
    "breathtaking reminder of the beauty and wonder of our world. 🌍🕊️\n",
    "\n",
    "#NurserySchoolParty #Parade #CulturalFestivity #FamilyEvent #CityLife \n",
    "#TravelDiaries #WorldTraveler #DailyLife #TravelPhotography #ExploreLocal #FestiveVibe\n",
    "\"\"\"\n",
    "\n",
    "\n"
   ]
  },
  {
   "cell_type": "code",
   "execution_count": 74,
   "metadata": {},
   "outputs": [
    {
     "name": "stdout",
     "output_type": "stream",
     "text": [
      "Analyzing video file \"C:\\Users\\manue\\Documents\\GitHubMLSN\\JK Peru Photos\\VID_20151129_074020138.mp4\"\n",
      "Generating thumbnail \"C:\\Users\\manue\\Documents\\GitHubMLSN\\JK Peru Photos\\VID_20151129_074020138.mp4.jpg\"...\n"
     ]
    },
    {
     "name": "stderr",
     "output_type": "stream",
     "text": [
      "INFO:private_request:johnklanick [200] GET https://i.instagram.com/rupload_igvideo/1719762770397_0_6953319233 (269.0.0.18.75, OnePlus 6T Dev)\n",
      "INFO:private_request:johnklanick [200] POST https://i.instagram.com/rupload_igvideo/1719762770397_0_6953319233 (269.0.0.18.75, OnePlus 6T Dev)\n",
      "INFO:private_request:johnklanick [200] POST https://i.instagram.com/rupload_igphoto/1719762770397_0_7493514745 (269.0.0.18.75, OnePlus 6T Dev)\n",
      "INFO:instagrapi:https://i.instagram.com/api/v1/media/configure/?video=1\n",
      "INFO:private_request:johnklanick [200] POST https://i.instagram.com/api/v1/media/configure/?video=1 (269.0.0.18.75, OnePlus 6T Dev)\n",
      "INFO:instagrapi:https://i.instagram.com/api/v1/qe/expose/\n",
      "INFO:private_request:johnklanick [200] POST https://i.instagram.com/api/v1/qe/expose/ (269.0.0.18.75, OnePlus 6T Dev)\n"
     ]
    }
   ],
   "source": [
    "\n",
    "video_post_1 = igcl.client.video_upload(media_path, caption=caption, location=location)\n",
    "\n"
   ]
  },
  {
   "cell_type": "code",
   "execution_count": 75,
   "metadata": {},
   "outputs": [
    {
     "name": "stdout",
     "output_type": "stream",
     "text": [
      "pk=3401939166944251506 id='3401939166944251506_67318685241' code='C82HaXpM05y' taken_at=datetime.datetime(2024, 6, 30, 15, 53, 4, tzinfo=TzInfo(UTC)) media_type=2 image_versions2={'candidates': [{'width': 360, 'height': 202, 'url': 'https://scontent-mad2-1.cdninstagram.com/v/t51.29350-15/449691078_3879730529017235_5548233858938378236_n.jpg?stp=dst-jpg_e15_s360x360&efg=eyJ2ZW5jb2RlX3RhZyI6ImltYWdlX3VybGdlbi4xMDgweDYwNy5zZHIuZjI5MzUwIn0&_nc_ht=scontent-mad2-1.cdninstagram.com&_nc_cat=111&_nc_ohc=bJeP3jPXLRsQ7kNvgHubMuN&edm=ACqnv0EBAAAA&ccb=7-5&ig_cache_key=MzQwMTkzOTE2Njk0NDI1MTUwNg%3D%3D.2-ccb7-5&oh=00_AYCIpJMXueyipFJAH14jRaVNQe1RldNC6BF8VyenKei0cg&oe=66874E3A&_nc_sid=7698e5', 'scans_profile': 'e15'}]} product_type='feed' thumbnail_url=Url('https://scontent-mad2-1.cdninstagram.com/v/t51.29350-15/449691078_3879730529017235_5548233858938378236_n.jpg?stp=dst-jpg_e15_s360x360&efg=eyJ2ZW5jb2RlX3RhZyI6ImltYWdlX3VybGdlbi4xMDgweDYwNy5zZHIuZjI5MzUwIn0&_nc_ht=scontent-mad2-1.cdninstagram.com&_nc_cat=111&_nc_ohc=bJeP3jPXLRsQ7kNvgHubMuN&edm=ACqnv0EBAAAA&ccb=7-5&ig_cache_key=MzQwMTkzOTE2Njk0NDI1MTUwNg%3D%3D.2-ccb7-5&oh=00_AYCIpJMXueyipFJAH14jRaVNQe1RldNC6BF8VyenKei0cg&oe=66874E3A&_nc_sid=7698e5') location=Location(pk=250765185, name='Comas, Lima, Peru', phone='', website='', category='', hours={}, address='', city='', zip=None, lng=-77.053439, lat=-11.930122, external_id=108628399160343, external_id_source='facebook_places') user=UserShort(pk='67318685241', username='johnklanick', full_name='John Klanick', profile_pic_url=Url('https://scontent-mad1-1.cdninstagram.com/v/t51.2885-19/448770277_7666057363462217_543664027309030545_n.jpg?stp=dst-jpg_e0_s150x150&_nc_ht=scontent-mad1-1.cdninstagram.com&_nc_cat=105&_nc_ohc=WyyS-wPbxJEQ7kNvgF5EYAE&edm=ACqnv0EBAAAA&ccb=7-5&oh=00_AYCkWc14WoJpgEyOztHeqJ8wvrGiiSDtg7sjLEWS0ruB9A&oe=66876B0B&_nc_sid=7698e5'), profile_pic_url_hd=None, is_private=False) comment_count=0 comments_disabled=False commenting_disabled_for_viewer=False like_count=0 play_count=0 has_liked=False caption_text=\"✨ Nature's Spectacle ✨ Witness the mesmerizing dance of thousands of seagulls \\ngracing the beaches near Lima. Their synchronized flight is a \\nbreathtaking reminder of the beauty and wonder of our world. 🌍🕊️\\n\\n#NurserySchoolParty #Parade #CulturalFestivity #FamilyEvent #CityLife \\n#TravelDiaries #WorldTraveler #DailyLife #TravelPhotography #ExploreLocal #FestiveVibe\" accessibility_caption=None usertags=[] sponsor_tags=[] video_url=Url('https://scontent-mad2-1.cdninstagram.com/o1/v/t16/f2/m69/An-eRjnLoP0nwShlz6gJORwDwvgkONyCPe73Ox6jlZ_ruUBUF8hFa2koBaArdIAv1e0OZ3Fs5rQw0wB9hMEsd1E.mp4?efg=eyJ2aWRlb19pZCI6IjEyMTA0NTM5ODY3OTUxNDEiLCJxZV9ncm91cHMiOiJbXCJpZ19wcm9ncmVzc2l2ZV91cmxnZW4ucHJvZHVjdF90eXBlLmZlZWRcIl0iLCJ2ZW5jb2RlX3RhZyI6ImlnX3Byb2dyZXNzaXZlX3VybGdlbi5mZWVkLmMyLmFzaWNfaHExX3NkX3Byb2dyZXNzaXZlIn0&_nc_ht=scontent-mad2-1.cdninstagram.com&_nc_cat=111&ccb=9-4&oh=00_AYCeIWG3nfr_tnSvpeUgIWtOkNKzMaFk1XNP7pWpVvOVDg&oe=66834CC3&_nc_sid=7698e5') view_count=0 video_duration=15.659 title='' resources=[] clips_metadata={}\n"
     ]
    }
   ],
   "source": [
    "print(video_post_1)"
   ]
  },
  {
   "cell_type": "code",
   "execution_count": 76,
   "metadata": {},
   "outputs": [],
   "source": [
    "from pathlib import Path"
   ]
  },
  {
   "cell_type": "code",
   "execution_count": 77,
   "metadata": {},
   "outputs": [],
   "source": [
    "media_paths = [\n",
    "    Path(r\"C:\\Users\\manue\\Documents\\GitHubMLSN\\JK Peru Photos\\IMG_5852.JPG\"),\n",
    "    Path(r\"C:\\Users\\manue\\Documents\\GitHubMLSN\\JK Peru Photos\\IMG_5854.JPG\"),\n",
    "    Path(r\"C:\\Users\\manue\\Documents\\GitHubMLSN\\JK Peru Photos\\IMG_5847.JPG\")  # Add more paths as needed\n",
    "]\n",
    "caption = \"\"\"\n",
    "JK_posting_main_code TESTTRIAL.ipynbAdorable and vibrant costumes \n",
    "filled the nursery school party parade! 🌈👗 \n",
    "From superheroes to fairy tale characters, the children’s excitement was contagious. \n",
    "Swipe to see the cutest outfits and the happiest faces! \n",
    "\n",
    "#CostumeParty #ParadeFun #KidsInCostume #JoyfulMoments #NurserySchoolParty #CostumeFun \n",
    "# #KidsFashion #ParadeHighlights #TravelDiaries #WorldTraveler #DailyLife \n",
    "#TravelPhotography #ExploreLocal #FestiveVibes\n",
    "\"\"\"\n",
    "\n"
   ]
  },
  {
   "cell_type": "code",
   "execution_count": 78,
   "metadata": {},
   "outputs": [
    {
     "name": "stderr",
     "output_type": "stream",
     "text": [
      "INFO:private_request:johnklanick [200] POST https://i.instagram.com/rupload_igphoto/1719762790246_0_5830940751 (269.0.0.18.75, OnePlus 6T Dev)\n",
      "INFO:private_request:johnklanick [200] POST https://i.instagram.com/rupload_igphoto/1719762791904_0_2574358915 (269.0.0.18.75, OnePlus 6T Dev)\n",
      "INFO:private_request:johnklanick [200] POST https://i.instagram.com/rupload_igphoto/1719762793450_0_1113187770 (269.0.0.18.75, OnePlus 6T Dev)\n",
      "INFO:instagrapi:https://i.instagram.com/api/v1/media/configure_sidecar/\n",
      "INFO:private_request:johnklanick [200] POST https://i.instagram.com/api/v1/media/configure_sidecar/ (269.0.0.18.75, OnePlus 6T Dev)\n",
      "INFO:instagrapi:https://i.instagram.com/api/v1/qe/expose/\n",
      "INFO:private_request:johnklanick [200] POST https://i.instagram.com/api/v1/qe/expose/ (269.0.0.18.75, OnePlus 6T Dev)\n"
     ]
    }
   ],
   "source": [
    "album = igcl.client.album_upload(media_paths, caption = caption, location = location)"
   ]
  },
  {
   "cell_type": "code",
   "execution_count": 79,
   "metadata": {},
   "outputs": [
    {
     "name": "stdout",
     "output_type": "stream",
     "text": [
      "pk=3401939395114600484 id='3401939395114600484_67318685241' code='C82HdsJNogk' taken_at=datetime.datetime(2024, 6, 30, 15, 53, 20, tzinfo=TzInfo(UTC)) media_type=8 image_versions2={'candidates': [{'width': 1080, 'height': 1350, 'url': 'https://scontent-mad1-1.cdninstagram.com/v/t51.29350-15/449659458_842221973962386_1032322246857590774_n.jpg?se=7&stp=dst-jpg_e35&_nc_ht=scontent-mad1-1.cdninstagram.com&_nc_cat=106&_nc_ohc=0KcpaDAhtmoQ7kNvgERugVG&edm=AFrf_vIBAAAA&ccb=7-5&ig_cache_key=MzQwMTkzOTM4ODY0NjkzNjIxMQ%3D%3D.2-ccb7-5&oh=00_AYDe-jNG4xE617ERtr3Cx54ECAQHWSDtAZjeOSDhu-AQPw&oe=66874E87&_nc_sid=d31fa1', 'scans_profile': ''}, {'width': 320, 'height': 400, 'url': 'https://scontent-mad1-1.cdninstagram.com/v/t51.29350-15/449659458_842221973962386_1032322246857590774_n.jpg?stp=dst-jpg_e35_p320x320&_nc_ht=scontent-mad1-1.cdninstagram.com&_nc_cat=106&_nc_ohc=0KcpaDAhtmoQ7kNvgERugVG&edm=AFrf_vIBAAAA&ccb=7-5&ig_cache_key=MzQwMTkzOTM4ODY0NjkzNjIxMQ%3D%3D.2-ccb7-5&oh=00_AYCGA-CmptaBI8bHCedPqRnUkR4Lea7AcQE-c0XQNXLlmw&oe=66874E87&_nc_sid=d31fa1', 'scans_profile': ''}]} product_type='carousel_container' thumbnail_url=None location=Location(pk=250765185, name='Comas, Lima, Peru', phone='', website='', category='', hours={}, address='', city='', zip=None, lng=-77.053439, lat=-11.930122, external_id=108628399160343, external_id_source='facebook_places') user=UserShort(pk='67318685241', username='johnklanick', full_name='John Klanick', profile_pic_url=Url('https://scontent-mad1-1.cdninstagram.com/v/t51.2885-19/448770277_7666057363462217_543664027309030545_n.jpg?stp=dst-jpg_e0_s150x150&_nc_ht=scontent-mad1-1.cdninstagram.com&_nc_cat=105&_nc_ohc=WyyS-wPbxJEQ7kNvgF5EYAE&edm=AFrf_vIBAAAA&ccb=7-5&oh=00_AYBC7C6X-4QC6gFma_w3d1Yjakd-MPi9Nz3i_UjB7CTeDA&oe=66876B0B&_nc_sid=d31fa1'), profile_pic_url_hd=None, is_private=False) comment_count=0 comments_disabled=False commenting_disabled_for_viewer=False like_count=0 play_count=0 has_liked=False caption_text='JK_posting_main_code TESTTRIAL.ipynbAdorable and vibrant costumes \\nfilled the nursery school party parade! 🌈👗 \\nFrom superheroes to fairy tale characters, the children’s excitement was contagious. \\nSwipe to see the cutest outfits and the happiest faces! \\n\\n#CostumeParty #ParadeFun #KidsInCostume #JoyfulMoments #NurserySchoolParty #CostumeFun \\n# #KidsFashion #ParadeHighlights #TravelDiaries #WorldTraveler #DailyLife \\n#TravelPhotography #ExploreLocal #FestiveVibes' accessibility_caption=None usertags=[] sponsor_tags=[] video_url=None view_count=0 video_duration=0.0 title='' resources=[Resource(pk='3401939388646936211', video_url=None, thumbnail_url=Url('https://scontent-mad1-1.cdninstagram.com/v/t51.29350-15/449659458_842221973962386_1032322246857590774_n.jpg?se=7&stp=dst-jpg_e35&efg=eyJ2ZW5jb2RlX3RhZyI6ImltYWdlX3VybGdlbi4xMDgweDEzNTAuc2RyLmYyOTM1MCJ9&_nc_ht=scontent-mad1-1.cdninstagram.com&_nc_cat=106&_nc_ohc=0KcpaDAhtmoQ7kNvgERugVG&edm=AFrf_vIBAAAA&ccb=7-5&ig_cache_key=MzQwMTkzOTM4ODY0NjkzNjIxMQ%3D%3D.2-ccb7-5&oh=00_AYDe-jNG4xE617ERtr3Cx54ECAQHWSDtAZjeOSDhu-AQPw&oe=66874E87&_nc_sid=d31fa1'), media_type=1), Resource(pk='3401939388546284402', video_url=None, thumbnail_url=Url('https://scontent-mad1-1.cdninstagram.com/v/t51.29350-15/449651406_500466755841186_6909480795395854505_n.jpg?se=7&stp=dst-jpg_e35&efg=eyJ2ZW5jb2RlX3RhZyI6ImltYWdlX3VybGdlbi4xMDgweDEzNTAuc2RyLmYyOTM1MCJ9&_nc_ht=scontent-mad1-1.cdninstagram.com&_nc_cat=106&_nc_ohc=YHjJPNpH9SQQ7kNvgGaMOBA&edm=AFrf_vIBAAAA&ccb=7-5&ig_cache_key=MzQwMTkzOTM4ODU0NjI4NDQwMg%3D%3D.2-ccb7-5&oh=00_AYCxk8EBIg4L4Cyc0kJyFSdhxcm0zaYkU8jsTL94IDHXNg&oe=668744DD&_nc_sid=d31fa1'), media_type=1), Resource(pk='3401939388395270733', video_url=None, thumbnail_url=Url('https://scontent-mad2-1.cdninstagram.com/v/t51.29350-15/449657782_1142529573695001_8913299308687131286_n.jpg?se=7&stp=dst-jpg_e35&efg=eyJ2ZW5jb2RlX3RhZyI6ImltYWdlX3VybGdlbi4xMDgweDEzNTAuc2RyLmYyOTM1MCJ9&_nc_ht=scontent-mad2-1.cdninstagram.com&_nc_cat=109&_nc_ohc=jbjLYEtWkPYQ7kNvgHhPkQL&edm=AFrf_vIBAAAA&ccb=7-5&ig_cache_key=MzQwMTkzOTM4ODM5NTI3MDczMw%3D%3D.2-ccb7-5&oh=00_AYA0iITknn3onj_lSPh_ZpnUQXwIw2MzL3_3Sm7R60UtsA&oe=66873D27&_nc_sid=d31fa1'), media_type=1)] clips_metadata={}\n"
     ]
    }
   ],
   "source": [
    "print(album)"
   ]
  },
  {
   "cell_type": "code",
   "execution_count": 80,
   "metadata": {},
   "outputs": [],
   "source": [
    "from PIL import Image\n",
    "\n",
    "def correct_orientation(image_path):\n",
    "    \"\"\"Corrects the orientation of an image based on EXIF data.\"\"\"\n",
    "    img = Image.open(image_path)\n",
    "    exif_orientation_tag = 0x0112  # EXIF tag for orientation\n",
    "    if exif_orientation_tag in img._getexif():\n",
    "        orientation = img._getexif()[exif_orientation_tag]\n",
    "        if orientation == 3:\n",
    "            img = img.rotate(180, expand=True)\n",
    "        elif orientation == 6:\n",
    "            img = img.rotate(270, expand=True)\n",
    "        elif orientation == 8:\n",
    "            img = img.rotate(90, expand=True)\n",
    "        img.save(image_path)  # Save the corrected image"
   ]
  },
  {
   "cell_type": "code",
   "execution_count": 81,
   "metadata": {},
   "outputs": [
    {
     "ename": "TypeError",
     "evalue": "argument of type 'NoneType' is not iterable",
     "output_type": "error",
     "traceback": [
      "\u001b[1;31m---------------------------------------------------------------------------\u001b[0m",
      "\u001b[1;31mTypeError\u001b[0m                                 Traceback (most recent call last)",
      "Cell \u001b[1;32mIn[81], line 2\u001b[0m\n\u001b[0;32m      1\u001b[0m \u001b[38;5;28;01mfor\u001b[39;00m path \u001b[38;5;129;01min\u001b[39;00m media_paths:\n\u001b[1;32m----> 2\u001b[0m     \u001b[43mcorrect_orientation\u001b[49m\u001b[43m(\u001b[49m\u001b[43mpath\u001b[49m\u001b[43m)\u001b[49m  \u001b[38;5;66;03m# Correct orientation before uploading\u001b[39;00m\n",
      "Cell \u001b[1;32mIn[80], line 7\u001b[0m, in \u001b[0;36mcorrect_orientation\u001b[1;34m(image_path)\u001b[0m\n\u001b[0;32m      5\u001b[0m img \u001b[38;5;241m=\u001b[39m Image\u001b[38;5;241m.\u001b[39mopen(image_path)\n\u001b[0;32m      6\u001b[0m exif_orientation_tag \u001b[38;5;241m=\u001b[39m \u001b[38;5;241m0x0112\u001b[39m  \u001b[38;5;66;03m# EXIF tag for orientation\u001b[39;00m\n\u001b[1;32m----> 7\u001b[0m \u001b[38;5;28;01mif\u001b[39;00m \u001b[43mexif_orientation_tag\u001b[49m\u001b[43m \u001b[49m\u001b[38;5;129;43;01min\u001b[39;49;00m\u001b[43m \u001b[49m\u001b[43mimg\u001b[49m\u001b[38;5;241;43m.\u001b[39;49m\u001b[43m_getexif\u001b[49m\u001b[43m(\u001b[49m\u001b[43m)\u001b[49m:\n\u001b[0;32m      8\u001b[0m     orientation \u001b[38;5;241m=\u001b[39m img\u001b[38;5;241m.\u001b[39m_getexif()[exif_orientation_tag]\n\u001b[0;32m      9\u001b[0m     \u001b[38;5;28;01mif\u001b[39;00m orientation \u001b[38;5;241m==\u001b[39m \u001b[38;5;241m3\u001b[39m:\n",
      "\u001b[1;31mTypeError\u001b[0m: argument of type 'NoneType' is not iterable"
     ]
    }
   ],
   "source": [
    "for path in media_paths:\n",
    "    correct_orientation(path)  # Correct orientation before uploading"
   ]
  },
  {
   "cell_type": "code",
   "execution_count": null,
   "metadata": {},
   "outputs": [
    {
     "name": "stderr",
     "output_type": "stream",
     "text": [
      "INFO:private_request:johnklanick [200] POST https://i.instagram.com/rupload_igphoto/1719758671040_0_8985054039 (269.0.0.18.75, OnePlus 6T Dev)\n",
      "INFO:private_request:johnklanick [200] POST https://i.instagram.com/rupload_igphoto/1719758672726_0_7667688041 (269.0.0.18.75, OnePlus 6T Dev)\n",
      "INFO:private_request:johnklanick [200] POST https://i.instagram.com/rupload_igphoto/1719758673894_0_8304113535 (269.0.0.18.75, OnePlus 6T Dev)\n",
      "INFO:instagrapi:https://i.instagram.com/api/v1/media/configure_sidecar/\n",
      "INFO:private_request:johnklanick [200] POST https://i.instagram.com/api/v1/media/configure_sidecar/ (269.0.0.18.75, OnePlus 6T Dev)\n",
      "INFO:instagrapi:https://i.instagram.com/api/v1/qe/expose/\n",
      "INFO:private_request:johnklanick [200] POST https://i.instagram.com/api/v1/qe/expose/ (269.0.0.18.75, OnePlus 6T Dev)\n"
     ]
    }
   ],
   "source": [
    "album = igcl.client.album_upload(media_paths, caption = caption, location = location)"
   ]
  },
  {
   "cell_type": "code",
   "execution_count": null,
   "metadata": {},
   "outputs": [
    {
     "name": "stderr",
     "output_type": "stream",
     "text": [
      "INFO:instagrapi:https://i.instagram.com/api/v1/fbsearch/places/\n",
      "INFO:private_request:johnklanick [200] GET https://i.instagram.com/api/v1/fbsearch/places/?search_surface=places_search_page&timezone_offset=-14400&lat=40.74&lng=-73.94&count=30&query=Moquegua (269.0.0.18.75, OnePlus 6T Dev)\n"
     ]
    },
    {
     "ename": "AttributeError",
     "evalue": "'list' object has no attribute 'pk'",
     "output_type": "error",
     "traceback": [
      "\u001b[1;31m---------------------------------------------------------------------------\u001b[0m",
      "\u001b[1;31mAttributeError\u001b[0m                            Traceback (most recent call last)",
      "Cell \u001b[1;32mIn[43], line 5\u001b[0m\n\u001b[0;32m      1\u001b[0m location_name \u001b[38;5;241m=\u001b[39m \u001b[38;5;124m\"\u001b[39m\u001b[38;5;124mMoquegua\u001b[39m\u001b[38;5;124m\"\u001b[39m\n\u001b[0;32m      3\u001b[0m location \u001b[38;5;241m=\u001b[39m ig_utils\u001b[38;5;241m.\u001b[39mget_locations_by_name(location_name, limit \u001b[38;5;241m=\u001b[39m \u001b[38;5;241m2\u001b[39m)\n\u001b[1;32m----> 5\u001b[0m location_dict \u001b[38;5;241m=\u001b[39m \u001b[43mig_utils\u001b[49m\u001b[38;5;241;43m.\u001b[39;49m\u001b[43mlocation_to_dict\u001b[49m\u001b[43m(\u001b[49m\u001b[43mlocation\u001b[49m\u001b[43m)\u001b[49m\n\u001b[0;32m      6\u001b[0m \u001b[38;5;28mprint\u001b[39m(\u001b[38;5;124m\"\u001b[39m\u001b[38;5;124mlocation_pk: \u001b[39m\u001b[38;5;124m\"\u001b[39m, location_pk, \u001b[38;5;124m\"\u001b[39m\u001b[38;5;124mfollowed by the location.json\u001b[39m\u001b[38;5;124m\"\u001b[39m)\n\u001b[0;32m      7\u001b[0m formatted_json_string \u001b[38;5;241m=\u001b[39m json\u001b[38;5;241m.\u001b[39mdumps(location_dict, indent\u001b[38;5;241m=\u001b[39m\u001b[38;5;241m4\u001b[39m)  \u001b[38;5;66;03m# Serialize to JSON string\u001b[39;00m\n",
      "File \u001b[1;32m~\\Documents\\GitHubMLSN\\sn-libraries\\src\\ig_utils.py:121\u001b[0m, in \u001b[0;36mIgUtils.location_to_dict\u001b[1;34m(self, location)\u001b[0m\n\u001b[0;32m    110\u001b[0m \u001b[38;5;28;01mdef\u001b[39;00m \u001b[38;5;21mlocation_to_dict\u001b[39m(\u001b[38;5;28mself\u001b[39m, location: Location) \u001b[38;5;241m-\u001b[39m\u001b[38;5;241m>\u001b[39m \u001b[38;5;28mdict\u001b[39m:\n\u001b[0;32m    111\u001b[0m \u001b[38;5;250m    \u001b[39m\u001b[38;5;124;03m\"\"\"\u001b[39;00m\n\u001b[0;32m    112\u001b[0m \u001b[38;5;124;03m    Convert a Location object to a dictionary.\u001b[39;00m\n\u001b[0;32m    113\u001b[0m \n\u001b[1;32m   (...)\u001b[0m\n\u001b[0;32m    118\u001b[0m \u001b[38;5;124;03m        A dictionary representation of the location information.\u001b[39;00m\n\u001b[0;32m    119\u001b[0m \u001b[38;5;124;03m    \"\"\"\u001b[39;00m\n\u001b[0;32m    120\u001b[0m     \u001b[38;5;28;01mreturn\u001b[39;00m {\n\u001b[1;32m--> 121\u001b[0m         \u001b[38;5;124m\"\u001b[39m\u001b[38;5;124mpk\u001b[39m\u001b[38;5;124m\"\u001b[39m: \u001b[43mlocation\u001b[49m\u001b[38;5;241;43m.\u001b[39;49m\u001b[43mpk\u001b[49m,\n\u001b[0;32m    122\u001b[0m         \u001b[38;5;124m\"\u001b[39m\u001b[38;5;124mname\u001b[39m\u001b[38;5;124m\"\u001b[39m: location\u001b[38;5;241m.\u001b[39mname,\n\u001b[0;32m    123\u001b[0m         \u001b[38;5;124m\"\u001b[39m\u001b[38;5;124maddress\u001b[39m\u001b[38;5;124m\"\u001b[39m: location\u001b[38;5;241m.\u001b[39maddress,\n\u001b[0;32m    124\u001b[0m         \u001b[38;5;124m\"\u001b[39m\u001b[38;5;124mlng\u001b[39m\u001b[38;5;124m\"\u001b[39m: location\u001b[38;5;241m.\u001b[39mlng,\n\u001b[0;32m    125\u001b[0m         \u001b[38;5;124m\"\u001b[39m\u001b[38;5;124mlat\u001b[39m\u001b[38;5;124m\"\u001b[39m: location\u001b[38;5;241m.\u001b[39mlat,\n\u001b[0;32m    126\u001b[0m         \u001b[38;5;124m\"\u001b[39m\u001b[38;5;124mexternal_id\u001b[39m\u001b[38;5;124m\"\u001b[39m: location\u001b[38;5;241m.\u001b[39mexternal_id,\n\u001b[0;32m    127\u001b[0m         \u001b[38;5;124m\"\u001b[39m\u001b[38;5;124mexternal_id_source\u001b[39m\u001b[38;5;124m\"\u001b[39m: location\u001b[38;5;241m.\u001b[39mexternal_id_source,\n\u001b[0;32m    128\u001b[0m         \u001b[38;5;124m\"\u001b[39m\u001b[38;5;124mcity\u001b[39m\u001b[38;5;124m\"\u001b[39m: location\u001b[38;5;241m.\u001b[39mcity,\n\u001b[0;32m    129\u001b[0m         \u001b[38;5;124m\"\u001b[39m\u001b[38;5;124mzip\u001b[39m\u001b[38;5;124m\"\u001b[39m: location\u001b[38;5;241m.\u001b[39mzip,\n\u001b[0;32m    130\u001b[0m         \u001b[38;5;124m\"\u001b[39m\u001b[38;5;124mcategory\u001b[39m\u001b[38;5;124m\"\u001b[39m: location\u001b[38;5;241m.\u001b[39mcategory,\n\u001b[0;32m    131\u001b[0m         \u001b[38;5;124m\"\u001b[39m\u001b[38;5;124mphone\u001b[39m\u001b[38;5;124m\"\u001b[39m: location\u001b[38;5;241m.\u001b[39mphone,\n\u001b[0;32m    132\u001b[0m         \u001b[38;5;124m\"\u001b[39m\u001b[38;5;124mwebsite\u001b[39m\u001b[38;5;124m\"\u001b[39m: location\u001b[38;5;241m.\u001b[39mwebsite,\n\u001b[0;32m    133\u001b[0m     }\n",
      "\u001b[1;31mAttributeError\u001b[0m: 'list' object has no attribute 'pk'"
     ]
    }
   ],
   "source": [
    "\n",
    "location_name = \"Moquegua\"\n",
    "\n",
    "location = ig_utils.get_locations_by_name(location_name, limit = 2)\n",
    "    \n"
   ]
  },
  {
   "cell_type": "code",
   "execution_count": null,
   "metadata": {},
   "outputs": [
    {
     "name": "stdout",
     "output_type": "stream",
     "text": [
      "[Location(pk=5584344, name='Moquegua', phone='', website='', category='', hours={}, address='', city='', zip=None, lng=-70.93243, lat=-17.18945, external_id=108444959180261, external_id_source='facebook_places')]\n"
     ]
    }
   ],
   "source": [
    "print(location)\n"
   ]
  },
  {
   "cell_type": "code",
   "execution_count": null,
   "metadata": {},
   "outputs": [],
   "source": [
    "# checking with horizontal videos on upload reel\n",
    "path = Path(r\"C:\\Users\\manue\\Documents\\GitHubMLSN\\JK Peru Photos\\VID_20151129_162445433.mp4\")\n",
    "caption = \"\"\"The vast Peruvian deserts, a hidden gem of South America, \n",
    "remain a mystery to many travelers. These immense landscapes, stretching across the country, \n",
    "showcase a diverse array of ecosystems and awe-inspiring beauty. \n",
    "From the rolling sand dunes of Ica to the rugged cliffs of Paracas, \n",
    "the Peruvian deserts offer an otherworldly experience that is sure to leave \n",
    "a lasting impression on any adventurer. Despite their stunning beauty and unique appeal, \n",
    "these vast stretches of sand and rock remain relatively unknown to the outside world, \n",
    "making them an ideal destination for \n",
    "those seeking an off-the-beaten-path adventure\n",
    "\n",
    "#peruviandesert #peru #travelaroundtheworld\"\"\""
   ]
  },
  {
   "cell_type": "code",
   "execution_count": null,
   "metadata": {},
   "outputs": [
    {
     "name": "stdout",
     "output_type": "stream",
     "text": [
      "Analyzing CLIP file \"C:\\Users\\manue\\Documents\\GitHubMLSN\\JK Peru Photos\\VID_20151129_162445433.mp4\"\n",
      "Generating thumbnail \"C:\\Users\\manue\\Documents\\GitHubMLSN\\JK Peru Photos\\VID_20151129_162445433.mp4.jpg\"...\n"
     ]
    },
    {
     "name": "stderr",
     "output_type": "stream",
     "text": [
      "INFO:private_request:johnklanick [200] GET https://i.instagram.com/rupload_igvideo/1719760351282_0_5733399572 (269.0.0.18.75, OnePlus 6T Dev)\n",
      "INFO:private_request:johnklanick [200] POST https://i.instagram.com/rupload_igvideo/1719760351282_0_5733399572 (269.0.0.18.75, OnePlus 6T Dev)\n",
      "INFO:private_request:johnklanick [200] POST https://i.instagram.com/rupload_igphoto/1719760351282_0_5766264923 (269.0.0.18.75, OnePlus 6T Dev)\n",
      "INFO:instagrapi:https://i.instagram.com/api/v1/media/configure_to_clips/?video=1\n",
      "INFO:private_request:johnklanick [200] POST https://i.instagram.com/api/v1/media/configure_to_clips/?video=1 (269.0.0.18.75, OnePlus 6T Dev)\n",
      "INFO:instagrapi:https://i.instagram.com/api/v1/qe/expose/\n",
      "INFO:private_request:johnklanick [200] POST https://i.instagram.com/api/v1/qe/expose/ (269.0.0.18.75, OnePlus 6T Dev)\n"
     ]
    }
   ],
   "source": [
    "reel = igcl.client.clip_upload(path, caption=caption,location=location[0])"
   ]
  },
  {
   "cell_type": "code",
   "execution_count": null,
   "metadata": {},
   "outputs": [
    {
     "name": "stdout",
     "output_type": "stream",
     "text": [
      "pk=3401918868912054359 id='3401918868912054359_67318685241' code='C82Cy_oM6BX' taken_at=datetime.datetime(2024, 6, 30, 15, 12, 50, tzinfo=TzInfo(UTC)) media_type=2 image_versions2={'candidates': [{'width': 360, 'height': 450, 'url': 'https://scontent-mad1-1.cdninstagram.com/v/t51.29350-15/449613717_427892776894923_4028422890170484298_n.jpg?stp=dst-jpg_e15_p360x360&efg=eyJ2ZW5jb2RlX3RhZyI6ImltYWdlX3VybGdlbi42MDZ4NzU3LnNkci5mMjkzNTAifQ&_nc_ht=scontent-mad1-1.cdninstagram.com&_nc_cat=103&_nc_ohc=mY4yN9AutBkQ7kNvgGOngam&edm=AA3Yet0BAAAA&ccb=7-5&ig_cache_key=MzQwMTkxODg2ODkxMjA1NDM1OQ%3D%3D.2-ccb7-5&oh=00_AYAKPrJrmUSKbOm8CzE4NM24BKyDMIGlxBzZQc0E8Q1Eyw&oe=66872E7B&_nc_sid=da5c95', 'scans_profile': 'e15'}], 'additional_candidates': {'igtv_first_frame': {'width': 360, 'height': 202, 'url': 'https://scontent-mad1-1.cdninstagram.com/v/t51.2885-15/449694581_1406266163422719_3114849111558998692_n.jpg?stp=dst-jpg_e15_s360x360&efg=eyJ2ZW5jb2RlX3RhZyI6ImltYWdlX3VybGdlbi42NDB4MzYwLnNkci5mNzE4NzgifQ&_nc_ht=scontent-mad1-1.cdninstagram.com&_nc_cat=103&_nc_ohc=vfm9GsRmyK0Q7kNvgHZC7Qw&edm=AA3Yet0BAAAA&ccb=7-5&oh=00_AYCsajIp5Fx-44_1cnyJ4lbhSJxOUjc2w7TgaRLcUURVvg&oe=66875E9F&_nc_sid=da5c95', 'scans_profile': 'e15'}, 'first_frame': {'width': 360, 'height': 202, 'url': 'https://scontent-mad1-1.cdninstagram.com/v/t51.2885-15/449694581_1406266163422719_3114849111558998692_n.jpg?stp=dst-jpg_e15_s360x360&efg=eyJ2ZW5jb2RlX3RhZyI6ImltYWdlX3VybGdlbi42NDB4MzYwLnNkci5mNzE4NzgifQ&_nc_ht=scontent-mad1-1.cdninstagram.com&_nc_cat=103&_nc_ohc=vfm9GsRmyK0Q7kNvgHZC7Qw&edm=AA3Yet0BAAAA&ccb=7-5&oh=00_AYCsajIp5Fx-44_1cnyJ4lbhSJxOUjc2w7TgaRLcUURVvg&oe=66875E9F&_nc_sid=da5c95', 'scans_profile': 'e15'}, 'smart_frame': None}, 'smart_thumbnail_enabled': False} product_type='clips' thumbnail_url=Url('https://scontent-mad1-1.cdninstagram.com/v/t51.29350-15/449613717_427892776894923_4028422890170484298_n.jpg?stp=dst-jpg_e15_p360x360&efg=eyJ2ZW5jb2RlX3RhZyI6ImltYWdlX3VybGdlbi42MDZ4NzU3LnNkci5mMjkzNTAifQ&_nc_ht=scontent-mad1-1.cdninstagram.com&_nc_cat=103&_nc_ohc=mY4yN9AutBkQ7kNvgGOngam&edm=AA3Yet0BAAAA&ccb=7-5&ig_cache_key=MzQwMTkxODg2ODkxMjA1NDM1OQ%3D%3D.2-ccb7-5&oh=00_AYAKPrJrmUSKbOm8CzE4NM24BKyDMIGlxBzZQc0E8Q1Eyw&oe=66872E7B&_nc_sid=da5c95') location=Location(pk=5584344, name='Moquegua', phone='', website='', category='', hours={}, address='', city='', zip=None, lng=-70.93243, lat=-17.18945, external_id=108444959180261, external_id_source='facebook_places') user=UserShort(pk='67318685241', username='johnklanick', full_name='John Klanick', profile_pic_url=Url('https://scontent-mad1-1.cdninstagram.com/v/t51.2885-19/448770277_7666057363462217_543664027309030545_n.jpg?stp=dst-jpg_e0_s150x150&_nc_ht=scontent-mad1-1.cdninstagram.com&_nc_cat=105&_nc_ohc=WyyS-wPbxJEQ7kNvgF5EYAE&edm=AA3Yet0BAAAA&ccb=7-5&oh=00_AYCU0ohtZqL7YrqyrOAHCPHXMeZrF5k_pQU68o-sJyhC4w&oe=668732CB&_nc_sid=da5c95'), profile_pic_url_hd=None, is_private=False) comment_count=0 comments_disabled=False commenting_disabled_for_viewer=False like_count=0 play_count=0 has_liked=False caption_text='The vast Peruvian deserts, a hidden gem of South America, \\nremain a mystery to many travelers. These immense landscapes, stretching across the country, \\nshowcase a diverse array of ecosystems and awe-inspiring beauty. \\nFrom the rolling sand dunes of Ica to the rugged cliffs of Paracas, \\nthe Peruvian deserts offer an otherworldly experience that is sure to leave \\na lasting impression on any adventurer. Despite their stunning beauty and unique appeal, \\nthese vast stretches of sand and rock remain relatively unknown to the outside world, \\nmaking them an ideal destination for \\nthose seeking an off-the-beaten-path adventure\\n\\n#peruviandesert #peru #travelaroundtheworld' accessibility_caption=None usertags=[] sponsor_tags=[] video_url=Url('https://scontent.cdninstagram.com/o1/v/t16/f2/m69/An9Dvq0qsd3vGq5EY_UvLYiB8q-Sxfg7cnp0EhJt8Zb_uYxBff7urBZJ-IpxQgr3J58SNQK5l19pMJMhiYHkUO4.mp4?efg=eyJ2ZW5jb2RlX3RhZyI6Inhwdl9wcm9ncmVzc2l2ZS5JTlNUQUdSQU0uQ0xJUFMuQzMuMTkyMC5kYXNoX2Jhc2VsaW5lXzEwODBwX3YxIn0&_nc_ht=scontent.cdninstagram.com&_nc_cat=108&strext=1&vs=a28dc145d1e1225&_nc_vs=HBksFQIYOnBhc3N0aHJvdWdoX2V2ZXJzdG9yZS9HTVJyaFJMZVljaGI4a29EQUNZSHA5VHEwbGcwYnBSMUFBQUYVAALIAQAVAhg6cGFzc3Rocm91Z2hfZXZlcnN0b3JlL0dMMFh4QnBKMDkwMFpNa0hBRFNweUpyQmRqdDdicV9FQUFBRhUCAsgBACgAGAAbAogHdXNlX29pbAExEnByb2dyZXNzaXZlX3JlY2lwZQExFQAAJuqdrsPki54EFQIoAkMzLBdAMm3S8an75xgWZGFzaF9iYXNlbGluZV8xMDgwcF92MREAdf4HAA%3D%3D&ccb=9-4&oh=00_AYDbffWjRuQ8w7mbJOrCShFFMPlnE1n3UtSW_N7KTqCToQ&oe=66835892&_nc_sid=1d576d') view_count=0 video_duration=18.538 title='' resources=[] clips_metadata={'breaking_content_info': None, 'breaking_creator_info': None, 'challenge_info': None, 'clips_creation_entry_point': '', 'featured_label': None, 'is_public_chat_welcome_video': False, 'nux_info': None, 'professional_clips_upsell_type': 0, 'reels_on_the_rise_info': None, 'show_tips': None, 'achievements_info': {'show_achievements': True, 'num_earned_achievements': 0}, 'additional_audio_info': {'additional_audio_username': None, 'audio_reattribution_info': {'should_allow_restore': False}}, 'asset_recommendation_info': None, 'audio_ranking_info': None, 'audio_type': 'original_sounds', 'branded_content_tag_info': {'can_add_tag': True}, 'content_appreciation_info': {'enabled': False, 'entry_point_container': None}, 'contextual_highlight_info': None, 'cutout_sticker_info': [], 'disable_use_in_clips_client_cache': False, 'external_media_info': None, 'is_fan_club_promo_video': False, 'is_shared_to_fb': False, 'mashup_info': {'mashups_allowed': True, 'can_toggle_mashups_allowed': True, 'has_been_mashed_up': False, 'is_light_weight_check': False, 'formatted_mashups_count': None, 'original_media': None, 'privacy_filtered_mashups_media_count': None, 'non_privacy_filtered_mashups_media_count': None, 'mashup_type': None, 'is_creator_requesting_mashup': False, 'has_nonmimicable_additional_audio': False, 'is_pivot_page_available': False}, 'merchandising_pill_info': None, 'music_canonical_id': '', 'music_info': None, 'original_sound_info': None, 'originality_info': None, 'reusable_text_attribute_string': None, 'reusable_text_info': None, 'shopping_info': None, 'show_achievements': True, 'template_info': None, 'viewer_interaction_settings': None}\n"
     ]
    }
   ],
   "source": [
    "print(reel)"
   ]
  },
  {
   "cell_type": "code",
   "execution_count": null,
   "metadata": {},
   "outputs": [
    {
     "name": "stderr",
     "output_type": "stream",
     "text": [
      "INFO:instagrapi:https://i.instagram.com/api/v1/music/audio_global_search/\n",
      "INFO:private_request:johnklanick [200] GET https://i.instagram.com/api/v1/music/audio_global_search/?query=Manuel+Carrasco&browse_session_id=c7c731a2-9e74-4f1c-9a09-3aac81306193 (269.0.0.18.75, OnePlus 6T Dev)\n"
     ]
    }
   ],
   "source": [
    "music= igcl.client.search_music(\"Manuel Carrasco\")"
   ]
  },
  {
   "cell_type": "code",
   "execution_count": null,
   "metadata": {},
   "outputs": [
    {
     "name": "stdout",
     "output_type": "stream",
     "text": [
      "[Track(id='318570269071669', title='Qué Bonito Es Querer', subtitle='', display_artist='Manuel Carrasco', audio_cluster_id=2324508867836465, artist_id=None, cover_artwork_uri=Url('https://scontent-mad2-1.xx.fbcdn.net/v/t39.30808-6/426563107_7476444479067087_168587372483984684_n.jpg?stp=dst-jpg_p526x296&_nc_cat=1&ccb=1-7&_nc_sid=2f2557&_nc_ohc=y-GMML0zbK8Q7kNvgGtZ4ed&_nc_ad=z-m&_nc_cid=0&_nc_ht=scontent-mad2-1.xx&oh=00_AYC35aBSYbS_ua17dAHOgwjTBGgHaz9bV80rATfzP-U0HQ&oe=668746B9'), cover_artwork_thumbnail_uri=Url('https://scontent-mad2-1.xx.fbcdn.net/v/t39.30808-6/426563107_7476444479067087_168587372483984684_n.jpg?stp=dst-jpg_s168x128&_nc_cat=1&ccb=1-7&_nc_sid=2f2557&_nc_ohc=y-GMML0zbK8Q7kNvgGtZ4ed&_nc_ad=z-m&_nc_cid=0&_nc_ht=scontent-mad2-1.xx&oh=00_AYA9qo-BhEPbzVDb3WmRVY-GlWkHk3fdPpF3bQpgeWO1Kw&oe=668746B9'), progressive_download_url=Url('https://scontent-mad1-1.cdninstagram.com/v/t39.12897-6/230705843_424403675521802_6756154881142577219_n.m4a?_nc_cat=105&ccb=1-7&_nc_sid=c2de2f&_nc_ohc=j3_ZPjY_SMwQ7kNvgE7uiaN&_nc_ad=z-m&_nc_cid=0&_nc_ht=scontent-mad1-1.cdninstagram.com&oh=00_AYChVm0oSfccdBijX74-Wa4OcNUuaBg8a2-Dwy6D__j-Cg&oe=6687460D'), fast_start_progressive_download_url=Url('https://scontent-mad1-1.cdninstagram.com/v/t39.12897-6/230705843_424403675521802_6756154881142577219_n.m4a?_nc_cat=105&ccb=1-7&_nc_sid=c2de2f&_nc_ohc=j3_ZPjY_SMwQ7kNvgE7uiaN&_nc_ad=z-m&_nc_cid=0&_nc_ht=scontent-mad1-1.cdninstagram.com&oh=00_AYChVm0oSfccdBijX74-Wa4OcNUuaBg8a2-Dwy6D__j-Cg&oe=6687460D'), reactive_audio_download_url=None, highlight_start_times_in_ms=[62000, 10000, 77000], is_explicit=False, dash_manifest='<?xml version=\"1.0\" encoding=\"UTF-8\"?>\\n<!--Generated with https://github.com/google/shaka-packager version v1.6.0-release-->\\n<MPD xmlns=\"urn:mpeg:dash:schema:mpd:2011\" xmlns:xsi=\"http://www.w3.org/2001/XMLSchema-instance\" xmlns:xlink=\"http://www.w3.org/1999/xlink\" xmlns:cenc=\"urn:mpeg:cenc:2013\" xsi:schemaLocation=\"urn:mpeg:dash:schema:mpd:2011 DASH-MPD.xsd\" profiles=\"urn:mpeg:dash:profile:isoff-on-demand:2011\" minBufferTime=\"PT2S\" type=\"static\" mediaPresentationDuration=\"PT270.23S\">\\n  <Period id=\"0\">\\n    <AdaptationSet id=\"0\" contentType=\"audio\" subsegmentAlignment=\"true\">\\n      <Representation id=\"0\" bandwidth=\"130005\" codecs=\"mp4a.40.2\" mimeType=\"audio/mp4\" audioSamplingRate=\"48000\">\\n        <AudioChannelConfiguration schemeIdUri=\"urn:mpeg:dash:23003:3:audio_channel_configuration:2011\" value=\"2\"/>\\n        <BaseURL>https://scontent-mad2-1.cdninstagram.com/v/t39.12897-6/61887595_371461707046181_1305085478575276032_n.m4a?_nc_cat=1&amp;ccb=1-7&amp;_nc_sid=c2de2f&amp;_nc_ohc=kLz8ssQ-abUQ7kNvgE48mX0&amp;_nc_ad=z-m&amp;_nc_cid=0&amp;_nc_ht=scontent-mad2-1.cdninstagram.com&amp;oh=00_AYDIQlkYg7fbCYOG2qLwryQ6wvP3zf_RDoBB0aS6_5-Gaw&amp;oe=668733A3</BaseURL>\\n        <SegmentBase indexRange=\"741-2392\" timescale=\"48000\">\\n          <Initialization range=\"0-740\"/>\\n        </SegmentBase>\\n      </Representation>\\n    </AdaptationSet>\\n  </Period>\\n</MPD>\\n', uri=Url('https://scontent-mad2-1.cdninstagram.com/v/t39.12897-6/61887595_371461707046181_1305085478575276032_n.m4a?_nc_cat=1&ccb=1-7&_nc_sid=c2de2f&_nc_ohc=kLz8ssQ-abUQ7kNvgE48mX0&_nc_ad=z-m&_nc_cid=0&_nc_ht=scontent-mad2-1.cdninstagram.com&oh=00_AYDIQlkYg7fbCYOG2qLwryQ6wvP3zf_RDoBB0aS6_5-Gaw&oe=668733A3'), has_lyrics=True, audio_asset_id=318570269071669, duration_in_ms=270187, dark_message=None, allows_saving=True, territory_validity_periods={}), Track(id='443107575130895', title='La Reina Del Baile', subtitle='', display_artist='Manuel Carrasco', audio_cluster_id=1057037435767765, artist_id=None, cover_artwork_uri=Url('https://scontent-mad2-1.xx.fbcdn.net/v/t39.30808-6/448760026_90028366753117_882125934684903711_n.jpg?stp=dst-jpg_p526x296&_nc_cat=109&ccb=1-7&_nc_sid=2f2557&_nc_ohc=-e7t5pAA8EoQ7kNvgE7dFY1&_nc_ad=z-m&_nc_cid=0&_nc_ht=scontent-mad2-1.xx&oh=00_AYBaZ33US8QhU4-Yzw1IEq5BqG0btCP1WOWN0VAxjFMyxA&oe=66874B5B'), cover_artwork_thumbnail_uri=Url('https://scontent-mad2-1.xx.fbcdn.net/v/t39.30808-6/448760026_90028366753117_882125934684903711_n.jpg?stp=dst-jpg_s168x128&_nc_cat=109&ccb=1-7&_nc_sid=2f2557&_nc_ohc=-e7t5pAA8EoQ7kNvgE7dFY1&_nc_ad=z-m&_nc_cid=0&_nc_ht=scontent-mad2-1.xx&oh=00_AYBvJ_YtG7BB0MxR1YdvRBIU722PHVx7aLaSepElUrdZhQ&oe=66874B5B'), progressive_download_url=Url('https://scontent-mad1-1.cdninstagram.com/v/t39.12897-6/448606942_969524558299742_8429621876196169565_n.mp4?_nc_cat=102&ccb=1-7&_nc_sid=c2de2f&_nc_ohc=jhqbvcKL1SUQ7kNvgEAhqH6&_nc_ht=scontent-mad1-1.cdninstagram.com&oh=00_AYBxStRvbRDAXM3sSX1T0p6Ss7NcYvf253lcmUJeL-xh6w&oe=668739FA'), fast_start_progressive_download_url=Url('https://scontent-mad1-1.cdninstagram.com/v/t39.12897-6/448606942_969524558299742_8429621876196169565_n.mp4?_nc_cat=102&ccb=1-7&_nc_sid=c2de2f&_nc_ohc=jhqbvcKL1SUQ7kNvgEAhqH6&_nc_ht=scontent-mad1-1.cdninstagram.com&oh=00_AYBxStRvbRDAXM3sSX1T0p6Ss7NcYvf253lcmUJeL-xh6w&oe=668739FA'), reactive_audio_download_url=None, highlight_start_times_in_ms=[9500, 35000, 70000], is_explicit=False, dash_manifest='<?xml version=\"1.0\"?>\\n<!-- MPD file Generated with GPAC version 0.7.2-DEV-revUNKNOWN_REV  at 2024-06-18T22:04:16.963Z-->\\n<MPD xmlns=\"urn:mpeg:dash:schema:mpd:2011\" minBufferTime=\"PT1.500S\" type=\"static\" mediaPresentationDuration=\"PT0H3M11.932S\" maxSegmentDuration=\"PT0H0M2.005S\" profiles=\"urn:mpeg:dash:profile:isoff-on-demand:2011,http://dashif.org/guidelines/dash264\">\\n <ProgramInformation moreInformationURL=\"http://gpac.io\">\\n  <Title>/work/audio_mpd.mpd generated by GPAC</Title>\\n </ProgramInformation>\\n\\n <Period duration=\"PT0H3M11.932S\">\\n  <AdaptationSet segmentAlignment=\"true\" lang=\"und\" subsegmentAlignment=\"true\" subsegmentStartsWithSAP=\"1\">\\n   <Representation id=\"1\" mimeType=\"audio/mp4\" codecs=\"mp4a.40.2\" audioSamplingRate=\"48000\" startWithSAP=\"1\" bandwidth=\"130112\">\\n    <AudioChannelConfiguration schemeIdUri=\"urn:mpeg:dash:23003:3:audio_channel_configuration:2011\" value=\"2\"/>\\n    <BaseURL>https://scontent-mad2-1.cdninstagram.com/v/t39.12897-6/448509684_937706084765735_8814581508942437876_n.mp4?_nc_cat=1&amp;ccb=1-7&amp;_nc_sid=c2de2f&amp;_nc_ohc=K3zPweXAaacQ7kNvgHn0ANM&amp;_nc_ht=scontent-mad2-1.cdninstagram.com&amp;oh=00_AYCnOx9TMOsNDoSRI9RL0mpl-dViUO2mMkfubpE9MKvZVQ&amp;oe=668740D8</BaseURL>\\n    <SegmentBase indexRangeExact=\"true\" indexRange=\"801-1984\">\\n      <Initialization range=\"0-800\"/>\\n    </SegmentBase>\\n   </Representation>\\n  </AdaptationSet>\\n </Period>\\n</MPD>\\n', uri=Url('https://scontent-mad2-1.cdninstagram.com/v/t39.12897-6/448509684_937706084765735_8814581508942437876_n.mp4?_nc_cat=1&ccb=1-7&_nc_sid=c2de2f&_nc_ohc=K3zPweXAaacQ7kNvgHn0ANM&_nc_ht=scontent-mad2-1.cdninstagram.com&oh=00_AYCnOx9TMOsNDoSRI9RL0mpl-dViUO2mMkfubpE9MKvZVQ&oe=668740D8'), has_lyrics=False, audio_asset_id=443107575130895, duration_in_ms=191931, dark_message=None, allows_saving=True, territory_validity_periods={}), Track(id='933641446987939', title='No Dejes De Soñar', subtitle='', display_artist='Manuel Carrasco', audio_cluster_id=752034071851116, artist_id=None, cover_artwork_uri=Url('https://scontent-mad2-1.xx.fbcdn.net/v/t39.30808-6/427546106_1432338754075825_4499551021696612702_n.jpg?stp=dst-jpg_p526x296&_nc_cat=108&ccb=1-7&_nc_sid=2f2557&_nc_ohc=oOaGNuBSbfoQ7kNvgHh1GN6&_nc_ad=z-m&_nc_cid=0&_nc_ht=scontent-mad2-1.xx&oh=00_AYDxZkNgk7uAm_nlG7kciQaPSVlejttKYN9ULtrhZFjM5w&oe=668746B9'), cover_artwork_thumbnail_uri=Url('https://scontent-mad2-1.xx.fbcdn.net/v/t39.30808-6/427546106_1432338754075825_4499551021696612702_n.jpg?stp=dst-jpg_s168x128&_nc_cat=108&ccb=1-7&_nc_sid=2f2557&_nc_ohc=oOaGNuBSbfoQ7kNvgHh1GN6&_nc_ad=z-m&_nc_cid=0&_nc_ht=scontent-mad2-1.xx&oh=00_AYC0egtUSFGwNdCaEGG-yDWQyOyNUK7WVAFhPV2M3w_J9Q&oe=668746B9'), progressive_download_url=Url('https://scontent-mad1-1.cdninstagram.com/v/t39.12897-6/228696403_1579571615714086_3539022934807757628_n.m4a?_nc_cat=103&ccb=1-7&_nc_sid=c2de2f&_nc_ohc=BQ1IxttVw3sQ7kNvgG-Lsea&_nc_ad=z-m&_nc_cid=0&_nc_ht=scontent-mad1-1.cdninstagram.com&oh=00_AYDIVxd-Jtg8TajxVGDDa_CMuLugNhgl9QGzhMRo5d9ETg&oe=66875936'), fast_start_progressive_download_url=Url('https://scontent-mad1-1.cdninstagram.com/v/t39.12897-6/228696403_1579571615714086_3539022934807757628_n.m4a?_nc_cat=103&ccb=1-7&_nc_sid=c2de2f&_nc_ohc=BQ1IxttVw3sQ7kNvgG-Lsea&_nc_ad=z-m&_nc_cid=0&_nc_ht=scontent-mad1-1.cdninstagram.com&oh=00_AYDIVxd-Jtg8TajxVGDDa_CMuLugNhgl9QGzhMRo5d9ETg&oe=66875936'), reactive_audio_download_url=None, highlight_start_times_in_ms=[65000, 108500, 128000], is_explicit=False, dash_manifest='<?xml version=\"1.0\" encoding=\"UTF-8\"?>\\n<!--Generated with https://github.com/google/shaka-packager version v1.6.0-release-->\\n<MPD xmlns=\"urn:mpeg:dash:schema:mpd:2011\" xmlns:xsi=\"http://www.w3.org/2001/XMLSchema-instance\" xmlns:xlink=\"http://www.w3.org/1999/xlink\" xmlns:cenc=\"urn:mpeg:cenc:2013\" xsi:schemaLocation=\"urn:mpeg:dash:schema:mpd:2011 DASH-MPD.xsd\" profiles=\"urn:mpeg:dash:profile:isoff-on-demand:2011\" minBufferTime=\"PT2S\" type=\"static\" mediaPresentationDuration=\"PT319.616S\">\\n  <Period id=\"0\">\\n    <AdaptationSet id=\"0\" contentType=\"audio\" subsegmentAlignment=\"true\">\\n      <Representation id=\"0\" bandwidth=\"129984\" codecs=\"mp4a.40.2\" mimeType=\"audio/mp4\" audioSamplingRate=\"48000\">\\n        <AudioChannelConfiguration schemeIdUri=\"urn:mpeg:dash:23003:3:audio_channel_configuration:2011\" value=\"2\"/>\\n        <BaseURL>https://scontent-mad2-1.cdninstagram.com/v/t39.12897-6/70844724_375623193369158_5284720626504826880_n.m4a?_nc_cat=1&amp;ccb=1-7&amp;_nc_sid=c2de2f&amp;_nc_ohc=EePE6CqZ1R0Q7kNvgFrp0-F&amp;_nc_ad=z-m&amp;_nc_cid=0&amp;_nc_ht=scontent-mad2-1.cdninstagram.com&amp;oh=00_AYBxN2Tqsvoy_h1CX3XgZDuV6k9eIuRw5h73DmmdyETEvA&amp;oe=668757FF</BaseURL>\\n        <SegmentBase indexRange=\"741-2692\" timescale=\"48000\">\\n          <Initialization range=\"0-740\"/>\\n        </SegmentBase>\\n      </Representation>\\n    </AdaptationSet>\\n  </Period>\\n</MPD>\\n', uri=Url('https://scontent-mad2-1.cdninstagram.com/v/t39.12897-6/70844724_375623193369158_5284720626504826880_n.m4a?_nc_cat=1&ccb=1-7&_nc_sid=c2de2f&_nc_ohc=EePE6CqZ1R0Q7kNvgFrp0-F&_nc_ad=z-m&_nc_cid=0&_nc_ht=scontent-mad2-1.cdninstagram.com&oh=00_AYBxN2Tqsvoy_h1CX3XgZDuV6k9eIuRw5h73DmmdyETEvA&oe=668757FF'), has_lyrics=True, audio_asset_id=933641446987939, duration_in_ms=319573, dark_message=None, allows_saving=True, territory_validity_periods={}), Track(id='1126483735104459', title='La Reina Del Baile', subtitle='', display_artist='Manuel Carrasco', audio_cluster_id=813721874193101, artist_id=None, cover_artwork_uri=Url('https://scontent-mad2-1.xx.fbcdn.net/v/t39.30808-6/448469993_90028365683612_2902668893268474648_n.jpg?stp=dst-jpg_p526x296&_nc_cat=1&ccb=1-7&_nc_sid=2f2557&_nc_ohc=Wh-Ed29IuKIQ7kNvgFny5LK&_nc_ad=z-m&_nc_cid=0&_nc_ht=scontent-mad2-1.xx&oh=00_AYCGTNPnOMFPdu_5L0LQ9QfRNj5ksjwpasANRBzS4JxPWw&oe=66875EFB'), cover_artwork_thumbnail_uri=Url('https://scontent-mad2-1.xx.fbcdn.net/v/t39.30808-6/448469993_90028365683612_2902668893268474648_n.jpg?stp=dst-jpg_s168x128&_nc_cat=1&ccb=1-7&_nc_sid=2f2557&_nc_ohc=Wh-Ed29IuKIQ7kNvgFny5LK&_nc_ad=z-m&_nc_cid=0&_nc_ht=scontent-mad2-1.xx&oh=00_AYAPZzvzcRH8IPlELXVMkNrWLr8E8gLjPLlf6dIkZXIBbw&oe=66875EFB'), progressive_download_url=Url('https://scontent-mad1-1.cdninstagram.com/v/t39.12897-6/448544914_995114385103510_3779910691938390215_n.mp4?_nc_cat=105&ccb=1-7&_nc_sid=c2de2f&_nc_ohc=U3sKqKE5AMIQ7kNvgHEzEhH&_nc_ht=scontent-mad1-1.cdninstagram.com&oh=00_AYDsFf4UnhcMS1za6k83ynJ-zSBJPbp6f6qSvAVskc68sg&oe=66875A1F'), fast_start_progressive_download_url=Url('https://scontent-mad1-1.cdninstagram.com/v/t39.12897-6/448544914_995114385103510_3779910691938390215_n.mp4?_nc_cat=105&ccb=1-7&_nc_sid=c2de2f&_nc_ohc=U3sKqKE5AMIQ7kNvgHEzEhH&_nc_ht=scontent-mad1-1.cdninstagram.com&oh=00_AYDsFf4UnhcMS1za6k83ynJ-zSBJPbp6f6qSvAVskc68sg&oe=66875A1F'), reactive_audio_download_url=None, highlight_start_times_in_ms=[9500], is_explicit=False, dash_manifest='<?xml version=\"1.0\"?>\\n<!-- MPD file Generated with GPAC version 0.7.2-DEV-revUNKNOWN_REV  at 2024-06-18T18:08:56.109Z-->\\n<MPD xmlns=\"urn:mpeg:dash:schema:mpd:2011\" minBufferTime=\"PT1.500S\" type=\"static\" mediaPresentationDuration=\"PT0H0M31.000S\" maxSegmentDuration=\"PT0H0M2.005S\" profiles=\"urn:mpeg:dash:profile:isoff-on-demand:2011,http://dashif.org/guidelines/dash264\">\\n <ProgramInformation moreInformationURL=\"http://gpac.io\">\\n  <Title>/work/audio_mpd.mpd generated by GPAC</Title>\\n </ProgramInformation>\\n\\n <Period duration=\"PT0H0M31.000S\">\\n  <AdaptationSet segmentAlignment=\"true\" lang=\"und\" subsegmentAlignment=\"true\" subsegmentStartsWithSAP=\"1\">\\n   <Representation id=\"1\" mimeType=\"audio/mp4\" codecs=\"mp4a.40.2\" audioSamplingRate=\"48000\" startWithSAP=\"1\" bandwidth=\"130564\">\\n    <AudioChannelConfiguration schemeIdUri=\"urn:mpeg:dash:23003:3:audio_channel_configuration:2011\" value=\"2\"/>\\n    <BaseURL>https://scontent-mad2-1.cdninstagram.com/v/t39.12897-6/448760173_815879860492154_5603815101611617842_n.mp4?_nc_cat=1&amp;ccb=1-7&amp;_nc_sid=c2de2f&amp;_nc_ohc=ykddxLpVF_UQ7kNvgGPMm_5&amp;_nc_ht=scontent-mad2-1.cdninstagram.com&amp;oh=00_AYCSDK96trKxSxO8fPWcbmn2QnlENKa7aUfDrPyYqaBDAA&amp;oe=6687630A</BaseURL>\\n    <SegmentBase indexRangeExact=\"true\" indexRange=\"801-1024\">\\n      <Initialization range=\"0-800\"/>\\n    </SegmentBase>\\n   </Representation>\\n  </AdaptationSet>\\n </Period>\\n</MPD>\\n', uri=Url('https://scontent-mad2-1.cdninstagram.com/v/t39.12897-6/448760173_815879860492154_5603815101611617842_n.mp4?_nc_cat=1&ccb=1-7&_nc_sid=c2de2f&_nc_ohc=ykddxLpVF_UQ7kNvgGPMm_5&_nc_ht=scontent-mad2-1.cdninstagram.com&oh=00_AYCSDK96trKxSxO8fPWcbmn2QnlENKa7aUfDrPyYqaBDAA&oe=6687630A'), has_lyrics=False, audio_asset_id=1126483735104459, duration_in_ms=31000, dark_message=None, allows_saving=True, territory_validity_periods={}), Track(id='607511629674941', title='Soy Afortunado', subtitle='', display_artist='Manuel Carrasco', audio_cluster_id=184365362264229, artist_id=None, cover_artwork_uri=Url('https://scontent-mad2-1.xx.fbcdn.net/v/t39.30808-6/426495664_3499999876957344_2491267010129045505_n.jpg?stp=dst-jpg_p526x296&_nc_cat=110&ccb=1-7&_nc_sid=2f2557&_nc_ohc=Y-vzhxdHd8MQ7kNvgGVdvtp&_nc_ad=z-m&_nc_cid=0&_nc_ht=scontent-mad2-1.xx&oh=00_AYD73E52WkFuQXKM2VNrlyimElj0ALOfsxzZVtB2TDaDgQ&oe=66875B2F'), cover_artwork_thumbnail_uri=Url('https://scontent-mad2-1.xx.fbcdn.net/v/t39.30808-6/426495664_3499999876957344_2491267010129045505_n.jpg?stp=dst-jpg_s168x128&_nc_cat=110&ccb=1-7&_nc_sid=2f2557&_nc_ohc=Y-vzhxdHd8MQ7kNvgGVdvtp&_nc_ad=z-m&_nc_cid=0&_nc_ht=scontent-mad2-1.xx&oh=00_AYB7NVv-WzDHus6vX6lEkEHP9wW-AEgA2BMn_WSUMp9TlA&oe=66875B2F'), progressive_download_url=Url('https://scontent-mad1-1.cdninstagram.com/v/t39.12897-6/235557853_843374412976960_3414722193166892651_n.m4a?_nc_cat=103&ccb=1-7&_nc_sid=c2de2f&_nc_ohc=E-jSroxrZmwQ7kNvgFpiFu2&_nc_ad=z-m&_nc_cid=0&_nc_ht=scontent-mad1-1.cdninstagram.com&oh=00_AYCVMnfDcLe6GJujpgw43tMIcErZah0B3cSQT33R-ahG3g&oe=66876007'), fast_start_progressive_download_url=Url('https://scontent-mad1-1.cdninstagram.com/v/t39.12897-6/235557853_843374412976960_3414722193166892651_n.m4a?_nc_cat=103&ccb=1-7&_nc_sid=c2de2f&_nc_ohc=E-jSroxrZmwQ7kNvgFpiFu2&_nc_ad=z-m&_nc_cid=0&_nc_ht=scontent-mad1-1.cdninstagram.com&oh=00_AYCVMnfDcLe6GJujpgw43tMIcErZah0B3cSQT33R-ahG3g&oe=66876007'), reactive_audio_download_url=None, highlight_start_times_in_ms=[108500, 51500, 68000], is_explicit=False, dash_manifest='<?xml version=\"1.0\" encoding=\"UTF-8\"?>\\n<!--Generated with https://github.com/google/shaka-packager version v1.6.0-release-->\\n<MPD xmlns=\"urn:mpeg:dash:schema:mpd:2011\" xmlns:xsi=\"http://www.w3.org/2001/XMLSchema-instance\" xmlns:xlink=\"http://www.w3.org/1999/xlink\" xmlns:cenc=\"urn:mpeg:cenc:2013\" xsi:schemaLocation=\"urn:mpeg:dash:schema:mpd:2011 DASH-MPD.xsd\" profiles=\"urn:mpeg:dash:profile:isoff-on-demand:2011\" minBufferTime=\"PT2S\" type=\"static\" mediaPresentationDuration=\"PT131.603S\">\\n  <Period id=\"0\">\\n    <AdaptationSet id=\"0\" contentType=\"audio\" subsegmentAlignment=\"true\">\\n      <Representation id=\"0\" bandwidth=\"130043\" codecs=\"mp4a.40.2\" mimeType=\"audio/mp4\" audioSamplingRate=\"48000\">\\n        <AudioChannelConfiguration schemeIdUri=\"urn:mpeg:dash:23003:3:audio_channel_configuration:2011\" value=\"2\"/>\\n        <BaseURL>https://scontent-mad1-1.cdninstagram.com/v/t39.12897-6/52296798_2270837979839127_3838219106281062400_n.m4a?_nc_cat=101&amp;ccb=1-7&amp;_nc_sid=c2de2f&amp;_nc_ohc=wRjdUAc1lDYQ7kNvgH_0oZn&amp;_nc_ad=z-m&amp;_nc_cid=0&amp;_nc_ht=scontent-mad1-1.cdninstagram.com&amp;oh=00_AYA94Qr8Ro79QV-BQML6ntkw2XA8soKkVCfodormCtS9YQ&amp;oe=668744AB</BaseURL>\\n        <SegmentBase indexRange=\"741-1564\" timescale=\"48000\">\\n          <Initialization range=\"0-740\"/>\\n        </SegmentBase>\\n      </Representation>\\n    </AdaptationSet>\\n  </Period>\\n</MPD>\\n', uri=Url('https://scontent-mad1-1.cdninstagram.com/v/t39.12897-6/52296798_2270837979839127_3838219106281062400_n.m4a?_nc_cat=101&ccb=1-7&_nc_sid=c2de2f&_nc_ohc=wRjdUAc1lDYQ7kNvgH_0oZn&_nc_ad=z-m&_nc_cid=0&_nc_ht=scontent-mad1-1.cdninstagram.com&oh=00_AYA94Qr8Ro79QV-BQML6ntkw2XA8soKkVCfodormCtS9YQ&oe=668744AB'), has_lyrics=True, audio_asset_id=607511629674941, duration_in_ms=131560, dark_message=None, allows_saving=True, territory_validity_periods={}), Track(id='976801689698366', title='Hay Que Vivir El Momento', subtitle='', display_artist='Manuel Carrasco', audio_cluster_id=398864518767400, artist_id=None, cover_artwork_uri=Url('https://scontent-mad1-1.xx.fbcdn.net/v/t39.30808-6/417498176_1737147783445955_2270476838856750926_n.jpg?stp=dst-jpg_p526x296&_nc_cat=103&ccb=1-7&_nc_sid=2f2557&_nc_ohc=jvc61u8TxR8Q7kNvgFjro-9&_nc_ad=z-m&_nc_cid=0&_nc_ht=scontent-mad1-1.xx&oh=00_AYBeTKbgPddPrRN76VyUefr1jwEHxCgJGXtBmpw39WlCZw&oe=66873C0D'), cover_artwork_thumbnail_uri=Url('https://scontent-mad1-1.xx.fbcdn.net/v/t39.30808-6/417498176_1737147783445955_2270476838856750926_n.jpg?stp=dst-jpg_s168x128&_nc_cat=103&ccb=1-7&_nc_sid=2f2557&_nc_ohc=jvc61u8TxR8Q7kNvgFjro-9&_nc_ad=z-m&_nc_cid=0&_nc_ht=scontent-mad1-1.xx&oh=00_AYBVtH1YyT0V547RT4-O4iBX7Qcb9is9AuMhAGRc9IvI_g&oe=66873C0D'), progressive_download_url=Url('https://scontent-mad2-1.cdninstagram.com/v/t39.12897-6/281411070_286068697066169_5039998508539013737_n.m4a?_nc_cat=108&ccb=1-7&_nc_sid=c2de2f&_nc_ohc=OVyGjCchBkgQ7kNvgGaH6cT&_nc_ad=z-m&_nc_cid=0&_nc_ht=scontent-mad2-1.cdninstagram.com&oh=00_AYB0T7kW2hhkj1HcaipG3WQvEwZqGlI2GfOWufQZb0GMnw&oe=668748E9'), fast_start_progressive_download_url=Url('https://scontent-mad2-1.cdninstagram.com/v/t39.12897-6/281411070_286068697066169_5039998508539013737_n.m4a?_nc_cat=108&ccb=1-7&_nc_sid=c2de2f&_nc_ohc=OVyGjCchBkgQ7kNvgGaH6cT&_nc_ad=z-m&_nc_cid=0&_nc_ht=scontent-mad2-1.cdninstagram.com&oh=00_AYB0T7kW2hhkj1HcaipG3WQvEwZqGlI2GfOWufQZb0GMnw&oe=668748E9'), reactive_audio_download_url=None, highlight_start_times_in_ms=[52000, 68500, 87000], is_explicit=False, dash_manifest='<?xml version=\"1.0\" encoding=\"UTF-8\"?>\\n<!--Generated with https://github.com/google/shaka-packager version v1.6.0-release-->\\n<MPD xmlns=\"urn:mpeg:dash:schema:mpd:2011\" xmlns:xsi=\"http://www.w3.org/2001/XMLSchema-instance\" xmlns:xlink=\"http://www.w3.org/1999/xlink\" xmlns:cenc=\"urn:mpeg:cenc:2013\" xsi:schemaLocation=\"urn:mpeg:dash:schema:mpd:2011 DASH-MPD.xsd\" profiles=\"urn:mpeg:dash:profile:isoff-on-demand:2011\" minBufferTime=\"PT2S\" type=\"static\" mediaPresentationDuration=\"PT241.41S\">\\n  <Period id=\"0\">\\n    <AdaptationSet id=\"0\" contentType=\"audio\" subsegmentAlignment=\"true\">\\n      <Representation id=\"0\" bandwidth=\"130119\" codecs=\"mp4a.40.2\" mimeType=\"audio/mp4\" audioSamplingRate=\"48000\">\\n        <AudioChannelConfiguration schemeIdUri=\"urn:mpeg:dash:23003:3:audio_channel_configuration:2011\" value=\"2\"/>\\n        <BaseURL>https://scontent-mad2-1.cdninstagram.com/v/t39.12897-6/280861541_313144730998875_5195065160615597046_n.m4a?_nc_cat=1&amp;ccb=1-7&amp;_nc_sid=c2de2f&amp;_nc_ohc=DCHOhS8ri74Q7kNvgG2Dt72&amp;_nc_ad=z-m&amp;_nc_cid=0&amp;_nc_ht=scontent-mad2-1.cdninstagram.com&amp;oh=00_AYDKSE_vAQJEZizPiZQdwcis-jOkaqxSrbcRtVUnM7jGlQ&amp;oe=668763D1</BaseURL>\\n        <SegmentBase indexRange=\"741-2224\" timescale=\"48000\">\\n          <Initialization range=\"0-740\"/>\\n        </SegmentBase>\\n      </Representation>\\n    </AdaptationSet>\\n  </Period>\\n</MPD>\\n', uri=Url('https://scontent-mad2-1.cdninstagram.com/v/t39.12897-6/280861541_313144730998875_5195065160615597046_n.m4a?_nc_cat=1&ccb=1-7&_nc_sid=c2de2f&_nc_ohc=DCHOhS8ri74Q7kNvgG2Dt72&_nc_ad=z-m&_nc_cid=0&_nc_ht=scontent-mad2-1.cdninstagram.com&oh=00_AYDKSE_vAQJEZizPiZQdwcis-jOkaqxSrbcRtVUnM7jGlQ&oe=668763D1'), has_lyrics=True, audio_asset_id=976801689698366, duration_in_ms=241367, dark_message=None, allows_saving=True, territory_validity_periods={}), Track(id='300358257464362', title='Uno X Uno', subtitle='', display_artist='Manuel Carrasco', audio_cluster_id=451253661954124, artist_id=None, cover_artwork_uri=Url('https://scontent-mad2-1.xx.fbcdn.net/v/t39.30808-6/426512790_3655332071450217_7768845314733921369_n.jpg?stp=dst-jpg_p526x296&_nc_cat=109&ccb=1-7&_nc_sid=2f2557&_nc_ohc=z6s4fsgsfwAQ7kNvgE7iDZ8&_nc_ad=z-m&_nc_cid=0&_nc_ht=scontent-mad2-1.xx&oh=00_AYB_G-nTooKXqreskx52Z1iURWtD4yXw3bz3HuLlrVXq4Q&oe=668744F9'), cover_artwork_thumbnail_uri=Url('https://scontent-mad2-1.xx.fbcdn.net/v/t39.30808-6/426512790_3655332071450217_7768845314733921369_n.jpg?stp=dst-jpg_s168x128&_nc_cat=109&ccb=1-7&_nc_sid=2f2557&_nc_ohc=z6s4fsgsfwAQ7kNvgE7iDZ8&_nc_ad=z-m&_nc_cid=0&_nc_ht=scontent-mad2-1.xx&oh=00_AYC94bx7V_umAnv3UsyfkPvkqzS3ZVe_B-sLNnqqASTCsQ&oe=668744F9'), progressive_download_url=Url('https://scontent-mad1-1.cdninstagram.com/v/t39.12897-6/236226793_1236530310093452_3980881445898869600_n.m4a?_nc_cat=105&ccb=1-7&_nc_sid=c2de2f&_nc_ohc=x5j70KX4BKsQ7kNvgF5d4tL&_nc_ad=z-m&_nc_cid=0&_nc_ht=scontent-mad1-1.cdninstagram.com&oh=00_AYDxj1W_4O8hHpM-OvyEOs9CkdHwe9E4BWcDE9qozBF3RA&oe=668761C0'), fast_start_progressive_download_url=Url('https://scontent-mad1-1.cdninstagram.com/v/t39.12897-6/236226793_1236530310093452_3980881445898869600_n.m4a?_nc_cat=105&ccb=1-7&_nc_sid=c2de2f&_nc_ohc=x5j70KX4BKsQ7kNvgF5d4tL&_nc_ad=z-m&_nc_cid=0&_nc_ht=scontent-mad1-1.cdninstagram.com&oh=00_AYDxj1W_4O8hHpM-OvyEOs9CkdHwe9E4BWcDE9qozBF3RA&oe=668761C0'), reactive_audio_download_url=None, highlight_start_times_in_ms=[45000, 105500, 71000], is_explicit=False, dash_manifest='<?xml version=\"1.0\" encoding=\"UTF-8\"?>\\n<!--Generated with https://github.com/google/shaka-packager version v1.6.0-release-->\\n<MPD xmlns=\"urn:mpeg:dash:schema:mpd:2011\" xmlns:xsi=\"http://www.w3.org/2001/XMLSchema-instance\" xmlns:xlink=\"http://www.w3.org/1999/xlink\" xmlns:cenc=\"urn:mpeg:cenc:2013\" xsi:schemaLocation=\"urn:mpeg:dash:schema:mpd:2011 DASH-MPD.xsd\" profiles=\"urn:mpeg:dash:profile:isoff-on-demand:2011\" minBufferTime=\"PT2S\" type=\"static\" mediaPresentationDuration=\"PT229.763S\">\\n  <Period id=\"0\">\\n    <AdaptationSet id=\"0\" contentType=\"audio\" subsegmentAlignment=\"true\">\\n      <Representation id=\"0\" bandwidth=\"130010\" codecs=\"mp4a.40.2\" mimeType=\"audio/mp4\" audioSamplingRate=\"48000\">\\n        <AudioChannelConfiguration schemeIdUri=\"urn:mpeg:dash:23003:3:audio_channel_configuration:2011\" value=\"2\"/>\\n        <BaseURL>https://scontent-mad2-1.cdninstagram.com/v/t39.12897-6/43827373_2228474734056755_26743026185404416_n.m4a?_nc_cat=100&amp;ccb=1-7&amp;_nc_sid=c2de2f&amp;_nc_ohc=686e7TIQ36UQ7kNvgFOTHY_&amp;_nc_ad=z-m&amp;_nc_cid=0&amp;_nc_ht=scontent-mad2-1.cdninstagram.com&amp;oh=00_AYC2wV8M4JMLrD5jHsL0z9S8jWXu5p9hfDXMIPyxGnI33Q&amp;oe=668761C3</BaseURL>\\n        <SegmentBase indexRange=\"741-2152\" timescale=\"48000\">\\n          <Initialization range=\"0-740\"/>\\n        </SegmentBase>\\n      </Representation>\\n    </AdaptationSet>\\n  </Period>\\n</MPD>\\n', uri=Url('https://scontent-mad2-1.cdninstagram.com/v/t39.12897-6/43827373_2228474734056755_26743026185404416_n.m4a?_nc_cat=100&ccb=1-7&_nc_sid=c2de2f&_nc_ohc=686e7TIQ36UQ7kNvgFOTHY_&_nc_ad=z-m&_nc_cid=0&_nc_ht=scontent-mad2-1.cdninstagram.com&oh=00_AYC2wV8M4JMLrD5jHsL0z9S8jWXu5p9hfDXMIPyxGnI33Q&oe=668761C3'), has_lyrics=True, audio_asset_id=300358257464362, duration_in_ms=229720, dark_message=None, allows_saving=True, territory_validity_periods={}), Track(id='289974439682477', title='Tan Solo Tú', subtitle='', display_artist='Manuel Carrasco', audio_cluster_id=4547352401954786, artist_id=None, cover_artwork_uri=Url('https://scontent-mad2-1.xx.fbcdn.net/v/t39.30808-6/426897892_827536955841231_2940358392439432468_n.jpg?stp=dst-jpg_p526x296&_nc_cat=110&ccb=1-7&_nc_sid=2f2557&_nc_ohc=BfnjndPN8CsQ7kNvgH5fMYw&_nc_ad=z-m&_nc_cid=0&_nc_ht=scontent-mad2-1.xx&oh=00_AYBLanfaWwQzcJkf9Fs_jGqzXw06j8saOKXaN5Eb5NcaSA&oe=668736F7'), cover_artwork_thumbnail_uri=Url('https://scontent-mad2-1.xx.fbcdn.net/v/t39.30808-6/426897892_827536955841231_2940358392439432468_n.jpg?stp=dst-jpg_s168x128&_nc_cat=110&ccb=1-7&_nc_sid=2f2557&_nc_ohc=BfnjndPN8CsQ7kNvgH5fMYw&_nc_ad=z-m&_nc_cid=0&_nc_ht=scontent-mad2-1.xx&oh=00_AYAo2ASkoOmAtN2Lvm_XRpOhiuBFsKT6V4cHLrLXr8Pnkg&oe=668736F7'), progressive_download_url=Url('https://scontent-mad2-1.cdninstagram.com/v/t39.12897-6/258504636_934205480845410_8870273031679242448_n.m4a?_nc_cat=104&ccb=1-7&_nc_sid=c2de2f&_nc_ohc=4y3e35UaluAQ7kNvgFe54Jp&_nc_ad=z-m&_nc_cid=0&_nc_ht=scontent-mad2-1.cdninstagram.com&oh=00_AYCp_VR3d3tsczLWqm9tKqbmQKu8beJiQX6Q8f-VWvm9-w&oe=66873C25'), fast_start_progressive_download_url=Url('https://scontent-mad2-1.cdninstagram.com/v/t39.12897-6/258504636_934205480845410_8870273031679242448_n.m4a?_nc_cat=104&ccb=1-7&_nc_sid=c2de2f&_nc_ohc=4y3e35UaluAQ7kNvgFe54Jp&_nc_ad=z-m&_nc_cid=0&_nc_ht=scontent-mad2-1.cdninstagram.com&oh=00_AYCp_VR3d3tsczLWqm9tKqbmQKu8beJiQX6Q8f-VWvm9-w&oe=66873C25'), reactive_audio_download_url=None, highlight_start_times_in_ms=[50000, 65000, 114000], is_explicit=False, dash_manifest='<?xml version=\"1.0\" encoding=\"UTF-8\"?>\\n<!--Generated with https://github.com/google/shaka-packager version v1.6.0-release-->\\n<MPD xmlns=\"urn:mpeg:dash:schema:mpd:2011\" xmlns:xsi=\"http://www.w3.org/2001/XMLSchema-instance\" xmlns:xlink=\"http://www.w3.org/1999/xlink\" xmlns:cenc=\"urn:mpeg:cenc:2013\" xsi:schemaLocation=\"urn:mpeg:dash:schema:mpd:2011 DASH-MPD.xsd\" profiles=\"urn:mpeg:dash:profile:isoff-on-demand:2011\" minBufferTime=\"PT2S\" type=\"static\" mediaPresentationDuration=\"PT275.549S\">\\n  <Period id=\"0\">\\n    <AdaptationSet id=\"0\" contentType=\"audio\" subsegmentAlignment=\"true\">\\n      <Representation id=\"0\" bandwidth=\"129998\" codecs=\"mp4a.40.2\" mimeType=\"audio/mp4\" audioSamplingRate=\"48000\">\\n        <AudioChannelConfiguration schemeIdUri=\"urn:mpeg:dash:23003:3:audio_channel_configuration:2011\" value=\"2\"/>\\n        <BaseURL>https://scontent-mad2-1.cdninstagram.com/v/t39.12897-6/257928437_288863659816069_5956758720218767432_n.m4a?_nc_cat=111&amp;ccb=1-7&amp;_nc_sid=c2de2f&amp;_nc_ohc=noXUsQjc6tIQ7kNvgEtZiKT&amp;_nc_ad=z-m&amp;_nc_cid=0&amp;_nc_ht=scontent-mad2-1.cdninstagram.com&amp;oh=00_AYAbSxILcaNm-h84n-Ab2rsOoiTYdbGr-cQ78osBv0BCJQ&amp;oe=66874A7B</BaseURL>\\n        <SegmentBase indexRange=\"741-2428\" timescale=\"48000\">\\n          <Initialization range=\"0-740\"/>\\n        </SegmentBase>\\n      </Representation>\\n    </AdaptationSet>\\n  </Period>\\n</MPD>\\n', uri=Url('https://scontent-mad2-1.cdninstagram.com/v/t39.12897-6/257928437_288863659816069_5956758720218767432_n.m4a?_nc_cat=111&ccb=1-7&_nc_sid=c2de2f&_nc_ohc=noXUsQjc6tIQ7kNvgEtZiKT&_nc_ad=z-m&_nc_cid=0&_nc_ht=scontent-mad2-1.cdninstagram.com&oh=00_AYAbSxILcaNm-h84n-Ab2rsOoiTYdbGr-cQ78osBv0BCJQ&oe=66874A7B'), has_lyrics=True, audio_asset_id=289974439682477, duration_in_ms=275506, dark_message=None, allows_saving=True, territory_validity_periods={}), Track(id='226347074577709', title='La aventura de vivir', subtitle='', display_artist='Manuel Carrasco', audio_cluster_id=2317045278318221, artist_id=None, cover_artwork_uri=Url('https://scontent-mad2-1.xx.fbcdn.net/v/t39.30808-6/426001224_1095364381654683_3423385206422450139_n.jpg?stp=dst-jpg_p526x296&_nc_cat=110&ccb=1-7&_nc_sid=2f2557&_nc_ohc=6hAmeSjgo0QQ7kNvgFgAR1D&_nc_ad=z-m&_nc_cid=0&_nc_ht=scontent-mad2-1.xx&oh=00_AYD3qJKz1RK1JUDipnd-pbBbb_2Rl_iZ_gJcnzlK15W79g&oe=6687566E'), cover_artwork_thumbnail_uri=Url('https://scontent-mad2-1.xx.fbcdn.net/v/t39.30808-6/426001224_1095364381654683_3423385206422450139_n.jpg?stp=dst-jpg_s168x128&_nc_cat=110&ccb=1-7&_nc_sid=2f2557&_nc_ohc=6hAmeSjgo0QQ7kNvgFgAR1D&_nc_ad=z-m&_nc_cid=0&_nc_ht=scontent-mad2-1.xx&oh=00_AYBGdHwmaRn2dZ2MhBFC5bLtYj4z6brC2kOBmqRrTChOBA&oe=6687566E'), progressive_download_url=Url('https://scontent-mad2-1.cdninstagram.com/v/t39.12897-6/233418614_362178332160889_408755241804965930_n.m4a?_nc_cat=110&ccb=1-7&_nc_sid=c2de2f&_nc_ohc=y50qX2UR81MQ7kNvgHtqH5O&_nc_ad=z-m&_nc_cid=0&_nc_ht=scontent-mad2-1.cdninstagram.com&oh=00_AYDoBUkkiIt_K0ybzQYEbdS2oGV4NuNoyDSODGt205z6tA&oe=66875476'), fast_start_progressive_download_url=Url('https://scontent-mad2-1.cdninstagram.com/v/t39.12897-6/233418614_362178332160889_408755241804965930_n.m4a?_nc_cat=110&ccb=1-7&_nc_sid=c2de2f&_nc_ohc=y50qX2UR81MQ7kNvgHtqH5O&_nc_ad=z-m&_nc_cid=0&_nc_ht=scontent-mad2-1.cdninstagram.com&oh=00_AYDoBUkkiIt_K0ybzQYEbdS2oGV4NuNoyDSODGt205z6tA&oe=66875476'), reactive_audio_download_url=None, highlight_start_times_in_ms=[41000, 86000, 24000], is_explicit=False, dash_manifest='<?xml version=\"1.0\" encoding=\"UTF-8\"?>\\n<!--Generated with https://github.com/google/shaka-packager version v1.6.0-release-->\\n<MPD xmlns=\"urn:mpeg:dash:schema:mpd:2011\" xmlns:xsi=\"http://www.w3.org/2001/XMLSchema-instance\" xmlns:xlink=\"http://www.w3.org/1999/xlink\" xmlns:cenc=\"urn:mpeg:cenc:2013\" xsi:schemaLocation=\"urn:mpeg:dash:schema:mpd:2011 DASH-MPD.xsd\" profiles=\"urn:mpeg:dash:profile:isoff-on-demand:2011\" minBufferTime=\"PT2S\" type=\"static\" mediaPresentationDuration=\"PT175.909S\">\\n  <Period id=\"0\">\\n    <AdaptationSet id=\"0\" contentType=\"audio\" subsegmentAlignment=\"true\">\\n      <Representation id=\"0\" bandwidth=\"130016\" codecs=\"mp4a.40.2\" mimeType=\"audio/mp4\" audioSamplingRate=\"48000\">\\n        <AudioChannelConfiguration schemeIdUri=\"urn:mpeg:dash:23003:3:audio_channel_configuration:2011\" value=\"2\"/>\\n        <BaseURL>https://scontent-mad1-1.cdninstagram.com/v/t39.12897-6/116748675_596862551033275_7647666371062088665_n.m4a?_nc_cat=103&amp;ccb=1-7&amp;_nc_sid=c2de2f&amp;_nc_ohc=t67spd7g3XkQ7kNvgHQQ1Hk&amp;_nc_ad=z-m&amp;_nc_cid=0&amp;_nc_ht=scontent-mad1-1.cdninstagram.com&amp;oh=00_AYA_IQ_0lXla8Cf69KZnP4agB6hA4y17jUIYTAzLAivqHw&amp;oe=66875C44</BaseURL>\\n        <SegmentBase indexRange=\"741-1828\" timescale=\"48000\">\\n          <Initialization range=\"0-740\"/>\\n        </SegmentBase>\\n      </Representation>\\n    </AdaptationSet>\\n  </Period>\\n</MPD>\\n', uri=Url('https://scontent-mad1-1.cdninstagram.com/v/t39.12897-6/116748675_596862551033275_7647666371062088665_n.m4a?_nc_cat=103&ccb=1-7&_nc_sid=c2de2f&_nc_ohc=t67spd7g3XkQ7kNvgHQQ1Hk&_nc_ad=z-m&_nc_cid=0&_nc_ht=scontent-mad1-1.cdninstagram.com&oh=00_AYA_IQ_0lXla8Cf69KZnP4agB6hA4y17jUIYTAzLAivqHw&oe=66875C44'), has_lyrics=False, audio_asset_id=226347074577709, duration_in_ms=175866, dark_message=None, allows_saving=True, territory_validity_periods={}), Track(id='1419633071854709', title='Coquito', subtitle='', display_artist='Manuel Carrasco', audio_cluster_id=1097348217833686, artist_id=None, cover_artwork_uri=Url('https://scontent-mad2-1.xx.fbcdn.net/v/t39.30808-6/427536274_915180730083239_8259250394234739969_n.jpg?stp=dst-jpg_p526x296&_nc_cat=100&ccb=1-7&_nc_sid=2f2557&_nc_ohc=IzOORuWS10YQ7kNvgEouqXm&_nc_ad=z-m&_nc_cid=0&_nc_ht=scontent-mad2-1.xx&oh=00_AYCdYEbljDjC6JNv6ENuBYgvFkx2Bvze9rZDyuLPqfsE0Q&oe=668740B2'), cover_artwork_thumbnail_uri=Url('https://scontent-mad2-1.xx.fbcdn.net/v/t39.30808-6/427536274_915180730083239_8259250394234739969_n.jpg?stp=dst-jpg_s168x128&_nc_cat=100&ccb=1-7&_nc_sid=2f2557&_nc_ohc=IzOORuWS10YQ7kNvgEouqXm&_nc_ad=z-m&_nc_cid=0&_nc_ht=scontent-mad2-1.xx&oh=00_AYCETfenON_6WAzoyx-nNljIe0iO496yTuWec6dMl54Xfg&oe=668740B2'), progressive_download_url=Url('https://scontent-mad2-1.cdninstagram.com/v/t39.12897-6/302279992_5133638266759138_8046723001871488464_n.m4a?_nc_cat=108&ccb=1-7&_nc_sid=c2de2f&_nc_ohc=p-w2RteCZdEQ7kNvgE1iRJk&_nc_ad=z-m&_nc_cid=0&_nc_ht=scontent-mad2-1.cdninstagram.com&oh=00_AYCiNjZMTol57ARng6DwL4G2Z5tVpliQ6X-BR5IoAnPsTg&oe=6687370E'), fast_start_progressive_download_url=Url('https://scontent-mad2-1.cdninstagram.com/v/t39.12897-6/302279992_5133638266759138_8046723001871488464_n.m4a?_nc_cat=108&ccb=1-7&_nc_sid=c2de2f&_nc_ohc=p-w2RteCZdEQ7kNvgE1iRJk&_nc_ad=z-m&_nc_cid=0&_nc_ht=scontent-mad2-1.cdninstagram.com&oh=00_AYCiNjZMTol57ARng6DwL4G2Z5tVpliQ6X-BR5IoAnPsTg&oe=6687370E'), reactive_audio_download_url=None, highlight_start_times_in_ms=[5000, 29000, 53000], is_explicit=False, dash_manifest='<?xml version=\"1.0\" encoding=\"UTF-8\"?>\\n<!--Generated with https://github.com/google/shaka-packager version v1.6.0-release-->\\n<MPD xmlns=\"urn:mpeg:dash:schema:mpd:2011\" xmlns:xsi=\"http://www.w3.org/2001/XMLSchema-instance\" xmlns:xlink=\"http://www.w3.org/1999/xlink\" xmlns:cenc=\"urn:mpeg:cenc:2013\" xsi:schemaLocation=\"urn:mpeg:dash:schema:mpd:2011 DASH-MPD.xsd\" profiles=\"urn:mpeg:dash:profile:isoff-on-demand:2011\" minBufferTime=\"PT2S\" type=\"static\" mediaPresentationDuration=\"PT220.465S\">\\n  <Period id=\"0\">\\n    <AdaptationSet id=\"0\" contentType=\"audio\" subsegmentAlignment=\"true\">\\n      <Representation id=\"0\" bandwidth=\"130125\" codecs=\"mp4a.40.2\" mimeType=\"audio/mp4\" audioSamplingRate=\"48000\">\\n        <AudioChannelConfiguration schemeIdUri=\"urn:mpeg:dash:23003:3:audio_channel_configuration:2011\" value=\"2\"/>\\n        <BaseURL>https://scontent-mad2-1.cdninstagram.com/v/t39.12897-6/303572323_434485958492526_6207326791545688455_n.m4a?_nc_cat=111&amp;ccb=1-7&amp;_nc_sid=c2de2f&amp;_nc_ohc=9Stpzz8QBFkQ7kNvgEYR5Ng&amp;_nc_ad=z-m&amp;_nc_cid=0&amp;_nc_ht=scontent-mad2-1.cdninstagram.com&amp;oh=00_AYAaC-kvZT4hnbcLBHpAp73BpyV2IATItftCV-44Hkey8g&amp;oe=668764A3</BaseURL>\\n        <SegmentBase indexRange=\"741-2092\" timescale=\"48000\">\\n          <Initialization range=\"0-740\"/>\\n        </SegmentBase>\\n      </Representation>\\n    </AdaptationSet>\\n  </Period>\\n</MPD>\\n', uri=Url('https://scontent-mad2-1.cdninstagram.com/v/t39.12897-6/303572323_434485958492526_6207326791545688455_n.m4a?_nc_cat=111&ccb=1-7&_nc_sid=c2de2f&_nc_ohc=9Stpzz8QBFkQ7kNvgEYR5Ng&_nc_ad=z-m&_nc_cid=0&_nc_ht=scontent-mad2-1.cdninstagram.com&oh=00_AYAaC-kvZT4hnbcLBHpAp73BpyV2IATItftCV-44Hkey8g&oe=668764A3'), has_lyrics=True, audio_asset_id=1419633071854709, duration_in_ms=220422, dark_message=None, allows_saving=True, territory_validity_periods={})]\n"
     ]
    }
   ],
   "source": [
    "print(music)"
   ]
  },
  {
   "cell_type": "code",
   "execution_count": null,
   "metadata": {},
   "outputs": [
    {
     "name": "stdout",
     "output_type": "stream",
     "text": [
      "<class 'list'>\n"
     ]
    }
   ],
   "source": [
    "print(type(music))"
   ]
  },
  {
   "cell_type": "code",
   "execution_count": null,
   "metadata": {},
   "outputs": [],
   "source": [
    "for track in music:\n",
    "    print(f\"- IG ID: {track.id}    is {track.title} by {track.display_artist} ({track.uri})\")\n"
   ]
  },
  {
   "cell_type": "code",
   "execution_count": 83,
   "metadata": {},
   "outputs": [],
   "source": [
    "track = music[8]\n",
    "\n",
    "# Alternative:\n",
    "# track_id: str = \"318570269071669\"  # Replace with the actual ID\n",
    "# track = igcl.client.music_info(track_id)\n",
    "\n",
    "# checking with horizontal videos on upload reel\n",
    "path = Path(r\"C:\\Users\\manue\\Documents\\GitHubMLSN\\JK Peru Photos\\VID_20151129_162445433.mp4\")\n",
    "caption = \"\"\"The vast Peruvian deserts, a hidden gem of South America, \n",
    "remain a mystery to many travelers. These immense landscapes, stretching across the country, \n",
    "showcase a diverse array of ecosystems and awe-inspiring beauty. \n",
    "From the rolling sand dunes of Ica to the rugged cliffs of Paracas, \n",
    "the Peruvian deserts offer an otherworldly experience that is sure to leave \n",
    "a lasting impression on any adventurer. Despite their stunning beauty and unique appeal, \n",
    "these vast stretches of sand and rock remain relatively unknown to the outside world, \n",
    "making them an ideal destination for \n",
    "those seeking an off-the-beaten-path adventure\n",
    "\n",
    "Now with the appropriate music from @manuelcarrasco\n",
    "\n",
    "#peruviandesert #peru #travelaroundtheworld\"\"\""
   ]
  },
  {
   "cell_type": "code",
   "execution_count": 84,
   "metadata": {},
   "outputs": [
    {
     "name": "stdout",
     "output_type": "stream",
     "text": [
      "Moviepy - Building video C:\\Users\\manue\\AppData\\Local\\Temp\\tmpkv5a67ws.mp4.\n",
      "MoviePy - Writing audio in tmpkv5a67wsTEMP_MPY_wvf_snd.mp3\n"
     ]
    },
    {
     "name": "stderr",
     "output_type": "stream",
     "text": [
      "                                                                   \r"
     ]
    },
    {
     "name": "stdout",
     "output_type": "stream",
     "text": [
      "MoviePy - Done.\n",
      "Moviepy - Writing video C:\\Users\\manue\\AppData\\Local\\Temp\\tmpkv5a67ws.mp4\n",
      "\n"
     ]
    },
    {
     "name": "stderr",
     "output_type": "stream",
     "text": [
      "t:  99%|█████████▉| 553/557 [00:39<00:00, 15.55it/s, now=None]WARNING:py.warnings:c:\\Users\\manue\\Documents\\GitHubMLSN\\sn-libraries\\sn-env\\Lib\\site-packages\\moviepy\\video\\io\\ffmpeg_reader.py:123: UserWarning: Warning: in file C:\\Users\\manue\\Documents\\GitHubMLSN\\JK Peru Photos\\VID_20151129_162445433.mp4, 6220800 bytes wanted but 0 bytes read,at frame 553/557, at time 18.43/18.54 sec. Using the last valid frame instead.\n",
      "  warnings.warn(\"Warning: in file %s, \"%(self.filename)+\n",
      "\n",
      "t: 100%|█████████▉| 555/557 [00:39<00:00, 14.49it/s, now=None]WARNING:py.warnings:c:\\Users\\manue\\Documents\\GitHubMLSN\\sn-libraries\\sn-env\\Lib\\site-packages\\moviepy\\video\\io\\ffmpeg_reader.py:123: UserWarning: Warning: in file C:\\Users\\manue\\Documents\\GitHubMLSN\\JK Peru Photos\\VID_20151129_162445433.mp4, 6220800 bytes wanted but 0 bytes read,at frame 554/557, at time 18.47/18.54 sec. Using the last valid frame instead.\n",
      "  warnings.warn(\"Warning: in file %s, \"%(self.filename)+\n",
      "\n",
      "WARNING:py.warnings:c:\\Users\\manue\\Documents\\GitHubMLSN\\sn-libraries\\sn-env\\Lib\\site-packages\\moviepy\\video\\io\\ffmpeg_reader.py:123: UserWarning: Warning: in file C:\\Users\\manue\\Documents\\GitHubMLSN\\JK Peru Photos\\VID_20151129_162445433.mp4, 6220800 bytes wanted but 0 bytes read,at frame 555/557, at time 18.50/18.54 sec. Using the last valid frame instead.\n",
      "  warnings.warn(\"Warning: in file %s, \"%(self.filename)+\n",
      "\n",
      "WARNING:py.warnings:c:\\Users\\manue\\Documents\\GitHubMLSN\\sn-libraries\\sn-env\\Lib\\site-packages\\moviepy\\video\\io\\ffmpeg_reader.py:123: UserWarning: Warning: in file C:\\Users\\manue\\Documents\\GitHubMLSN\\JK Peru Photos\\VID_20151129_162445433.mp4, 6220800 bytes wanted but 0 bytes read,at frame 556/557, at time 18.53/18.54 sec. Using the last valid frame instead.\n",
      "  warnings.warn(\"Warning: in file %s, \"%(self.filename)+\n",
      "\n",
      "                                                              \r"
     ]
    },
    {
     "name": "stdout",
     "output_type": "stream",
     "text": [
      "Moviepy - Done !\n",
      "Moviepy - video ready C:\\Users\\manue\\AppData\\Local\\Temp\\tmpkv5a67ws.mp4\n",
      "Analyzing CLIP file \"C:\\Users\\manue\\AppData\\Local\\Temp\\tmpkv5a67ws.mp4\"\n",
      "Generating thumbnail \"C:\\Users\\manue\\AppData\\Local\\Temp\\tmpkv5a67ws.mp4.jpg\"...\n"
     ]
    },
    {
     "name": "stderr",
     "output_type": "stream",
     "text": [
      "INFO:private_request:johnklanick [200] GET https://i.instagram.com/rupload_igvideo/1719763762073_0_7095982939 (269.0.0.18.75, OnePlus 6T Dev)\n",
      "INFO:private_request:johnklanick [200] POST https://i.instagram.com/rupload_igvideo/1719763762073_0_7095982939 (269.0.0.18.75, OnePlus 6T Dev)\n",
      "INFO:private_request:johnklanick [200] POST https://i.instagram.com/rupload_igphoto/1719763762073_0_6325296150 (269.0.0.18.75, OnePlus 6T Dev)\n",
      "INFO:instagrapi:https://i.instagram.com/api/v1/media/configure_to_clips/?video=1\n",
      "INFO:private_request:johnklanick [200] POST https://i.instagram.com/api/v1/media/configure_to_clips/?video=1 (269.0.0.18.75, OnePlus 6T Dev)\n",
      "INFO:instagrapi:https://i.instagram.com/api/v1/qe/expose/\n",
      "INFO:private_request:johnklanick [200] POST https://i.instagram.com/api/v1/qe/expose/ (269.0.0.18.75, OnePlus 6T Dev)\n"
     ]
    },
    {
     "ename": "PermissionError",
     "evalue": "[WinError 32] The process cannot access the file because it is being used by another process: 'C:\\\\Users\\\\manue\\\\AppData\\\\Local\\\\Temp\\\\tmpkv5a67ws.mp4'",
     "output_type": "error",
     "traceback": [
      "\u001b[1;31m---------------------------------------------------------------------------\u001b[0m",
      "\u001b[1;31mPermissionError\u001b[0m                           Traceback (most recent call last)",
      "Cell \u001b[1;32mIn[84], line 1\u001b[0m\n\u001b[1;32m----> 1\u001b[0m reel_with_music \u001b[38;5;241m=\u001b[39m \u001b[43migcl\u001b[49m\u001b[38;5;241;43m.\u001b[39;49m\u001b[43mclient\u001b[49m\u001b[38;5;241;43m.\u001b[39;49m\u001b[43mclip_upload_as_reel_with_music\u001b[49m\u001b[43m(\u001b[49m\u001b[43mpath\u001b[49m\u001b[43m,\u001b[49m\u001b[43m \u001b[49m\u001b[43mcaption\u001b[49m\u001b[38;5;241;43m=\u001b[39;49m\u001b[43mcaption\u001b[49m\u001b[43m,\u001b[49m\u001b[43m \u001b[49m\u001b[43mtrack\u001b[49m\u001b[38;5;241;43m=\u001b[39;49m\u001b[43mtrack\u001b[49m\u001b[43m)\u001b[49m\n",
      "File \u001b[1;32mc:\\Users\\manue\\Documents\\GitHubMLSN\\sn-libraries\\sn-env\\Lib\\site-packages\\instagrapi\\mixins\\clip.py:293\u001b[0m, in \u001b[0;36mUploadClipMixin.clip_upload_as_reel_with_music\u001b[1;34m(self, path, caption, track, extra_data)\u001b[0m\n\u001b[0;32m    291\u001b[0m clip_upload \u001b[38;5;241m=\u001b[39m \u001b[38;5;28mself\u001b[39m\u001b[38;5;241m.\u001b[39mclip_upload(tmpvideo, caption, extra_data\u001b[38;5;241m=\u001b[39mdata)\n\u001b[0;32m    292\u001b[0m \u001b[38;5;66;03m# remove the tmp files\u001b[39;00m\n\u001b[1;32m--> 293\u001b[0m \u001b[43mtmpvideo\u001b[49m\u001b[38;5;241;43m.\u001b[39;49m\u001b[43munlink\u001b[49m\u001b[43m(\u001b[49m\u001b[43m)\u001b[49m\n\u001b[0;32m    294\u001b[0m tmpaudio\u001b[38;5;241m.\u001b[39munlink()\n\u001b[0;32m    295\u001b[0m \u001b[38;5;28;01mreturn\u001b[39;00m clip_upload\n",
      "File \u001b[1;32m~\\AppData\\Local\\Programs\\Python\\Python312\\Lib\\pathlib.py:1342\u001b[0m, in \u001b[0;36mPath.unlink\u001b[1;34m(self, missing_ok)\u001b[0m\n\u001b[0;32m   1337\u001b[0m \u001b[38;5;250m\u001b[39m\u001b[38;5;124;03m\"\"\"\u001b[39;00m\n\u001b[0;32m   1338\u001b[0m \u001b[38;5;124;03mRemove this file or link.\u001b[39;00m\n\u001b[0;32m   1339\u001b[0m \u001b[38;5;124;03mIf the path is a directory, use rmdir() instead.\u001b[39;00m\n\u001b[0;32m   1340\u001b[0m \u001b[38;5;124;03m\"\"\"\u001b[39;00m\n\u001b[0;32m   1341\u001b[0m \u001b[38;5;28;01mtry\u001b[39;00m:\n\u001b[1;32m-> 1342\u001b[0m     \u001b[43mos\u001b[49m\u001b[38;5;241;43m.\u001b[39;49m\u001b[43munlink\u001b[49m\u001b[43m(\u001b[49m\u001b[38;5;28;43mself\u001b[39;49m\u001b[43m)\u001b[49m\n\u001b[0;32m   1343\u001b[0m \u001b[38;5;28;01mexcept\u001b[39;00m \u001b[38;5;167;01mFileNotFoundError\u001b[39;00m:\n\u001b[0;32m   1344\u001b[0m     \u001b[38;5;28;01mif\u001b[39;00m \u001b[38;5;129;01mnot\u001b[39;00m missing_ok:\n",
      "\u001b[1;31mPermissionError\u001b[0m: [WinError 32] The process cannot access the file because it is being used by another process: 'C:\\\\Users\\\\manue\\\\AppData\\\\Local\\\\Temp\\\\tmpkv5a67ws.mp4'"
     ]
    }
   ],
   "source": [
    "reel_with_music = igcl.client.clip_upload_as_reel_with_music(path, caption=caption, track=track)"
   ]
  },
  {
   "cell_type": "code",
   "execution_count": 85,
   "metadata": {},
   "outputs": [
    {
     "ename": "NameError",
     "evalue": "name 'reel_with_music' is not defined",
     "output_type": "error",
     "traceback": [
      "\u001b[1;31m---------------------------------------------------------------------------\u001b[0m",
      "\u001b[1;31mNameError\u001b[0m                                 Traceback (most recent call last)",
      "Cell \u001b[1;32mIn[85], line 1\u001b[0m\n\u001b[1;32m----> 1\u001b[0m \u001b[38;5;28mprint\u001b[39m(\u001b[43mreel_with_music\u001b[49m)\n",
      "\u001b[1;31mNameError\u001b[0m: name 'reel_with_music' is not defined"
     ]
    }
   ],
   "source": [
    "print(reel_with_music)"
   ]
  }
 ],
 "metadata": {
  "kernelspec": {
   "display_name": "sn-env",
   "language": "python",
   "name": "python3"
  },
  "language_info": {
   "codemirror_mode": {
    "name": "ipython",
    "version": 3
   },
   "file_extension": ".py",
   "mimetype": "text/x-python",
   "name": "python",
   "nbconvert_exporter": "python",
   "pygments_lexer": "ipython3",
   "version": "3.12.4"
  }
 },
 "nbformat": 4,
 "nbformat_minor": 2
}
