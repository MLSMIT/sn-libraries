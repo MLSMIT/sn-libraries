{
 "cells": [
  {
   "cell_type": "code",
   "execution_count": 1,
   "metadata": {},
   "outputs": [
    {
     "ename": "NameError",
     "evalue": "name 'IgUtils' is not defined",
     "output_type": "error",
     "traceback": [
      "\u001b[1;31m---------------------------------------------------------------------------\u001b[0m",
      "\u001b[1;31mNameError\u001b[0m                                 Traceback (most recent call last)",
      "Cell \u001b[1;32mIn[1], line 7\u001b[0m\n\u001b[0;32m      5\u001b[0m \u001b[38;5;28;01mfrom\u001b[39;00m \u001b[38;5;21;01mig_client\u001b[39;00m \u001b[38;5;28;01mimport\u001b[39;00m IgClient\n\u001b[0;32m      6\u001b[0m \u001b[38;5;28;01mfrom\u001b[39;00m \u001b[38;5;21;01mig_config\u001b[39;00m \u001b[38;5;28;01mimport\u001b[39;00m Config\n\u001b[1;32m----> 7\u001b[0m \u001b[38;5;28;01mfrom\u001b[39;00m \u001b[38;5;21;01mig_utils\u001b[39;00m \u001b[38;5;28;01mimport\u001b[39;00m IgUtils\n\u001b[0;32m      9\u001b[0m \u001b[38;5;28;01mfrom\u001b[39;00m \u001b[38;5;21;01mig_client\u001b[39;00m \u001b[38;5;28;01mimport\u001b[39;00m IgClient\n\u001b[0;32m     10\u001b[0m \u001b[38;5;28;01mfrom\u001b[39;00m \u001b[38;5;21;01mig_data_tools\u001b[39;00m \u001b[38;5;28;01mimport\u001b[39;00m IgPost, create_post_dataframe\n",
      "File \u001b[1;32m~\\Documents\\GitHubMLSN\\sn-libraries\\src\\ig_utils.py:32\u001b[0m\n\u001b[0;32m     28\u001b[0m logging\u001b[38;5;241m.\u001b[39mbasicConfig(level\u001b[38;5;241m=\u001b[39mlogging\u001b[38;5;241m.\u001b[39mINFO)\n\u001b[0;32m     29\u001b[0m logger \u001b[38;5;241m=\u001b[39m logging\u001b[38;5;241m.\u001b[39mgetLogger(\u001b[38;5;18m__name__\u001b[39m)\n\u001b[1;32m---> 32\u001b[0m \u001b[38;5;28;43;01mclass\u001b[39;49;00m\u001b[43m \u001b[49m\u001b[38;5;21;43;01mIgPost\u001b[39;49;00m\u001b[43m:\u001b[49m\n\u001b[0;32m     33\u001b[0m \u001b[38;5;250;43m    \u001b[39;49m\u001b[38;5;124;43;03m\"\"\"Represents an Instagram post with relevant data.\"\"\"\u001b[39;49;00m\n\u001b[0;32m     35\u001b[0m \u001b[43m    \u001b[49m\u001b[38;5;28;43;01mdef\u001b[39;49;00m\u001b[43m \u001b[49m\u001b[38;5;21;43m__init__\u001b[39;49m\u001b[43m(\u001b[49m\n\u001b[0;32m     36\u001b[0m \u001b[43m        \u001b[49m\u001b[38;5;28;43mself\u001b[39;49m\u001b[43m,\u001b[49m\n\u001b[0;32m     37\u001b[0m \u001b[43m        \u001b[49m\u001b[43mmedia_id\u001b[49m\u001b[43m:\u001b[49m\u001b[43m \u001b[49m\u001b[38;5;28;43mstr\u001b[39;49m\u001b[43m,\u001b[49m\n\u001b[1;32m   (...)\u001b[0m\n\u001b[0;32m     51\u001b[0m \u001b[43m        \u001b[49m\u001b[43mmentions\u001b[49m\u001b[43m:\u001b[49m\u001b[43m \u001b[49m\u001b[43mOptional\u001b[49m\u001b[43m[\u001b[49m\u001b[43mList\u001b[49m\u001b[43m[\u001b[49m\u001b[38;5;28;43mstr\u001b[39;49m\u001b[43m]\u001b[49m\u001b[43m]\u001b[49m\u001b[43m \u001b[49m\u001b[38;5;241;43m=\u001b[39;49m\u001b[43m \u001b[49m\u001b[38;5;28;43;01mNone\u001b[39;49;00m\u001b[43m,\u001b[49m\n\u001b[0;32m     52\u001b[0m \u001b[43m    \u001b[49m\u001b[43m)\u001b[49m\u001b[43m \u001b[49m\u001b[38;5;241;43m-\u001b[39;49m\u001b[38;5;241;43m>\u001b[39;49m\u001b[43m \u001b[49m\u001b[38;5;28;43;01mNone\u001b[39;49;00m\u001b[43m:\u001b[49m\n",
      "File \u001b[1;32m~\\Documents\\GitHubMLSN\\sn-libraries\\src\\ig_utils.py:42\u001b[0m, in \u001b[0;36mIgPost\u001b[1;34m()\u001b[0m\n\u001b[0;32m     32\u001b[0m \u001b[38;5;28;01mclass\u001b[39;00m \u001b[38;5;21;01mIgPost\u001b[39;00m:\n\u001b[0;32m     33\u001b[0m \u001b[38;5;250m    \u001b[39m\u001b[38;5;124;03m\"\"\"Represents an Instagram post with relevant data.\"\"\"\u001b[39;00m\n\u001b[0;32m     35\u001b[0m     \u001b[38;5;28;01mdef\u001b[39;00m \u001b[38;5;21m__init__\u001b[39m(\n\u001b[0;32m     36\u001b[0m         \u001b[38;5;28mself\u001b[39m,\n\u001b[0;32m     37\u001b[0m         media_id: \u001b[38;5;28mstr\u001b[39m,\n\u001b[0;32m     38\u001b[0m         media_type: \u001b[38;5;28mint\u001b[39m,\n\u001b[0;32m     39\u001b[0m         caption: \u001b[38;5;28mstr\u001b[39m,\n\u001b[0;32m     40\u001b[0m         timestamp: datetime,\n\u001b[0;32m     41\u001b[0m         media_url: \u001b[38;5;28mstr\u001b[39m,\n\u001b[1;32m---> 42\u001b[0m         ig_utils: \u001b[43mIgUtils\u001b[49m,  \u001b[38;5;66;03m# Pass IgUtils instance to IgPost\u001b[39;00m\n\u001b[0;32m     43\u001b[0m         location: Optional[Location] \u001b[38;5;241m=\u001b[39m \u001b[38;5;28;01mNone\u001b[39;00m,\n\u001b[0;32m     44\u001b[0m         like_count: \u001b[38;5;28mint\u001b[39m \u001b[38;5;241m=\u001b[39m \u001b[38;5;241m0\u001b[39m,\n\u001b[0;32m     45\u001b[0m         comment_count: \u001b[38;5;28mint\u001b[39m \u001b[38;5;241m=\u001b[39m \u001b[38;5;241m0\u001b[39m,\n\u001b[0;32m     46\u001b[0m         usertags: List[Usertag] \u001b[38;5;241m=\u001b[39m \u001b[38;5;28;01mNone\u001b[39;00m,\n\u001b[0;32m     47\u001b[0m         published: \u001b[38;5;28mbool\u001b[39m \u001b[38;5;241m=\u001b[39m \u001b[38;5;28;01mTrue\u001b[39;00m,\n\u001b[0;32m     48\u001b[0m         failed_attempts: \u001b[38;5;28mint\u001b[39m \u001b[38;5;241m=\u001b[39m \u001b[38;5;241m0\u001b[39m,\n\u001b[0;32m     49\u001b[0m         last_failed_attempt: Optional[datetime] \u001b[38;5;241m=\u001b[39m \u001b[38;5;28;01mNone\u001b[39;00m,\n\u001b[0;32m     50\u001b[0m         tags: Optional[List[\u001b[38;5;28mstr\u001b[39m]] \u001b[38;5;241m=\u001b[39m \u001b[38;5;28;01mNone\u001b[39;00m,\n\u001b[0;32m     51\u001b[0m         mentions: Optional[List[\u001b[38;5;28mstr\u001b[39m]] \u001b[38;5;241m=\u001b[39m \u001b[38;5;28;01mNone\u001b[39;00m,\n\u001b[0;32m     52\u001b[0m     ) \u001b[38;5;241m-\u001b[39m\u001b[38;5;241m>\u001b[39m \u001b[38;5;28;01mNone\u001b[39;00m:\n\u001b[0;32m     54\u001b[0m         \u001b[38;5;28mself\u001b[39m\u001b[38;5;241m.\u001b[39mmedia_id \u001b[38;5;241m=\u001b[39m media_id\n\u001b[0;32m     55\u001b[0m         \u001b[38;5;28mself\u001b[39m\u001b[38;5;241m.\u001b[39mmedia_type \u001b[38;5;241m=\u001b[39m media_type\n",
      "\u001b[1;31mNameError\u001b[0m: name 'IgUtils' is not defined"
     ]
    }
   ],
   "source": [
    "import logging\n",
    "import json\n",
    "from pathlib import Path\n",
    "from ig_auth import authenticate_and_save_session\n",
    "from ig_client import IgClient\n",
    "from ig_config import Config\n",
    "from ig_utils import IgUtils\n",
    "\n",
    "from ig_client import IgClient\n",
    "from ig_data_tools import IgPost, create_post_dataframe\n",
    "from ig_post_manager import IgPostManager"
   ]
  },
  {
   "cell_type": "code",
   "execution_count": null,
   "metadata": {},
   "outputs": [],
   "source": [
    "import instagrapi"
   ]
  },
  {
   "cell_type": "code",
   "execution_count": null,
   "metadata": {},
   "outputs": [],
   "source": [
    "# Configure logging (optional, but recommended)\n",
    "logging.basicConfig(level=logging.INFO, format=\"%(asctime)s - %(levelname)s - %(message)s\")\n",
    "\n",
    "# Load project configuration file\n",
    "config_file_path = r\"C:\\Users\\manue\\Documents\\GitHubMLSN\\sn-libraries\\notebooks\\ig_JK_config.json\"  # Replace with the actual path\n",
    "config = Config(config_file_path=config_file_path)  # Create Config object with path\n",
    "username = config.get(\"username\")\n",
    "password = config.get(\"password\")\n",
    "\n",
    "# Authenticate using IgClient\n",
    "igcl = IgClient(session_file=config.get(\"settings_file_path\"))  \n",
    "igcl.login(username, password)"
   ]
  },
  {
   "cell_type": "code",
   "execution_count": null,
   "metadata": {},
   "outputs": [],
   "source": [
    "# Instantiate objects\n",
    "ig_utils = IgUtils(igcl)\n",
    "\n",
    "ig_pm = IgPostManager(igcl)"
   ]
  },
  {
   "cell_type": "code",
   "execution_count": null,
   "metadata": {},
   "outputs": [],
   "source": [
    "media_path = r\"C:\\Users\\manue\\Documents\\GitHubMLSN\\JK Peru Photos\\IMG-20151208-WA0003.jpeg\"\n",
    "caption = \"\"\"I wonder how some people use cars like the one I found \n",
    "on the streets of Lima. But you can see them driving doen the road \n",
    "#cars #lima #traffic\n",
    "\"\"\"\n",
    "location_pk: int = 250765185\n",
    "\n",
    "location = ig_utils.get_location_by_pk(location_pk)\n",
    "    \n",
    "location_dict = ig_utils.location_to_dict(location)\n",
    "print(\"location_pk: \", location_pk, \"followed by the location.json\")\n",
    "formatted_json_string = json.dumps(location_dict, indent=4)  # Serialize to JSON string\n",
    "print(formatted_json_string)   # Print the JSON string to the console"
   ]
  },
  {
   "cell_type": "code",
   "execution_count": null,
   "metadata": {},
   "outputs": [],
   "source": [
    "print(media_path)\n",
    "print(caption)\n",
    "print(location)"
   ]
  },
  {
   "cell_type": "code",
   "execution_count": null,
   "metadata": {},
   "outputs": [],
   "source": [
    "\n",
    "photo_1 = igcl.client.photo_upload(media_path, caption, location=location)"
   ]
  },
  {
   "cell_type": "code",
   "execution_count": null,
   "metadata": {},
   "outputs": [],
   "source": [
    "hashtags = \"#NurserySchoolParty #Parade #CulturalFestivity #FamilyEvent #CityLife #TravelDiaries #WorldTraveler #DailyLife #TravelPhotography #ExploreLocal #FestiveVibes\"\n",
    "usertags = hashtags.split()  # Split into words based on spaces\n",
    "print(usertags)\n"
   ]
  },
  {
   "cell_type": "code",
   "execution_count": null,
   "metadata": {},
   "outputs": [],
   "source": [
    "media_path = r\"C:\\Users\\manue\\Documents\\GitHubMLSN\\JK Peru Photos\\VID_20151129_074020138.mp4\"\n",
    "caption = \"\"\"✨ Nature's Spectacle ✨ Witness the mesmerizing dance of thousands of seagulls \n",
    "gracing the beaches near Lima. Their synchronized flight is a \n",
    "breathtaking reminder of the beauty and wonder of our world. 🌍🕊️\n",
    "\n",
    "#NurserySchoolParty #Parade #CulturalFestivity #FamilyEvent #CityLife \n",
    "#TravelDiaries #WorldTraveler #DailyLife #TravelPhotography #ExploreLocal #FestiveVibe\n",
    "\"\"\"\n",
    "\n",
    "\n"
   ]
  },
  {
   "cell_type": "code",
   "execution_count": null,
   "metadata": {},
   "outputs": [],
   "source": [
    "\n",
    "video_post_1 = igcl.client.video_upload(media_path, caption=caption, location=location)\n",
    "\n"
   ]
  },
  {
   "cell_type": "code",
   "execution_count": null,
   "metadata": {},
   "outputs": [],
   "source": [
    "print(video_post_1)"
   ]
  },
  {
   "cell_type": "code",
   "execution_count": null,
   "metadata": {},
   "outputs": [],
   "source": [
    "from pathlib import Path"
   ]
  },
  {
   "cell_type": "code",
   "execution_count": null,
   "metadata": {},
   "outputs": [],
   "source": [
    "media_paths = [\n",
    "    Path(r\"C:\\Users\\manue\\Documents\\GitHubMLSN\\JK Peru Photos\\IMG_5852.JPG\"),\n",
    "    Path(r\"C:\\Users\\manue\\Documents\\GitHubMLSN\\JK Peru Photos\\IMG_5854.JPG\"),\n",
    "    Path(r\"C:\\Users\\manue\\Documents\\GitHubMLSN\\JK Peru Photos\\IMG_5847.JPG\")  # Add more paths as needed\n",
    "]\n",
    "caption = \"\"\"\n",
    "JK_posting_main_code TESTTRIAL.ipynbAdorable and vibrant costumes \n",
    "filled the nursery school party parade! 🌈👗 \n",
    "From superheroes to fairy tale characters, the children’s excitement was contagious. \n",
    "Swipe to see the cutest outfits and the happiest faces! \n",
    "\n",
    "#CostumeParty #ParadeFun #KidsInCostume #JoyfulMoments #NurserySchoolParty #CostumeFun \n",
    "# #KidsFashion #ParadeHighlights #TravelDiaries #WorldTraveler #DailyLife \n",
    "#TravelPhotography #ExploreLocal #FestiveVibes\n",
    "\"\"\"\n",
    "\n"
   ]
  },
  {
   "cell_type": "code",
   "execution_count": null,
   "metadata": {},
   "outputs": [],
   "source": [
    "album = igcl.client.album_upload(media_paths, caption = caption, location = location)"
   ]
  },
  {
   "cell_type": "code",
   "execution_count": null,
   "metadata": {},
   "outputs": [],
   "source": [
    "print(album)"
   ]
  },
  {
   "cell_type": "code",
   "execution_count": null,
   "metadata": {},
   "outputs": [],
   "source": [
    "from PIL import Image\n",
    "\n",
    "def correct_orientation(image_path):\n",
    "    \"\"\"Corrects the orientation of an image based on EXIF data.\"\"\"\n",
    "    img = Image.open(image_path)\n",
    "    exif_orientation_tag = 0x0112  # EXIF tag for orientation\n",
    "    if exif_orientation_tag in img._getexif():\n",
    "        orientation = img._getexif()[exif_orientation_tag]\n",
    "        if orientation == 3:\n",
    "            img = img.rotate(180, expand=True)\n",
    "        elif orientation == 6:\n",
    "            img = img.rotate(270, expand=True)\n",
    "        elif orientation == 8:\n",
    "            img = img.rotate(90, expand=True)\n",
    "        img.save(image_path)  # Save the corrected image"
   ]
  },
  {
   "cell_type": "code",
   "execution_count": null,
   "metadata": {},
   "outputs": [],
   "source": [
    "for path in media_paths:\n",
    "    correct_orientation(path)  # Correct orientation before uploading"
   ]
  },
  {
   "cell_type": "code",
   "execution_count": null,
   "metadata": {},
   "outputs": [],
   "source": [
    "album = igcl.client.album_upload(media_paths, caption = caption, location = location)"
   ]
  },
  {
   "cell_type": "code",
   "execution_count": null,
   "metadata": {},
   "outputs": [],
   "source": [
    "\n",
    "location_name = \"Moquegua\"\n",
    "\n",
    "location = ig_utils.get_locations_by_name(location_name, limit = 2)\n",
    "    \n"
   ]
  },
  {
   "cell_type": "code",
   "execution_count": null,
   "metadata": {},
   "outputs": [],
   "source": [
    "print(location)\n"
   ]
  },
  {
   "cell_type": "code",
   "execution_count": null,
   "metadata": {},
   "outputs": [],
   "source": [
    "# checking with horizontal videos on upload reel\n",
    "path = Path(r\"C:\\Users\\manue\\Documents\\GitHubMLSN\\JK Peru Photos\\VID_20151129_162445433.mp4\")\n",
    "caption = \"\"\"The vast Peruvian deserts, a hidden gem of South America, \n",
    "remain a mystery to many travelers. These immense landscapes, stretching across the country, \n",
    "showcase a diverse array of ecosystems and awe-inspiring beauty. \n",
    "From the rolling sand dunes of Ica to the rugged cliffs of Paracas, \n",
    "the Peruvian deserts offer an otherworldly experience that is sure to leave \n",
    "a lasting impression on any adventurer. Despite their stunning beauty and unique appeal, \n",
    "these vast stretches of sand and rock remain relatively unknown to the outside world, \n",
    "making them an ideal destination for \n",
    "those seeking an off-the-beaten-path adventure\n",
    "\n",
    "#peruviandesert #peru #travelaroundtheworld\"\"\""
   ]
  },
  {
   "cell_type": "code",
   "execution_count": null,
   "metadata": {},
   "outputs": [],
   "source": [
    "reel = igcl.client.clip_upload(path, caption=caption,location=location[0])"
   ]
  },
  {
   "cell_type": "code",
   "execution_count": null,
   "metadata": {},
   "outputs": [],
   "source": [
    "print(reel)"
   ]
  },
  {
   "cell_type": "code",
   "execution_count": null,
   "metadata": {},
   "outputs": [],
   "source": [
    "music= igcl.client.search_music(\"Manuel Carrasco\")"
   ]
  },
  {
   "cell_type": "code",
   "execution_count": null,
   "metadata": {},
   "outputs": [],
   "source": [
    "print(music)"
   ]
  },
  {
   "cell_type": "code",
   "execution_count": null,
   "metadata": {},
   "outputs": [],
   "source": [
    "print(type(music))"
   ]
  },
  {
   "cell_type": "code",
   "execution_count": null,
   "metadata": {},
   "outputs": [],
   "source": [
    "for track in music:\n",
    "    print(f\"- IG ID: {track.id}    is {track.title} by {track.display_artist} ({track.uri})\")\n"
   ]
  },
  {
   "cell_type": "code",
   "execution_count": null,
   "metadata": {},
   "outputs": [],
   "source": [
    "track = music[8]\n",
    "\n",
    "# Alternative:\n",
    "# track_id: str = \"318570269071669\"  # Replace with the actual ID\n",
    "# track = igcl.client.music_info(track_id)\n",
    "\n",
    "# checking with horizontal videos on upload reel\n",
    "path = Path(r\"C:\\Users\\manue\\Documents\\GitHubMLSN\\JK Peru Photos\\VID_20151129_162445433.mp4\")\n",
    "caption = \"\"\"The vast Peruvian deserts, a hidden gem of South America, \n",
    "remain a mystery to many travelers. These immense landscapes, stretching across the country, \n",
    "showcase a diverse array of ecosystems and awe-inspiring beauty. \n",
    "From the rolling sand dunes of Ica to the rugged cliffs of Paracas, \n",
    "the Peruvian deserts offer an otherworldly experience that is sure to leave \n",
    "a lasting impression on any adventurer. Despite their stunning beauty and unique appeal, \n",
    "these vast stretches of sand and rock remain relatively unknown to the outside world, \n",
    "making them an ideal destination for \n",
    "those seeking an off-the-beaten-path adventure\n",
    "\n",
    "Now with the appropriate music from @manuelcarrasco\n",
    "\n",
    "#peruviandesert #peru #travelaroundtheworld\"\"\""
   ]
  },
  {
   "cell_type": "code",
   "execution_count": null,
   "metadata": {},
   "outputs": [],
   "source": [
    "reel_with_music = igcl.client.clip_upload_as_reel_with_music(path, caption=caption, track=track)"
   ]
  },
  {
   "cell_type": "code",
   "execution_count": null,
   "metadata": {},
   "outputs": [],
   "source": [
    "print(reel_with_music)"
   ]
  }
 ],
 "metadata": {
  "kernelspec": {
   "display_name": "sn-env",
   "language": "python",
   "name": "python3"
  },
  "language_info": {
   "codemirror_mode": {
    "name": "ipython",
    "version": 3
   },
   "file_extension": ".py",
   "mimetype": "text/x-python",
   "name": "python",
   "nbconvert_exporter": "python",
   "pygments_lexer": "ipython3",
   "version": "3.12.4"
  }
 },
 "nbformat": 4,
 "nbformat_minor": 2
}
