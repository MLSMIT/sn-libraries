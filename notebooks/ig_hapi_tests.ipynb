{
 "cells": [
  {
   "cell_type": "markdown",
   "metadata": {},
   "source": [
    "Imports and initialization of variables"
   ]
  },
  {
   "cell_type": "code",
   "execution_count": 1,
   "metadata": {},
   "outputs": [],
   "source": [
    "import os\n",
    "import logging\n",
    "import pandas as pd\n",
    "\n",
    "from ig_info_fetcher import IgInfoFetcher\n",
    "from ig_info_analyzer import IgInfoAnalyzer\n",
    "hiker_api_key = os.environ[\"HikerAPI_key\"]\n",
    "\n",
    "# Set up logging\n",
    "logging.basicConfig(level=logging.INFO)\n"
   ]
  },
  {
   "cell_type": "code",
   "execution_count": 2,
   "metadata": {},
   "outputs": [],
   "source": [
    "\n",
    "# Initialize objects and variables\n",
    "fetcher = IgInfoFetcher()\n",
    "analyzer = IgInfoAnalyzer()\n",
    "\n",
    "# Create an empty DataFrame to store profiles (replace previous line)\n",
    "df_profiles = pd.DataFrame()"
   ]
  },
  {
   "cell_type": "code",
   "execution_count": null,
   "metadata": {},
   "outputs": [],
   "source": [
    "# fetch the Ig profiles\n",
    "usernames_to_fetch = [\"marie.travel.world\", \"treasure\", \"eexploreworld\", \n",
    "    \"beutefullplacee\"]\n",
    "\n",
    "input_filename = \"JK_relevant_ig_profiles.json\"\n",
    "fetcher.fetch_and_save_info(usernames_to_fetch, input_filename) \n",
    "\n"
   ]
  },
  {
   "cell_type": "code",
   "execution_count": 4,
   "metadata": {},
   "outputs": [
    {
     "name": "stderr",
     "output_type": "stream",
     "text": [
      "INFO:root:DataFrame saved to JK_relevant_ig_profiles.csv\n"
     ]
    },
    {
     "name": "stdout",
     "output_type": "stream",
     "text": [
      "             username                       full_name instagram_id  \\\n",
      "0  marie.travel.world  MARIE S. | TRAVEL CREATOR |  ✈   3159902241   \n",
      "1            treasure              Travel | Adventure   3185437570   \n",
      "2       eexploreworld                   Explore world  57820138238   \n",
      "3     beutefullplacee                 Beautiful Place  47548556576   \n",
      "\n",
      "          category                                          biography  \\\n",
      "0  Digital creator  | TRAVEL | HOTELS | LANDSCAPES |  \\n☼ Switzerl...   \n",
      "1            Brand  🌍 Unleashing hidden @treasure\\n💼 Follow us for...   \n",
      "2    Personal blog  Traveling is so much more than a destination🌎 ...   \n",
      "3    Video creator  🏞️ Welcome To Nature Lovers \\n🌎Traveling In Th...   \n",
      "\n",
      "   followers  following  is_private  is_business  is_verified  media_count  \\\n",
      "0       7927       1364       False        False        False          665   \n",
      "1    1629266        184       False         True        False         1239   \n",
      "2       4476       3069       False        False        False          432   \n",
      "3    3329024         46       False        False        False         1494   \n",
      "\n",
      "        fb_page_id     fb_page_name  \\\n",
      "0             None             None   \n",
      "1             None             None   \n",
      "2             None             None   \n",
      "3  105461281821823  Beutefullplacee   \n",
      "\n",
      "                                     profile_pic_url  \\\n",
      "0  https://scontent-mad2-1.cdninstagram.com/v/t51...   \n",
      "1  https://scontent-fra5-2.cdninstagram.com/v/t51...   \n",
      "2  https://scontent-lhr6-1.cdninstagram.com/v/t51...   \n",
      "3  https://scontent-lhr8-2.cdninstagram.com/v/t51...   \n",
      "\n",
      "                           external_url  \\\n",
      "0  https://linktr.ee/marie.travel.world   \n",
      "1                                  None   \n",
      "2                                  None   \n",
      "3                                  None   \n",
      "\n",
      "                                bio_links  \n",
      "0  [https://linktr.ee/marie.travel.world]  \n",
      "1                                      []  \n",
      "2                                      []  \n",
      "3                                      []  \n"
     ]
    }
   ],
   "source": [
    "\n",
    "input_filename = \"JK_relevant_ig_profiles.json\"\n",
    "# Extract profile data and create a DataFrame\n",
    "df_profiles = analyzer.extract_info_data_from_json(input_filename)  \n",
    "print(df_profiles)\n",
    "\n",
    "# Save the DataFrame\n",
    "output_filename = \"JK_relevant_ig_profiles.csv\"\n",
    "analyzer.save_to_csv(df_profiles, output_filename)\n",
    "\n"
   ]
  }
 ],
 "metadata": {
  "kernelspec": {
   "display_name": "sn-env",
   "language": "python",
   "name": "python3"
  },
  "language_info": {
   "codemirror_mode": {
    "name": "ipython",
    "version": 3
   },
   "file_extension": ".py",
   "mimetype": "text/x-python",
   "name": "python",
   "nbconvert_exporter": "python",
   "pygments_lexer": "ipython3",
   "version": "3.12.4"
  }
 },
 "nbformat": 4,
 "nbformat_minor": 2
}
