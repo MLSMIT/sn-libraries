{
 "cells": [
  {
   "cell_type": "code",
   "execution_count": null,
   "metadata": {},
   "outputs": [],
   "source": [
    "### Find Track\n",
    "\n",
    "at https://subzeroid.github.io/instagrapi/usage-guide/track.html\n",
    "\n",
    "\n",
    "remember from (https://subzeroid.github.io/instagrapi/ )\n",
    "Public (anonymous request via web api) methods have a suffix _gql (Instagram GraphQL) or _a1 (example https://www.instagram.com/example/?__a=1)\n",
    "Private (authorized request via mobile api) methods have _v1 suffix\n",
    "\n",
    "The first request to fetch media/user is public (anonymous), if instagram raise exception, then use private (authorized).\n",
    "Example (pseudo-code):\n",
    "\n",
    "def media_info(media_pk):\n",
    "    try:\n",
    "        return self.media_info_gql(media_pk)\n",
    "    except ClientError as e:\n",
    "        # Restricted Video: This video is not available in your country.\n",
    "        # Or media from private account\n",
    "        return self.media_info_v1(media_pk)"
   ]
  }
 ],
 "metadata": {
  "language_info": {
   "name": "python"
  }
 },
 "nbformat": 4,
 "nbformat_minor": 2
}
