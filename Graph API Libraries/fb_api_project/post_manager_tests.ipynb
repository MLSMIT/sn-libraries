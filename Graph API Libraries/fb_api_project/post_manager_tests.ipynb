{
 "cells": [
  {
   "cell_type": "markdown",
   "metadata": {},
   "source": [
    "# to run in all cases\n",
    "### get the credentials and instantiate the fb_client"
   ]
  },
  {
   "cell_type": "markdown",
   "metadata": {},
   "source": [
    "### Environmental Variables based on App and User/Page\n",
    "App M001\n",
    " - FB_M001_App_id\n",
    " - FB_M001_App_secret\n",
    " - FB_M001_user_token\n",
    " - FB_M001_DH_App_token (Access toke page)\n",
    " - FB_M001_ES_App_token (Access toke page)\n",
    "\n",
    "ES\n",
    " - FB_ES_App_id\n",
    " - FB_ES_App_secret\n",
    " - FB_ES_user_token\n",
    " - FB_ES_ES_App_token (Access toke page)\n",
    "\n",
    "\n",
    "Pages:\n",
    " - FB_DH_Pg_id - DH Page ID: 122097693698010058 \n",
    " - FB_ES_Pg_id - ES Page ID: 303403436189223\n"
   ]
  },
  {
   "cell_type": "code",
   "execution_count": 2,
   "metadata": {},
   "outputs": [],
   "source": [
    "import os\n",
    "from typing import Dict, Optional, Any, List\n",
    "from pprint import pprint\n",
    "\n",
    "from fb_api_client import FbApiClient\n",
    "from fb_post_manager import FbPostManager\n",
    "from fb_utils import FbUtils\n",
    "from fb_comment_manager import FbCommentManager\n",
    "\n",
    "\n",
    "import logging\n",
    "logging.basicConfig(level=logging.DEBUG)  # Set the logging level to DEBUG\n",
    "\n",
    "# Load credentials (RELEVANT IF I AM GOING TO USE\n",
    "# DIFFERENT CREDENTIALS THAT THOSE DEFINED ON THE FacebookAPIClient Class load credentials)\n",
    "\n",
    "try:\n",
    "    app_id = os.environ[\"FB_M001_App_id\"]\n",
    "    app_secret = os.environ[\"FB_M001_App_secret\"]\n",
    "    access_token = os.environ[\"FB_M001_DH_App_token\"]\n",
    "    page_id = os.environ[\"FB_DH_Pg_id\"]\n",
    "    user_id = os.environ[\"FB_LS_User_id\"]\n",
    "\n",
    "    \n",
    "except KeyError:\n",
    "    print(\"Error: Environment variables not set. Please set them before running the tests.\")\n",
    "    exit(1)  # Exit with error code\n",
    "\n",
    "\n",
    "# Instantiate the FacebookAPIClient and PostManager\n",
    "fb_client = FbApiClient(app_id, app_secret, access_token, page_id)\n",
    "fb_post_manager = FbPostManager(fb_client)\n",
    "fb_utils = FbUtils(fb_client)\n",
    "fb_comment_manager = FbCommentManager(fb_client)"
   ]
  },
  {
   "cell_type": "code",
   "execution_count": null,
   "metadata": {},
   "outputs": [],
   "source": [
    "print(\"app_id\", app_id)\n",
    "print(\"app_secret\", app_secret)\n",
    "print(\"access_token\", access_token)\n",
    "print(\"page_id\", page_id)\n",
    "print(\"user_id\", user_id)"
   ]
  },
  {
   "cell_type": "code",
   "execution_count": null,
   "metadata": {},
   "outputs": [],
   "source": [
    "print(type(fb_client))"
   ]
  },
  {
   "cell_type": "code",
   "execution_count": null,
   "metadata": {},
   "outputs": [],
   "source": [
    "print(dir(fb_post_manager)) \n",
    "print(dir(fb_utils))\n",
    "print(dir(fb_comment_manager))\n"
   ]
  },
  {
   "cell_type": "markdown",
   "metadata": {},
   "source": [
    "## Test to get information about a Group\n",
    "### problems to get the id of a group - probably scraping better\n",
    "### problems to get the feed of a Group. Probably scraping better\n",
    "\n"
   ]
  },
  {
   "cell_type": "markdown",
   "metadata": {},
   "source": [
    "## Test to grab the latests posts from any of my pages (num_posts)"
   ]
  },
  {
   "cell_type": "code",
   "execution_count": null,
   "metadata": {},
   "outputs": [],
   "source": [
    "try:\n",
    "    latest_posts = fb_post_manager.get_latest_posts(page_id, num_posts=1)\n",
    "    \n",
    "    if latest_posts:  # Check if the list is not empty\n",
    "        print(\"Latest posts retrieved successfully:\")\n",
    "        for post in latest_posts:\n",
    "            print(f\"  ID: {post['id']}\")\n",
    "            print(f\"  Message: {post.get('message', 'No message available')}\")  # Use get() to handle missing messages\n",
    "            print(f\"  Post link: {post['permalink_url']}\")\n",
    "            print(f\"  Likes Count: {post['likes']['summary']['total_count']}\")\n",
    "            print(f\"  Comments Count: {post['comments']['summary']['total_count']}\")\n",
    "            print(\"---------------------------------------------------------------------\")\n",
    "\n",
    "            # You can print other fields here as well\n",
    "            # ----------------------------------------------------------------------------\n",
    "            # NOTE NOTE NOTE MAY NEED TO Decode message text before printing JSON\n",
    "            # ----------------------------------------------------------------------------\n",
    "            \n",
    "            import json\n",
    "            print(json.dumps(post, indent=4))      # Pretty-print each post individually\n",
    "\n",
    "    else:\n",
    "        print(\"No latest posts found or error retrieving posts.\")\n",
    "except Exception as e:  # Catching general exceptions for this example\n",
    "    print(f\"Error retrieving latest posts: {e}\")\n",
    "\n"
   ]
  },
  {
   "cell_type": "markdown",
   "metadata": {},
   "source": [
    "## Test to retrieve a post and its media by post id"
   ]
  },
  {
   "cell_type": "code",
   "execution_count": null,
   "metadata": {},
   "outputs": [],
   "source": [
    "\n",
    "post_id = \"303403436189223_122115904274316036\"  # Replace with the actual post ID\n",
    "specific_post = fb_post_manager.get_post_by_id(post_id)\n",
    "if specific_post:\n",
    "    import json\n",
    "    print(json.dumps(specific_post, indent=4)) \n",
    "\n",
    "    if \"attachments\" in specific_post:\n",
    "        attachments = specific_post[\"attachments\"][\"data\"]\n",
    "        for attachment in attachments:\n",
    "            media_type = attachment.get(\"media_type\")\n",
    "            if media_type == \"photo\":\n",
    "                photo_url = attachment[\"media\"][\"image\"][\"src\"]\n",
    "                print(f\"Found photo attachment: {photo_url}\")\n",
    "            elif media_type == \"video\":\n",
    "                video_url = attachment[\"media\"][\"source\"]\n",
    "                print(f\"Found video attachment: {video_url}\")\n",
    "            # Add other media types (e.g., \"link\", \"album\") if needed\n",
    "    else:\n",
    "        print(\"No attachments found in this post.\")\n",
    "else:\n",
    "    print(\"No post found or error retrieving post.\")\n"
   ]
  },
  {
   "cell_type": "markdown",
   "metadata": {},
   "source": [
    "## Test to retrieve likes information by post id\n",
    "\n",
    "### Ojo puede no funcionr, pero al extraer toda la informacion del ultio post, si incluye los likes\n",
    "\n"
   ]
  },
  {
   "cell_type": "code",
   "execution_count": null,
   "metadata": {},
   "outputs": [],
   "source": [
    "post_id = \"122097693698010058_122204455964006919\"  # Replace with the actual post ID\n",
    "\n",
    "likes = fb_post_manager.get_post_likes(post_id)\n",
    "\n",
    "print(f\"Post ID: {post_id}\")\n",
    "print(f\"Number of Likes: {len(likes)}\")  \n",
    "for like in likes:\n",
    "    if \"unknown\" in like:\n",
    "        print(f\"Liked by: Unknown user\")\n",
    "    else:\n",
    "        print(f\"Liked by: {like.get('name', 'Unknown Name')}\") \n"
   ]
  },
  {
   "cell_type": "code",
   "execution_count": null,
   "metadata": {},
   "outputs": [],
   "source": []
  },
  {
   "cell_type": "markdown",
   "metadata": {},
   "source": [
    "## Test to retrieve information regarding post shares\n"
   ]
  },
  {
   "cell_type": "code",
   "execution_count": null,
   "metadata": {},
   "outputs": [],
   "source": [
    "post_id = \"122097693698010058_122204455964006919\"  # Replace with the actual post ID\n",
    "shares = fb_post_manager.get_post_shares(post_id)\n",
    "print(type(shares))\n",
    "for item in shares:\n",
    "    pprint(item)  # Pretty-print each item"
   ]
  },
  {
   "cell_type": "markdown",
   "metadata": {},
   "source": [
    "# Tests to interact with comments\n",
    "\n",
    "## Test to read and print the comments of a specific post"
   ]
  },
  {
   "cell_type": "code",
   "execution_count": null,
   "metadata": {},
   "outputs": [],
   "source": [
    "post_id = input(\"Enter the post ID: \")  # You can prompt for the post ID\n",
    "    \n",
    "# Retrieve comments with specified fields\n",
    "comments = fb_comment_manager.get_post_comments(\n",
    "    post_id, fields=[\"id\", \"message\", \"created_time\", \"from\", \"like_count\", \"parent\", \"user_likes\",\"reactions\"]\n",
    ")\n",
    "\n",
    "if comments:\n",
    "    # Process the retrieved comments\n",
    "    for comment in comments:\n",
    "        print(f\"Comment ID: {comment['id']}\")\n",
    "        \n",
    "        # Modified Author Line (handling empty dictionary)\n",
    "        author_info = comment.get('from', {})  \n",
    "        if isinstance(author_info, dict) and author_info:  # Check if it's a non-empty dictionary\n",
    "            author_name = author_info.get('name', \"Unknown Author\")  # Get name or default\n",
    "        else:\n",
    "            author_name = \"Unknown Author (ID: Unknown ID)\" \n",
    "\n",
    "        print(f\"Author: {author_name}\")\n",
    "\n",
    "        print(f\"Message: {comment['message']}\")\n",
    "        print(f\"Created Time: {comment['created_time']}\")\n",
    "        print(f\"Likes: {comment.get('like_count', 0)}\")\n",
    "\n",
    "        # Check if it's a reply\n",
    "        if \"parent\" in comment:\n",
    "            print(f\"Reply to: {comment['parent']['id']}\")\n",
    "        else:\n",
    "            print(\"Not a reply\")\n",
    "\n",
    "        # Check if liked by the user\n",
    "        if comment.get(\"user_likes\"):\n",
    "            print(\"Liked by you\")\n",
    "        else:\n",
    "            print(\"Not liked by you\")\n",
    "\n",
    "        print(\"-\" * 20)  # Separator\n",
    "else:\n",
    "    print(\"No comments found or an error occurred.\")"
   ]
  },
  {
   "cell_type": "code",
   "execution_count": null,
   "metadata": {},
   "outputs": [],
   "source": [
    "pprint(comments)\n"
   ]
  },
  {
   "cell_type": "markdown",
   "metadata": {},
   "source": [
    "## Test to react to comments"
   ]
  },
  {
   "cell_type": "code",
   "execution_count": null,
   "metadata": {},
   "outputs": [],
   "source": [
    "if comments:\n",
    "    for comment in comments:\n",
    "        print(f\"Comment ID: {comment['id']}\")\n",
    "        print(f\"Message: {comment['message']}\")\n",
    "        \n",
    "    while True:  # Loop to keep prompting for reactions until user wants to quit\n",
    "        comment_id_to_react = input(\"Enter the comment ID to react to (or type 'q' to quit): \")\n",
    "        if comment_id_to_react.lower() == 'q':\n",
    "            break\n",
    "\n",
    "        message = input(\"Enter the answer text (or press Enter to skip reply): \")\n",
    "        \n",
    "        # Improved like input handling\n",
    "        while True:\n",
    "            like_input = input(\"Do you want to like the comment? (y/n): \")\n",
    "            if like_input.lower() in ['y', 'n']:\n",
    "                like = like_input.lower() == 'y'\n",
    "                break\n",
    "            else:\n",
    "                print(\"Invalid input. Please enter 'y' for yes or 'n' for no.\")\n",
    "\n",
    "        response = fb_comment_manager.react_to_comment(comment_id_to_react, message=message if message else None, like=like)\n",
    "    \n",
    "        if response:\n",
    "            print(\"Reaction successful:\", response)\n",
    "        else:\n",
    "            print(\"Failed to react to the comment.\")\n",
    "            "
   ]
  },
  {
   "cell_type": "markdown",
   "metadata": {},
   "source": [
    "## Test to publish a message post"
   ]
  },
  {
   "cell_type": "code",
   "execution_count": null,
   "metadata": {},
   "outputs": [],
   "source": [
    "   \n",
    "\n",
    "\n",
    "# Publish a text post\n",
    "text_post_message = \"I loved 2024 Romeria de El Rocio\"\n",
    "try:\n",
    "    text_post_result = fb_post_manager.publish_text_post(page_id, text_post_message)\n",
    "except Exception as e:  # Catching general exceptions for this example\n",
    "    print(f\"Error publishing text post: {e}\")\n",
    "\n",
    "print(\"Text post result:\", text_post_result)\n"
   ]
  },
  {
   "cell_type": "markdown",
   "metadata": {},
   "source": [
    "## Test to publish a one photo post with a message"
   ]
  },
  {
   "cell_type": "code",
   "execution_count": null,
   "metadata": {},
   "outputs": [],
   "source": [
    "\n",
    "\n",
    "photo_post_message = \"El Rocio so full with horses\"\n",
    "photo_path = r\"C:\\Users\\manue\\Documents\\Disfrutando Huelva\\Agrupados para editar\\Rocio - Todos\\Caballos carros y carretas en el rocio\\20240518_131042~2.jpg\"\n",
    "try:\n",
    "    photo_post_result = fb_post_manager.publish_photo_post(page_id, photo_post_message, photo_path)\n",
    "except Exception as e:  # Catching general exceptions for this example\n",
    "    print(f\"Error publishing photo post: {e}\")\n",
    "\n",
    "# Print results\n",
    "    \n",
    "print(\"Photo post result:\", photo_post_result)\n"
   ]
  },
  {
   "cell_type": "markdown",
   "metadata": {},
   "source": [
    "# Utils Tests\n",
    "\n",
    "##  def get_page_or_user_info\n",
    "\n",
    "\n"
   ]
  },
  {
   "cell_type": "code",
   "execution_count": null,
   "metadata": {},
   "outputs": [],
   "source": [
    "user_info = FbUtils.get_page_or_user_info(api_client=fb_client, page_or_user_id=\"303403436189223\")\n",
    "print(user_info)\n",
    "\n",
    "# Fetch specific fields\n",
    "specific_fields = [\"id\", \"name\", \"about\", \"link\", ]\n",
    "page_info = FbUtils.get_page_or_user_info(api_client=fb_client, page_or_user_id=\"303403436189223\", fields=specific_fields)\n",
    "pprint(page_info)"
   ]
  },
  {
   "cell_type": "markdown",
   "metadata": {},
   "source": [
    "##  def get_page_id (scraping)"
   ]
  },
  {
   "cell_type": "markdown",
   "metadata": {},
   "source": [
    "## Get the id of a page by its name"
   ]
  },
  {
   "cell_type": "code",
   "execution_count": null,
   "metadata": {},
   "outputs": [],
   "source": [
    "page_name = \"laesenciadehuelva\"  # Replace with the actual Page name\n",
    "user_id = FbUtils.get_page_id(page_name)\n",
    "\n",
    "if user_id:\n",
    "    print(f\"Found User ID for {page_name}: {user_id}\")\n",
    "else:\n",
    "    print(f\"Could not find User ID for {page_name}.\")"
   ]
  },
  {
   "cell_type": "markdown",
   "metadata": {},
   "source": [
    "# Test for Hiker API"
   ]
  },
  {
   "cell_type": "code",
   "execution_count": 6,
   "metadata": {},
   "outputs": [
    {
     "name": "stdout",
     "output_type": "stream",
     "text": [
      "Requirement already satisfied: hikerapi in c:\\users\\manue\\anaconda3\\envs\\my_torch_env\\lib\\site-packages (0.0.2)\n",
      "Requirement already satisfied: httpx>=0.23.0 in c:\\users\\manue\\anaconda3\\envs\\my_torch_env\\lib\\site-packages (from hikerapi) (0.27.0)\n",
      "Requirement already satisfied: anyio in c:\\users\\manue\\anaconda3\\envs\\my_torch_env\\lib\\site-packages (from httpx>=0.23.0->hikerapi) (4.3.0)\n",
      "Requirement already satisfied: certifi in c:\\users\\manue\\anaconda3\\envs\\my_torch_env\\lib\\site-packages (from httpx>=0.23.0->hikerapi) (2024.2.2)\n",
      "Requirement already satisfied: httpcore==1.* in c:\\users\\manue\\anaconda3\\envs\\my_torch_env\\lib\\site-packages (from httpx>=0.23.0->hikerapi) (1.0.5)\n",
      "Requirement already satisfied: idna in c:\\users\\manue\\anaconda3\\envs\\my_torch_env\\lib\\site-packages (from httpx>=0.23.0->hikerapi) (3.4)\n",
      "Requirement already satisfied: sniffio in c:\\users\\manue\\anaconda3\\envs\\my_torch_env\\lib\\site-packages (from httpx>=0.23.0->hikerapi) (1.3.1)\n",
      "Requirement already satisfied: h11<0.15,>=0.13 in c:\\users\\manue\\anaconda3\\envs\\my_torch_env\\lib\\site-packages (from httpcore==1.*->httpx>=0.23.0->hikerapi) (0.14.0)\n",
      "Requirement already satisfied: exceptiongroup>=1.0.2 in c:\\users\\manue\\anaconda3\\envs\\my_torch_env\\lib\\site-packages (from anyio->httpx>=0.23.0->hikerapi) (1.2.0)\n",
      "Requirement already satisfied: typing-extensions>=4.1 in c:\\users\\manue\\anaconda3\\envs\\my_torch_env\\lib\\site-packages (from anyio->httpx>=0.23.0->hikerapi) (4.9.0)\n",
      "Note: you may need to restart the kernel to use updated packages.\n"
     ]
    }
   ],
   "source": [
    "%pip install --upgrade hikerapi\n",
    "\n",
    "\n"
   ]
  },
  {
   "cell_type": "code",
   "execution_count": 3,
   "metadata": {},
   "outputs": [],
   "source": [
    "from hikerapi import Client\n",
    "hiker_api_key = os.environ[\"HikerAPI_key\"]\n",
    "cl = Client(token=\"hiker_api_key\")  "
   ]
  },
  {
   "cell_type": "code",
   "execution_count": 4,
   "metadata": {},
   "outputs": [
    {
     "name": "stdout",
     "output_type": "stream",
     "text": [
      "<class 'hikerapi.api.Client'>\n"
     ]
    }
   ],
   "source": [
    "print(type(cl))"
   ]
  },
  {
   "cell_type": "code",
   "execution_count": null,
   "metadata": {},
   "outputs": [],
   "source": [
    "from hikerapi import AsyncClient\n",
    "hiker_api_key = os.environ[\"HikerAPI_key\"]\n",
    "cl = AsyncClient(api_key=\"\")\n",
    "await cl.user_by_username_v1(\"user\")"
   ]
  },
  {
   "cell_type": "markdown",
   "metadata": {},
   "source": [
    "### Hiker API - Get "
   ]
  },
  {
   "cell_type": "code",
   "execution_count": 8,
   "metadata": {},
   "outputs": [
    {
     "name": "stderr",
     "output_type": "stream",
     "text": [
      "DEBUG:httpx:load_ssl_context verify=True cert=None trust_env=True http2=False\n",
      "DEBUG:httpx:load_verify_locations cafile='C:\\\\Users\\\\manue\\\\anaconda3\\\\envs\\\\my_torch_env\\\\Library\\\\ssl\\\\cacert.pem'\n",
      "DEBUG:httpcore.connection:connect_tcp.started host='api.hikerapi.com' port=443 local_address=None timeout=10 socket_options=None\n",
      "DEBUG:httpcore.connection:connect_tcp.complete return_value=<httpcore._backends.sync.SyncStream object at 0x0000023BD51BB2E0>\n",
      "DEBUG:httpcore.connection:start_tls.started ssl_context=<ssl.SSLContext object at 0x0000023BD51AE6C0> server_hostname='api.hikerapi.com' timeout=10\n",
      "DEBUG:httpcore.connection:start_tls.complete return_value=<httpcore._backends.sync.SyncStream object at 0x0000023BD51BB490>\n",
      "DEBUG:httpcore.http11:send_request_headers.started request=<Request [b'GET']>\n",
      "DEBUG:httpcore.http11:send_request_headers.complete\n",
      "DEBUG:httpcore.http11:send_request_body.started request=<Request [b'GET']>\n",
      "DEBUG:httpcore.http11:send_request_body.complete\n",
      "DEBUG:httpcore.http11:receive_response_headers.started request=<Request [b'GET']>\n",
      "DEBUG:httpcore.http11:receive_response_headers.complete return_value=(b'HTTP/1.1', 401, b'Unauthorized', [(b'Date', b'Wed, 12 Jun 2024 08:23:47 GMT'), (b'Content-Length', b'103'), (b'Connection', b'keep-alive'), (b'www-authenticate', b'x-access-key'), (b'x-hiker-reqid', b'0bd68999-ac3b-4ddf-8f88-7aa68e22ed1e'), (b'CF-Cache-Status', b'DYNAMIC'), (b'Report-To', b'{\"endpoints\":[{\"url\":\"https:\\\\/\\\\/a.nel.cloudflare.com\\\\/report\\\\/v4?s=6Oj9ujtUWwe%2Ffzc3TBa7Uy0INFH7TNYNbTZkSzVnVoqhVTJYPwBNSbQmCjOZVDSYeV1lwmdwHRyeRDFZMereSZlBahB97fGd89k00qswU%2BgIz82bd%2F52u480iOzIO1OPzej5\"}],\"group\":\"cf-nel\",\"max_age\":604800}'), (b'NEL', b'{\"success_fraction\":0,\"report_to\":\"cf-nel\",\"max_age\":604800}'), (b'Server', b'cloudflare'), (b'CF-RAY', b'892870da0eab9520-LHR'), (b'alt-svc', b'h3=\":443\"; ma=86400')])\n",
      "INFO:httpx:HTTP Request: GET https://api.hikerapi.com/v2/user/by/username?username=capturolavida_emn \"HTTP/1.1 401 Unauthorized\"\n",
      "DEBUG:httpcore.http11:receive_response_body.started request=<Request [b'GET']>\n",
      "DEBUG:httpcore.http11:receive_response_body.complete\n",
      "DEBUG:httpcore.http11:response_closed.started\n",
      "DEBUG:httpcore.http11:response_closed.complete\n",
      "DEBUG:httpcore.connection:close.started\n",
      "DEBUG:httpcore.connection:close.complete\n"
     ]
    },
    {
     "name": "stdout",
     "output_type": "stream",
     "text": [
      "(b'{\"state\":false,\"error\":\"Unauthorized request: pass access_key or login via h'\n",
      " b'ttps://hikerapi.com/login\"}')\n"
     ]
    }
   ],
   "source": [
    "\n",
    "\n",
    "user_info = cl.user_by_username_v2(\"capturolavida_emn\")\n",
    "\n",
    "pprint(user_info)"
   ]
  }
 ],
 "metadata": {
  "kernelspec": {
   "display_name": "my_torch_env",
   "language": "python",
   "name": "my_torch_env"
  },
  "language_info": {
   "codemirror_mode": {
    "name": "ipython",
    "version": 3
   },
   "file_extension": ".py",
   "mimetype": "text/x-python",
   "name": "python",
   "nbconvert_exporter": "python",
   "pygments_lexer": "ipython3",
   "version": "3.10.14"
  }
 },
 "nbformat": 4,
 "nbformat_minor": 2
}
