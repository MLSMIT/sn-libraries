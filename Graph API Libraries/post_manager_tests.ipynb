{
 "cells": [
  {
   "cell_type": "markdown",
   "metadata": {},
   "source": [
    "# to run in all cases\n",
    "### get the credentials and instantiate the fb_client"
   ]
  },
  {
   "cell_type": "markdown",
   "metadata": {},
   "source": [
    "### Environmental Variables based on App and User/Page\n",
    "App M001\n",
    " - FB_M001_App_id\n",
    " - FB_M001_App_secret\n",
    " - FB_M001_user_token\n",
    " - FB_M001_DH_App_token (Access toke page)\n",
    " - FB_M001_ES_App_token (Access toke page)\n",
    "\n",
    "ES\n",
    " - FB_ES_App_id\n",
    " - FB_ES_App_secret\n",
    " - FB_ES_user_token\n",
    " - FB_ES_ES_App_token (Access toke page)\n",
    "\n",
    "\n",
    "Pages:\n",
    " - FB_DH_Pg_id - DH Page ID: 122097693698010058 \n",
    " - FB_ES_Pg_id - ES Page ID: 303403436189223\n"
   ]
  },
  {
   "cell_type": "code",
   "execution_count": null,
   "metadata": {},
   "outputs": [],
   "source": [
    "import os\n",
    "from typing import Dict, Optional, Any\n",
    "import json\n",
    "import facebook\n",
    "from facebook_api_client import FacebookAPIClient\n",
    "from post_manager import PostManager\n",
    "from utils import Utils\n",
    "\n",
    "# Load credentials (RELEVANT IF I AM GOING TO USE\n",
    "# DIFFERENT CREDENTIALS THAT THOSE DEFINED ON THE FacebookAPIClient Class load credentials)\n",
    "\n",
    "try:\n",
    "    app_id = os.environ[\"FB_M001_App_id\"]\n",
    "    app_secret = os.environ[\"FB_M001_App_secret\"]\n",
    "\n",
    "    page_id = os.environ[\"FB_ES_Pg_id\"]\n",
    "    access_token = os.environ[\"FB_M001_ES_App_token\"]\n",
    "    \n",
    "except KeyError:\n",
    "    print(\"Error: Environment variables not set. Please set them before running the tests.\")\n",
    "    exit(1)  # Exit with error code\n",
    "\n",
    "print(app_id, app_secret, page_id, access_token)\n",
    "# Instantiate the FacebookAPIClient and PostManager\n",
    "# fb_client = FacebookAPIClient(app_id, app_secret, access_token, page_id)\n",
    "# post_manager = PostManager(fb_client)\n",
    "# utils = Utils(fb_client)"
   ]
  },
  {
   "cell_type": "code",
   "execution_count": null,
   "metadata": {},
   "outputs": [],
   "source": [
    "print(dir(post_manager)) \n",
    "print(dir(Utils))\n"
   ]
  },
  {
   "cell_type": "markdown",
   "metadata": {},
   "source": [
    "## Test to get information about a Group\n",
    "### when only the name is known\n",
    "\n",
    "\n",
    "# PENDING CHECK"
   ]
  },
  {
   "cell_type": "code",
   "execution_count": null,
   "metadata": {},
   "outputs": [],
   "source": [
    "def get_group_id_by_name(api_client: facebook.GraphAPI, group_name: str) -> Optional[str]:\n",
    "    \"\"\"Retrieves the ID of a group by its name.\n",
    "\n",
    "    Args:\n",
    "        api_client: A Facebook GraphAPI instance.\n",
    "        group_name: The name of the group.\n",
    "\n",
    "    Returns:\n",
    "        The group ID if found, None otherwise.\n",
    "    \"\"\"\n",
    "    try:\n",
    "        groups = api_client.get_connections(id=\"me\", connection_name=\"groups\")\n",
    "        for group in groups[\"data\"]:\n",
    "            if group[\"name\"] == group_name:\n",
    "                return group[\"id\"]\n",
    "    except facebook.GraphAPIError as e:\n",
    "        print(f\"Error retrieving groups: {e.message}\")\n",
    "    return None\n",
    "\n",
    "# ... (your existing code)\n",
    "\n",
    "group_id = get_group_id_by_name(fb_client, \"YOUR_GROUP_NAME\")\n",
    "if group_id:\n",
    "    group_info = Utils.get_group_info(fb_client, group_id)\n",
    "    # ... do something with the group_info\n",
    "else:\n",
    "    print(\"Group not found.\")\n"
   ]
  },
  {
   "cell_type": "markdown",
   "metadata": {},
   "source": [
    "### when the id is known"
   ]
  },
  {
   "cell_type": "code",
   "execution_count": null,
   "metadata": {},
   "outputs": [],
   "source": [
    "group_id = \"490852652771054\"\n",
    "group_data = utils.get_group_info(fb_client, group_id)\n",
    "print(group_data) "
   ]
  },
  {
   "cell_type": "markdown",
   "metadata": {},
   "source": [
    "## Test to get all the Groups followed by a User or a Page, provided the user or page id"
   ]
  },
  {
   "cell_type": "code",
   "execution_count": null,
   "metadata": {},
   "outputs": [],
   "source": [
    "# Let's try to check at least my own page groups with a direct code\n",
    "\n",
    "import facebook\n",
    "\n",
    "# Use the GraphAPI object from your FacebookAPIClient\n",
    "graph = fb_client.get_graph_api_object()\n",
    "\n",
    "# Get the user ID associated with your access token\n",
    "me = graph.get_object(id=\"me\")\n",
    "user_id = me['id']\n",
    "print(user_id)\n",
    "\n",
    "# Get the groups followed by the user, filtering to include only the page\n",
    "groups_data = graph.get_connections(\n",
    "    id=user_id, \n",
    "    connection_name=\"groups\", \n",
    "    fields=\"id,name,description\"\n",
    ")\n",
    "\n",
    "# Filter the groups to find those where the page is a member\n",
    "page_groups = [\n",
    "    group \n",
    "    for group in groups_data[\"data\"] \n",
    "    if graph.get_object(id=group['id'], fields=\"id\").get('id') == page_id\n",
    "]\n",
    "\n",
    "# If any groups are found, print them\n",
    "if page_groups:\n",
    "    for group in page_groups:\n",
    "        print(f\"Group ID: {group['id']}, Name: {group['name']}, Description: {group['description']}\")\n",
    "else:\n",
    "    print(\"The page does not follow any groups.\")\n"
   ]
  },
  {
   "cell_type": "code",
   "execution_count": null,
   "metadata": {},
   "outputs": [],
   "source": [
    "# Get groups followed by the user\n",
    "\n",
    "user_or_page_id = page_id\n",
    "print(user_or_page_id)\n",
    "groups = utils.get_groups_followed(user_or_page_id)\n",
    "      \n",
    "if groups:\n",
    "    for group in groups:\n",
    "        print(f\"Group ID: {group['id']}, Name: {group['name']}, Description: {group['description']}\")\n",
    "else:\n",
    "    print(\n",
    "        \"No groups found. This may be due to missing permissions or the user/page not being a member of any groups.\"\n",
    "    )"
   ]
  },
  {
   "cell_type": "markdown",
   "metadata": {},
   "source": [
    "## Test to grab the latest post"
   ]
  },
  {
   "cell_type": "code",
   "execution_count": null,
   "metadata": {},
   "outputs": [],
   "source": [
    "try:\n",
    "    latest_post = post_manager.get_latest_post(page_id)\n",
    "    if latest_post:\n",
    "        print(\"Latest post retrieved successfully:\")\n",
    "        print(f\"  ID: {latest_post['id']}\")\n",
    "        print(f\"  Message: {latest_post['message']}\")\n",
    "        print(f\"  Post link: {latest_post['permalink_url']}\")\n",
    "        print(f\"  Likes Count: {latest_post['likes']['summary']['total_count']}\")\n",
    "        print(f\"  Comments Count: {latest_post['comments']['summary']['total_count']}\")\n",
    "        print(\"---------------------------------------------------------------------\")\n",
    "        \n",
    "        # You can print other fields here as well\n",
    "        import json\n",
    "        print(\"latest post retrieved successfully:\")\n",
    "        print(json.dumps(latest_post, indent=4))      # Pretty-print the dictionary\n",
    "\n",
    "    else:\n",
    "        print(\"No latest post found or error retrieving post.\")\n",
    "except Exception as e:  # Catching general exceptions for this example\n",
    "    print(f\"Error retrieving latest post: {e}\")\n",
    "\n",
    "print(f\" Post ID: {latest_post['id']}\") "
   ]
  },
  {
   "cell_type": "markdown",
   "metadata": {},
   "source": [
    "## Test to grab the latests posts (num_posts)"
   ]
  },
  {
   "cell_type": "code",
   "execution_count": null,
   "metadata": {},
   "outputs": [],
   "source": [
    "try:\n",
    "    latest_posts = post_manager.get_latest_posts(page_id, num_posts=3) \n",
    "    if latest_posts:  # Check if the list is not empty\n",
    "        print(\"Latest posts retrieved successfully:\")\n",
    "        for post in latest_posts:\n",
    "            print(f\"  ID: {post['id']}\")\n",
    "            print(f\"  Message: {post.get('message', 'No message available')}\")  # Use get() to handle missing messages\n",
    "            print(f\"  Post link: {post['permalink_url']}\")\n",
    "            print(f\"  Likes Count: {post['likes']['summary']['total_count']}\")\n",
    "            print(f\"  Comments Count: {post['comments']['summary']['total_count']}\")\n",
    "            print(\"---------------------------------------------------------------------\")\n",
    "\n",
    "            # You can print other fields here as well\n",
    "            import json\n",
    "            print(json.dumps(post, indent=4))      # Pretty-print each post individually\n",
    "\n",
    "    else:\n",
    "        print(\"No latest posts found or error retrieving posts.\")\n",
    "except Exception as e:  # Catching general exceptions for this example\n",
    "    print(f\"Error retrieving latest posts: {e}\")\n",
    "\n"
   ]
  },
  {
   "cell_type": "code",
   "execution_count": null,
   "metadata": {},
   "outputs": [],
   "source": [
    "# tests/test_post_manager.py (create a separate tests folder)\n",
    "import unittest\n",
    "from unittest.mock import patch  # Mocking for API calls\n",
    "from post_manager import PostManager  # Assuming this is your module name\n",
    "\n",
    "class TestPostManager(unittest.TestCase):\n",
    "    def setUp(self):\n",
    "        # Create a mock FacebookAPIClient\n",
    "        self.mock_api_client = patch(\"post_manager.FacebookAPIClient\").start()  # Mocking the api client for test\n",
    "        self.post_manager = PostManager(self.mock_api_client)\n",
    "\n",
    "    def tearDown(self):\n",
    "        patch.stopall()\n",
    "\n",
    "    @patch(\"facebook.GraphAPI.get_connections\")  # Mock the get_connections method of the GraphAPI\n",
    "    def test_get_latest_posts(self, mock_get_connections):\n",
    "        # Mock API response data\n",
    "        mock_response = {\n",
    "            \"data\": [\n",
    "                {\n",
    "                    \"id\": \"1234567890\",\n",
    "                    \"message\": \"This is a test post.\",\n",
    "                    \"created_time\": \"2024-05-23T12:00:00+0000\",\n",
    "                    \"permalink_url\": \"https://www.facebook.com/1234567890\",\n",
    "                    \"likes\": {\"summary\": {\"total_count\": 10}},\n",
    "                    \"comments\": {\"summary\": {\"total_count\": 5}},\n",
    "                },\n",
    "                # Add more mock post data as needed\n",
    "            ]\n",
    "        }\n",
    "        mock_get_connections.return_value = mock_response\n",
    "\n",
    "        posts = self.post_manager.get_latest_posts(page_id, num_posts=2)  # Request 2 posts\n",
    "        # Printing results\n",
    "        print(\"TEST OUTPUT - get_latest_posts\")\n",
    "        for post in posts:\n",
    "            print(\"Post ID:\", post['id'])\n",
    "            print(\"Message:\", post['message'])\n",
    "            print(\"Likes:\", post['likes']['summary']['total_count'])\n",
    "            print(\"Comments:\", post['comments']['summary']['total_count'])\n",
    "            print(\"---\")\n",
    "        self.assertEqual(len(posts), 2)  # Check that the correct number of posts were returned\n",
    "        \n",
    "        # Check a few specific fields in the first post (customize these)\n",
    "        self.assertEqual(posts[0][\"id\"], \"1234567890\")\n",
    "        self.assertEqual(posts[0][\"message\"], \"This is a test post.\")\n",
    "\n",
    "if __name__ == \"__main__\":\n",
    "    %run post_manager.py\n"
   ]
  },
  {
   "cell_type": "markdown",
   "metadata": {},
   "source": [
    "## Test to retrieve a post and its media by post id"
   ]
  },
  {
   "cell_type": "code",
   "execution_count": null,
   "metadata": {},
   "outputs": [],
   "source": [
    "\n",
    "post_id = \"303403436189223_122111155826316036\"  # Replace with the actual post ID\n",
    "specific_post = post_manager.get_post_by_id(post_id)\n",
    "if specific_post:\n",
    "    import json\n",
    "    print(json.dumps(specific_post, indent=4)) \n",
    "\n",
    "    if \"attachments\" in specific_post:\n",
    "        attachments = specific_post[\"attachments\"][\"data\"]\n",
    "        for attachment in attachments:\n",
    "            media_type = attachment.get(\"media_type\")\n",
    "            if media_type == \"photo\":\n",
    "                photo_url = attachment[\"media\"][\"image\"][\"src\"]\n",
    "                print(f\"Found photo attachment: {photo_url}\")\n",
    "            elif media_type == \"video\":\n",
    "                video_url = attachment[\"media\"][\"source\"]\n",
    "                print(f\"Found video attachment: {video_url}\")\n",
    "            # Add other media types (e.g., \"link\", \"album\") if needed\n",
    "    else:\n",
    "        print(\"No attachments found in this post.\")\n",
    "else:\n",
    "    print(\"No post found or error retrieving post.\")\n"
   ]
  },
  {
   "cell_type": "markdown",
   "metadata": {},
   "source": [
    "## Test to publish a message post"
   ]
  },
  {
   "cell_type": "code",
   "execution_count": null,
   "metadata": {},
   "outputs": [],
   "source": [
    "   \n",
    "\n",
    "\n",
    "# Publish a text post\n",
    "text_post_message = \"I loved 2024 Romeria de El Rocio\"\n",
    "try:\n",
    "    text_post_result = post_manager.publish_text_post(page_id, text_post_message)\n",
    "except Exception as e:  # Catching general exceptions for this example\n",
    "    print(f\"Error publishing text post: {e}\")\n",
    "\n",
    "print(\"Text post result:\", text_post_result)\n"
   ]
  },
  {
   "cell_type": "markdown",
   "metadata": {},
   "source": [
    "## Test to publish a one photo post with a message"
   ]
  },
  {
   "cell_type": "code",
   "execution_count": null,
   "metadata": {},
   "outputs": [],
   "source": [
    "\n",
    "\n",
    "photo_post_message = \"El Rocio so full with horses\"\n",
    "photo_path = r\"C:\\Users\\manue\\Documents\\Disfrutando Huelva\\Agrupados para editar\\Rocio - Todos\\Caballos carros y carretas en el rocio\\20240518_131042~2.jpg\"\n",
    "try:\n",
    "    photo_post_result = post_manager.publish_photo_post(page_id, photo_post_message, photo_path)\n",
    "except Exception as e:  # Catching general exceptions for this example\n",
    "    print(f\"Error publishing photo post: {e}\")\n",
    "\n",
    "# Print results\n",
    "    \n",
    "print(\"Photo post result:\", photo_post_result)\n"
   ]
  }
 ],
 "metadata": {
  "kernelspec": {
   "display_name": "my_torch_env",
   "language": "python",
   "name": "my_torch_env"
  },
  "language_info": {
   "codemirror_mode": {
    "name": "ipython",
    "version": 3
   },
   "file_extension": ".py",
   "mimetype": "text/x-python",
   "name": "python",
   "nbconvert_exporter": "python",
   "pygments_lexer": "ipython3",
   "version": "3.10.14"
  }
 },
 "nbformat": 4,
 "nbformat_minor": 2
}
