{
 "cells": [
  {
   "cell_type": "markdown",
   "metadata": {},
   "source": [
    "# to run in all cases\n",
    "### get the credentials and instantiate the fb_client"
   ]
  },
  {
   "cell_type": "markdown",
   "metadata": {},
   "source": [
    "### Environmental Variables based on App and User/Page\n",
    "App M001\n",
    " - FB_M001_App_id\n",
    " - FB_M001_App_secret\n",
    " - FB_M001_user_token\n",
    " - FB_M001_DH_App_token (Access toke page)\n",
    " - FB_M001_ES_App_token (Access toke page)\n",
    "\n",
    "ES\n",
    " - FB_ES_App_id\n",
    " - FB_ES_App_secret\n",
    " - FB_ES_user_token\n",
    " - FB_ES_ES_App_token (Access toke page)\n",
    "\n",
    "\n",
    "Pages:\n",
    " - FB_DH_Pg_id - DH Page ID: 122097693698010058 \n",
    " - FB_ES_Pg_id - ES Page ID: 303403436189223\n"
   ]
  },
  {
   "cell_type": "code",
   "execution_count": null,
   "metadata": {},
   "outputs": [],
   "source": [
    "import os\n",
    "from typing import Dict, Optional, Any, List\n",
    "import json\n",
    "import facebook\n",
    "from facebook_api_client import FacebookAPIClient\n",
    "from post_manager import PostManager\n",
    "from utils import Utils\n",
    "\n",
    "import logging\n",
    "logging.basicConfig(level=logging.DEBUG)  # Set the logging level to DEBUG\n",
    "\n",
    "# Load credentials (RELEVANT IF I AM GOING TO USE\n",
    "# DIFFERENT CREDENTIALS THAT THOSE DEFINED ON THE FacebookAPIClient Class load credentials)\n",
    "\n",
    "try:\n",
    "    app_id = os.environ[\"FB_M001_App_id\"]\n",
    "    app_secret = os.environ[\"FB_M001_App_secret\"]\n",
    "    access_token = os.environ[\"FB_M001_DH_App_token\"]\n",
    "    page_id = os.environ[\"FB_DH_Pg_id\"]\n",
    "\n",
    "    \n",
    "except KeyError:\n",
    "    print(\"Error: Environment variables not set. Please set them before running the tests.\")\n",
    "    exit(1)  # Exit with error code\n",
    "\n",
    "\n",
    "# Instantiate the FacebookAPIClient and PostManager\n",
    "fb_client = FacebookAPIClient(app_id, app_secret, access_token, page_id)\n",
    "post_manager = PostManager(fb_client)\n",
    "utils = Utils(fb_client)"
   ]
  },
  {
   "cell_type": "code",
   "execution_count": null,
   "metadata": {},
   "outputs": [],
   "source": [
    "print(\"app_id\", app_id)\n",
    "print(\"app_secret\", app_secret)\n",
    "print(\"access_token\", access_token)\n",
    "print(\"page_id\", page_id)"
   ]
  },
  {
   "cell_type": "code",
   "execution_count": null,
   "metadata": {},
   "outputs": [],
   "source": [
    "print(dir(post_manager)) \n",
    "print(dir(Utils))\n"
   ]
  },
  {
   "cell_type": "markdown",
   "metadata": {},
   "source": [
    "## Test to get information about a Group\n",
    "### problems to get the id of a group - probably scraping better\n",
    "### problems to get the feed of a Group. Probably scraping better\n",
    "\n",
    "\n",
    "# PENDING CHECK"
   ]
  },
  {
   "cell_type": "markdown",
   "metadata": {},
   "source": [
    "## Test to grab the latest post from any of my pages"
   ]
  },
  {
   "cell_type": "code",
   "execution_count": null,
   "metadata": {},
   "outputs": [],
   "source": [
    "try:\n",
    "    latest_post = post_manager.get_latest_post(page_id)\n",
    "    \n",
    "    if latest_post:\n",
    "        print(\"Latest post retrieved successfully:\")\n",
    "        print(f\"  ID: {latest_post['id']}\")\n",
    "        print(f\"  Message: {latest_post['message']}\")\n",
    "        print(f\"  Post link: {latest_post['permalink_url']}\")\n",
    "        print(f\"  Likes Count: {latest_post['likes']['summary']['total_count']}\")\n",
    "        print(f\"  Comments Count: {latest_post['comments']['summary']['total_count']}\")\n",
    "        print(\"---------------------------------------------------------------------\")\n",
    "        \n",
    "        # You can print other fields here as well\n",
    "        import json\n",
    "        print(\"latest post retrieved successfully:\")\n",
    "        print(json.dumps(latest_post, indent=4))      # Pretty-print the dictionary\n",
    "\n",
    "    else:\n",
    "        print(\"No latest post found or error retrieving post.\")\n",
    "except Exception as e:  # Catching general exceptions for this example\n",
    "    print(f\"Error retrieving latest post: {e}\")\n",
    "\n",
    "print(f\" Post ID: {latest_post['id']}\") "
   ]
  },
  {
   "cell_type": "markdown",
   "metadata": {},
   "source": [
    "## Test to grab the latests posts from any of my pages (num_posts)"
   ]
  },
  {
   "cell_type": "code",
   "execution_count": 6,
   "metadata": {},
   "outputs": [
    {
     "name": "stderr",
     "output_type": "stream",
     "text": [
      "DEBUG:urllib3.connectionpool:https://graph.facebook.com:443 \"GET /v3.1/122097693698010058/posts?fields=id%2Cmessage%2Ccreated_time%2Cpermalink_url%2Clikes.summary%28true%29%2Ccomments.summary%28true%29&limit=1&access_token=EAAN4vZBLefZAUBO9KyylZCNZAQsokq1YZAeJAXsHKduuzt4HmTXxkevYvOwdOHqHxf76e2K4O7ATO27slFBZC2PjNHKUJoXipCcmMRfwvOIW6ZBhCiUZA04IjF5gUkgZBnA0AUxBpaZBIpXRKbjEJcHMHcrJZC5Bj659p1zdfLY25n2yxoDnf5VbSsAM22zWmgwcgvJ4QZDZD HTTP/1.1\" 200 2068\n"
     ]
    },
    {
     "name": "stdout",
     "output_type": "stream",
     "text": [
      "Latest posts retrieved successfully:\n",
      "  ID: 122097693698010058_122200029752006919\n",
      "  Message: Así viven los niños la Romeria de El Rocio. un punto de vista distinto del de los adultos\n",
      "\n",
      "¡Siguenos y disfruta de Huelva a tope! \n",
      "\n",
      "no te olvides de hacerlo en Disfrutando Huelva \n",
      "\n",
      "#romeriadelrocio #lablancapaloma #disfrutandohuelva\n",
      "\n",
      "Hermandad Nuestra Señora del Rocio de Triana Hermandad del Rocío de Huelva Hermandad Rocío de Moguer Hermandad del Rocío de Pilas\n",
      "  Post link: https://www.facebook.com/122201562758006919/posts/122200029752006919\n",
      "  Likes Count: 8\n",
      "  Comments Count: 1\n",
      "---------------------------------------------------------------------\n",
      "{\n",
      "    \"id\": \"122097693698010058_122200029752006919\",\n",
      "    \"message\": \"As\\u00ed viven los ni\\u00f1os la Romeria de El Rocio. un punto de vista distinto del de los adultos\\n\\n\\u00a1Siguenos y disfruta de Huelva a tope! \\n\\nno te olvides de hacerlo en Disfrutando Huelva \\n\\n#romeriadelrocio #lablancapaloma #disfrutandohuelva\\n\\nHermandad Nuestra Se\\u00f1ora del Rocio de Triana Hermandad del Roc\\u00edo de Huelva Hermandad Roc\\u00edo de Moguer Hermandad del Roc\\u00edo de Pilas\",\n",
      "    \"created_time\": \"2024-05-21T18:06:19+0000\",\n",
      "    \"permalink_url\": \"https://www.facebook.com/122201562758006919/posts/122200029752006919\",\n",
      "    \"likes\": {\n",
      "        \"data\": [\n",
      "            {\n",
      "                \"id\": \"7443271959086489\",\n",
      "                \"name\": \"Luis Sanchez\"\n",
      "            }\n",
      "        ],\n",
      "        \"paging\": {\n",
      "            \"cursors\": {\n",
      "                \"before\": \"QVFIUm5McGdjQkxpS3ZAYRkV2Tm42NDR6dWJKYkdXQlliNTFVOVBQMDVjaWNkU0hmRy0zanRTVGNUeDhNRmptNEgxZA0Roc082LXpXSWpPdWZA1bmpjWmpJN0F3\",\n",
      "                \"after\": \"QVFIUi1hYkN5WElNSFpqYXlCaXlkOFNIQnVpdVNPRW5RcjgtS1lGSDdsOGotTDYyZAVVmN3lMS2NJUHZAFd0tlWDI3cHJVX19STUpsT1JFdDV2bE8xNV9ESGp3\"\n",
      "            }\n",
      "        },\n",
      "        \"summary\": {\n",
      "            \"total_count\": 8,\n",
      "            \"can_like\": true,\n",
      "            \"has_liked\": true\n",
      "        }\n",
      "    },\n",
      "    \"comments\": {\n",
      "        \"data\": [\n",
      "            {\n",
      "                \"created_time\": \"2024-05-21T18:47:21+0000\",\n",
      "                \"message\": \"Muy bonita feria\",\n",
      "                \"id\": \"122200029752006919_1402128173821641\"\n",
      "            }\n",
      "        ],\n",
      "        \"paging\": {\n",
      "            \"cursors\": {\n",
      "                \"before\": \"WTI5dGJXVnVkRjlqZAFhKemIzSTZANVFF3TWpFeU9ERTNNemd5TVRZAME1Ub3hOekUyTXpFM01qUXkZD\",\n",
      "                \"after\": \"WTI5dGJXVnVkRjlqZAFhKemIzSTZANVFF3TWpFeU9ERTNNemd5TVRZAME1Ub3hOekUyTXpFM01qUXkZD\"\n",
      "            }\n",
      "        },\n",
      "        \"summary\": {\n",
      "            \"order\": \"chronological\",\n",
      "            \"total_count\": 1,\n",
      "            \"can_comment\": true\n",
      "        }\n",
      "    }\n",
      "}\n"
     ]
    }
   ],
   "source": [
    "try:\n",
    "    latest_posts = post_manager.get_latest_posts(page_id, num_posts=1)\n",
    "    if latest_posts:  # Check if the list is not empty\n",
    "        print(\"Latest posts retrieved successfully:\")\n",
    "        for post in latest_posts:\n",
    "            print(f\"  ID: {post['id']}\")\n",
    "            print(f\"  Message: {post.get('message', 'No message available')}\")  # Use get() to handle missing messages\n",
    "            print(f\"  Post link: {post['permalink_url']}\")\n",
    "            print(f\"  Likes Count: {post['likes']['summary']['total_count']}\")\n",
    "            print(f\"  Comments Count: {post['comments']['summary']['total_count']}\")\n",
    "            print(\"---------------------------------------------------------------------\")\n",
    "\n",
    "            # You can print other fields here as well\n",
    "            import json\n",
    "            print(json.dumps(post, indent=4))      # Pretty-print each post individually\n",
    "\n",
    "    else:\n",
    "        print(\"No latest posts found or error retrieving posts.\")\n",
    "except Exception as e:  # Catching general exceptions for this example\n",
    "    print(f\"Error retrieving latest posts: {e}\")\n",
    "\n"
   ]
  },
  {
   "cell_type": "markdown",
   "metadata": {},
   "source": [
    "## Test to retrieve a post and its media by post id"
   ]
  },
  {
   "cell_type": "code",
   "execution_count": 7,
   "metadata": {},
   "outputs": [
    {
     "name": "stderr",
     "output_type": "stream",
     "text": [
      "DEBUG:urllib3.connectionpool:Resetting dropped connection: graph.facebook.com\n",
      "DEBUG:urllib3.connectionpool:https://graph.facebook.com:443 \"GET /v3.1/122097693698010058_122200029752006919?fields=id%2Cmessage%2Ccreated_time%2Cpermalink_url%2Clikes.summary%28true%29%2Ccomments.summary%28true%29%2Cattachments&access_token=EAAN4vZBLefZAUBO9KyylZCNZAQsokq1YZAeJAXsHKduuzt4HmTXxkevYvOwdOHqHxf76e2K4O7ATO27slFBZC2PjNHKUJoXipCcmMRfwvOIW6ZBhCiUZA04IjF5gUkgZBnA0AUxBpaZBIpXRKbjEJcHMHcrJZC5Bj659p1zdfLY25n2yxoDnf5VbSsAM22zWmgwcgvJ4QZDZD HTTP/1.1\" 200 1283\n"
     ]
    },
    {
     "name": "stdout",
     "output_type": "stream",
     "text": [
      "{\n",
      "    \"id\": \"122097693698010058_122200029752006919\",\n",
      "    \"message\": \"As\\u00ed viven los ni\\u00f1os la Romeria de El Rocio. un punto de vista distinto del de los adultos\\n\\n\\u00a1Siguenos y disfruta de Huelva a tope! \\n\\nno te olvides de hacerlo en Disfrutando Huelva \\n\\n#romeriadelrocio #lablancapaloma #disfrutandohuelva\\n\\nHermandad Nuestra Se\\u00f1ora del Rocio de Triana Hermandad del Roc\\u00edo de Huelva Hermandad Roc\\u00edo de Moguer Hermandad del Roc\\u00edo de Pilas\",\n",
      "    \"created_time\": \"2024-05-21T18:06:19+0000\",\n",
      "    \"permalink_url\": \"https://www.facebook.com/122201562758006919/posts/122200029752006919\",\n",
      "    \"likes\": {\n",
      "        \"data\": [\n",
      "            {\n",
      "                \"id\": \"7443271959086489\",\n",
      "                \"name\": \"Luis Sanchez\"\n",
      "            }\n",
      "        ],\n",
      "        \"paging\": {\n",
      "            \"cursors\": {\n",
      "                \"before\": \"QVFIUm5McGdjQkxpS3ZAYRkV2Tm42NDR6dWJKYkdXQlliNTFVOVBQMDVjaWNkU0hmRy0zanRTVGNUeDhNRmptNEgxZA0Roc082LXpXSWpPdWZA1bmpjWmpJN0F3\",\n",
      "                \"after\": \"QVFIUi1hYkN5WElNSFpqYXlCaXlkOFNIQnVpdVNPRW5RcjgtS1lGSDdsOGotTDYyZAVVmN3lMS2NJUHZAFd0tlWDI3cHJVX19STUpsT1JFdDV2bE8xNV9ESGp3\"\n",
      "            }\n",
      "        },\n",
      "        \"summary\": {\n",
      "            \"total_count\": 8,\n",
      "            \"can_like\": true,\n",
      "            \"has_liked\": true\n",
      "        }\n",
      "    },\n",
      "    \"comments\": {\n",
      "        \"data\": [\n",
      "            {\n",
      "                \"created_time\": \"2024-05-21T18:47:21+0000\",\n",
      "                \"message\": \"Muy bonita feria\",\n",
      "                \"id\": \"122200029752006919_1402128173821641\"\n",
      "            }\n",
      "        ],\n",
      "        \"paging\": {\n",
      "            \"cursors\": {\n",
      "                \"before\": \"WTI5dGJXVnVkRjlqZAFhKemIzSTZANVFF3TWpFeU9ERTNNemd5TVRZAME1Ub3hOekUyTXpFM01qUXkZD\",\n",
      "                \"after\": \"WTI5dGJXVnVkRjlqZAFhKemIzSTZANVFF3TWpFeU9ERTNNemd5TVRZAME1Ub3hOekUyTXpFM01qUXkZD\"\n",
      "            }\n",
      "        },\n",
      "        \"summary\": {\n",
      "            \"order\": \"chronological\",\n",
      "            \"total_count\": 1,\n",
      "            \"can_comment\": true\n",
      "        }\n",
      "    },\n",
      "    \"attachments\": {\n",
      "        \"data\": [\n",
      "            {\n",
      "                \"media\": {\n",
      "                    \"image\": {\n",
      "                        \"height\": 476,\n",
      "                        \"src\": \"https://scontent-mad1-1.cdninstagram.com/v/t51.29350-15/445640429_792388272627450_3740258749472976042_n.jpg?_nc_cat=106&ccb=1-7&_nc_sid=18de74&_nc_ohc=pfhXxTGXOJcQ7kNvgF66vgQ&_nc_ht=scontent-mad1-1.cdninstagram.com&edm=AJfPMC4EAAAA&oh=00_AYD2SQcC1PAfg1NYhCS7_VTk_TcRxnxT8GgJO-RD-P4rww&oe=665B772B\",\n",
      "                        \"width\": 476\n",
      "                    }\n",
      "                },\n",
      "                \"title\": \"As\\u00ed viven los ni\\u00f1os la Romeria de El Rocio. un punto de vista distinto del de los adultos\\n\\n\\u00a1Siguenos y disfruta de Huelva a tope!\\u00a0\\n\\nno te olvides de hacerlo en @disfrutandohuelva\\n\\n#romeriadelrocio #lablancapaloma #disfrutandohuelva\\n\\n@hdad_rociodehuelva_oficial @hdad_rocio_de_triana @hdadrociopilas @hermandad_del_rocio_moguer\",\n",
      "                \"type\": \"messenger_generic_template\",\n",
      "                \"url\": \"https://www.instagram.com/reel/C7PVAf9qi92/?igsh=N2NiemZ5aTB3Ym9z\"\n",
      "            }\n",
      "        ]\n",
      "    }\n",
      "}\n"
     ]
    }
   ],
   "source": [
    "\n",
    "post_id = \"122097693698010058_122200029752006919\"  # Replace with the actual post ID\n",
    "specific_post = post_manager.get_post_by_id(post_id)\n",
    "if specific_post:\n",
    "    import json\n",
    "    print(json.dumps(specific_post, indent=4)) \n",
    "\n",
    "    if \"attachments\" in specific_post:\n",
    "        attachments = specific_post[\"attachments\"][\"data\"]\n",
    "        for attachment in attachments:\n",
    "            media_type = attachment.get(\"media_type\")\n",
    "            if media_type == \"photo\":\n",
    "                photo_url = attachment[\"media\"][\"image\"][\"src\"]\n",
    "                print(f\"Found photo attachment: {photo_url}\")\n",
    "            elif media_type == \"video\":\n",
    "                video_url = attachment[\"media\"][\"source\"]\n",
    "                print(f\"Found video attachment: {video_url}\")\n",
    "            # Add other media types (e.g., \"link\", \"album\") if needed\n",
    "    else:\n",
    "        print(\"No attachments found in this post.\")\n",
    "else:\n",
    "    print(\"No post found or error retrieving post.\")\n"
   ]
  },
  {
   "cell_type": "markdown",
   "metadata": {},
   "source": [
    "## Test to publish a message post"
   ]
  },
  {
   "cell_type": "code",
   "execution_count": null,
   "metadata": {},
   "outputs": [],
   "source": [
    "   \n",
    "\n",
    "\n",
    "# Publish a text post\n",
    "text_post_message = \"I loved 2024 Romeria de El Rocio\"\n",
    "try:\n",
    "    text_post_result = post_manager.publish_text_post(page_id, text_post_message)\n",
    "except Exception as e:  # Catching general exceptions for this example\n",
    "    print(f\"Error publishing text post: {e}\")\n",
    "\n",
    "print(\"Text post result:\", text_post_result)\n"
   ]
  },
  {
   "cell_type": "markdown",
   "metadata": {},
   "source": [
    "## Test to publish a one photo post with a message"
   ]
  },
  {
   "cell_type": "code",
   "execution_count": null,
   "metadata": {},
   "outputs": [],
   "source": [
    "\n",
    "\n",
    "photo_post_message = \"El Rocio so full with horses\"\n",
    "photo_path = r\"C:\\Users\\manue\\Documents\\Disfrutando Huelva\\Agrupados para editar\\Rocio - Todos\\Caballos carros y carretas en el rocio\\20240518_131042~2.jpg\"\n",
    "try:\n",
    "    photo_post_result = post_manager.publish_photo_post(page_id, photo_post_message, photo_path)\n",
    "except Exception as e:  # Catching general exceptions for this example\n",
    "    print(f\"Error publishing photo post: {e}\")\n",
    "\n",
    "# Print results\n",
    "    \n",
    "print(\"Photo post result:\", photo_post_result)\n"
   ]
  }
 ],
 "metadata": {
  "kernelspec": {
   "display_name": "my_torch_env",
   "language": "python",
   "name": "python3"
  },
  "language_info": {
   "codemirror_mode": {
    "name": "ipython",
    "version": 3
   },
   "file_extension": ".py",
   "mimetype": "text/x-python",
   "name": "python",
   "nbconvert_exporter": "python",
   "pygments_lexer": "ipython3",
   "version": "3.10.14"
  }
 },
 "nbformat": 4,
 "nbformat_minor": 2
}
