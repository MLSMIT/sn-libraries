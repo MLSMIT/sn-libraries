{
 "cells": [
  {
   "cell_type": "markdown",
   "metadata": {},
   "source": [
    "# to run in all cases\n",
    "### get the credentials and instantiate the fb_client"
   ]
  },
  {
   "cell_type": "markdown",
   "metadata": {},
   "source": [
    "### Environmental Variables based on App and User/Page\n",
    "App M001\n",
    " - FB_M001_App_id\n",
    " - FB_M001_App_secret\n",
    " - FB_M001_user_token\n",
    " - FB_M001_DH_App_token (Access toke page)\n",
    " - FB_M001_ES_App_token (Access toke page)\n",
    "\n",
    "ES\n",
    " - FB_ES_App_id\n",
    " - FB_ES_App_secret\n",
    " - FB_ES_user_token\n",
    " - FB_ES_ES_App_token (Access toke page)\n",
    "\n",
    "\n",
    "Pages:\n",
    " - FB_DH_Pg_id - DH Page ID: 122097693698010058 \n",
    " - FB_ES_Pg_id - ES Page ID: 303403436189223\n"
   ]
  },
  {
   "cell_type": "code",
   "execution_count": 1,
   "metadata": {},
   "outputs": [],
   "source": [
    "import os\n",
    "from typing import Dict, Optional, Any, List\n",
    "import json\n",
    "import facebook\n",
    "from facebook_api_client import FacebookAPIClient\n",
    "from post_manager import PostManager\n",
    "from utils import Utils\n",
    "\n",
    "import logging\n",
    "logging.basicConfig(level=logging.DEBUG)  # Set the logging level to DEBUG\n",
    "\n",
    "# Load credentials (RELEVANT IF I AM GOING TO USE\n",
    "# DIFFERENT CREDENTIALS THAT THOSE DEFINED ON THE FacebookAPIClient Class load credentials)\n",
    "\n",
    "try:\n",
    "    app_id = os.environ[\"FB_M001_App_id\"]\n",
    "    app_secret = os.environ[\"FB_M001_App_secret\"]\n",
    "    access_token = os.environ[\"FB_M001_user_token\"]\n",
    "    page_id = os.environ[\"FB_DH_Pg_id\"]\n",
    "    user_id = os.environ[\"FB_LS_User_id\"]\n",
    "\n",
    "    \n",
    "except KeyError:\n",
    "    print(\"Error: Environment variables not set. Please set them before running the tests.\")\n",
    "    exit(1)  # Exit with error code\n",
    "\n",
    "\n",
    "# Instantiate the FacebookAPIClient and PostManager\n",
    "fb_client = FacebookAPIClient(app_id, app_secret, access_token, page_id)\n",
    "post_manager = PostManager(fb_client)\n",
    "utils = Utils(fb_client)"
   ]
  },
  {
   "cell_type": "code",
   "execution_count": null,
   "metadata": {},
   "outputs": [],
   "source": [
    "print(\"app_id\", app_id)\n",
    "print(\"app_secret\", app_secret)\n",
    "print(\"access_token\", access_token)\n",
    "print(\"page_id\", page_id)\n",
    "print(\"user_id\", user_id)"
   ]
  },
  {
   "cell_type": "code",
   "execution_count": 2,
   "metadata": {},
   "outputs": [
    {
     "name": "stdout",
     "output_type": "stream",
     "text": [
      "['__class__', '__delattr__', '__dict__', '__dir__', '__doc__', '__eq__', '__format__', '__ge__', '__getattribute__', '__gt__', '__hash__', '__init__', '__init_subclass__', '__le__', '__lt__', '__module__', '__ne__', '__new__', '__reduce__', '__reduce_ex__', '__repr__', '__setattr__', '__sizeof__', '__str__', '__subclasshook__', '__weakref__', 'api_client', 'get_latest_post', 'get_latest_posts', 'get_post_by_id', 'publish_photo_post', 'publish_text_post']\n",
      "['__class__', '__delattr__', '__dict__', '__dir__', '__doc__', '__eq__', '__format__', '__ge__', '__getattribute__', '__gt__', '__hash__', '__init__', '__init_subclass__', '__le__', '__lt__', '__module__', '__ne__', '__new__', '__reduce__', '__reduce_ex__', '__repr__', '__setattr__', '__sizeof__', '__str__', '__subclasshook__', '__weakref__', 'get_group_info', 'get_page_id', 'get_page_or_user_info']\n"
     ]
    }
   ],
   "source": [
    "print(dir(post_manager)) \n",
    "print(dir(Utils))\n"
   ]
  },
  {
   "cell_type": "markdown",
   "metadata": {},
   "source": [
    "## Test to get information about a Group\n",
    "### problems to get the id of a group - probably scraping better\n",
    "### problems to get the feed of a Group. Probably scraping better\n",
    "\n"
   ]
  },
  {
   "cell_type": "markdown",
   "metadata": {},
   "source": [
    "## Test to grab the latests posts from any of my pages (num_posts)"
   ]
  },
  {
   "cell_type": "code",
   "execution_count": null,
   "metadata": {},
   "outputs": [],
   "source": [
    "try:\n",
    "    latest_posts = post_manager.get_latest_posts(page_id, num_posts=2)\n",
    "    \n",
    "    if latest_posts:  # Check if the list is not empty\n",
    "        print(\"Latest posts retrieved successfully:\")\n",
    "        for post in latest_posts:\n",
    "            print(f\"  ID: {post['id']}\")\n",
    "            print(f\"  Message: {post.get('message', 'No message available')}\")  # Use get() to handle missing messages\n",
    "            print(f\"  Post link: {post['permalink_url']}\")\n",
    "            print(f\"  Likes Count: {post['likes']['summary']['total_count']}\")\n",
    "            print(f\"  Comments Count: {post['comments']['summary']['total_count']}\")\n",
    "            print(\"---------------------------------------------------------------------\")\n",
    "\n",
    "            # You can print other fields here as well\n",
    "            import json\n",
    "            print(json.dumps(post, indent=4))      # Pretty-print each post individually\n",
    "\n",
    "    else:\n",
    "        print(\"No latest posts found or error retrieving posts.\")\n",
    "except Exception as e:  # Catching general exceptions for this example\n",
    "    print(f\"Error retrieving latest posts: {e}\")\n",
    "\n"
   ]
  },
  {
   "cell_type": "markdown",
   "metadata": {},
   "source": [
    "## Test to retrieve a post and its media by post id"
   ]
  },
  {
   "cell_type": "code",
   "execution_count": null,
   "metadata": {},
   "outputs": [],
   "source": [
    "\n",
    "post_id = \"122097693698010058_122200029752006919\"  # Replace with the actual post ID\n",
    "specific_post = post_manager.get_post_by_id(post_id)\n",
    "if specific_post:\n",
    "    import json\n",
    "    print(json.dumps(specific_post, indent=4)) \n",
    "\n",
    "    if \"attachments\" in specific_post:\n",
    "        attachments = specific_post[\"attachments\"][\"data\"]\n",
    "        for attachment in attachments:\n",
    "            media_type = attachment.get(\"media_type\")\n",
    "            if media_type == \"photo\":\n",
    "                photo_url = attachment[\"media\"][\"image\"][\"src\"]\n",
    "                print(f\"Found photo attachment: {photo_url}\")\n",
    "            elif media_type == \"video\":\n",
    "                video_url = attachment[\"media\"][\"source\"]\n",
    "                print(f\"Found video attachment: {video_url}\")\n",
    "            # Add other media types (e.g., \"link\", \"album\") if needed\n",
    "    else:\n",
    "        print(\"No attachments found in this post.\")\n",
    "else:\n",
    "    print(\"No post found or error retrieving post.\")\n"
   ]
  },
  {
   "cell_type": "code",
   "execution_count": null,
   "metadata": {},
   "outputs": [],
   "source": []
  },
  {
   "cell_type": "markdown",
   "metadata": {},
   "source": [
    "## Test to publish a message post"
   ]
  },
  {
   "cell_type": "code",
   "execution_count": null,
   "metadata": {},
   "outputs": [],
   "source": [
    "   \n",
    "\n",
    "\n",
    "# Publish a text post\n",
    "text_post_message = \"I loved 2024 Romeria de El Rocio\"\n",
    "try:\n",
    "    text_post_result = post_manager.publish_text_post(page_id, text_post_message)\n",
    "except Exception as e:  # Catching general exceptions for this example\n",
    "    print(f\"Error publishing text post: {e}\")\n",
    "\n",
    "print(\"Text post result:\", text_post_result)\n"
   ]
  },
  {
   "cell_type": "markdown",
   "metadata": {},
   "source": [
    "## Test to publish a one photo post with a message"
   ]
  },
  {
   "cell_type": "code",
   "execution_count": null,
   "metadata": {},
   "outputs": [],
   "source": [
    "\n",
    "\n",
    "photo_post_message = \"El Rocio so full with horses\"\n",
    "photo_path = r\"C:\\Users\\manue\\Documents\\Disfrutando Huelva\\Agrupados para editar\\Rocio - Todos\\Caballos carros y carretas en el rocio\\20240518_131042~2.jpg\"\n",
    "try:\n",
    "    photo_post_result = post_manager.publish_photo_post(page_id, photo_post_message, photo_path)\n",
    "except Exception as e:  # Catching general exceptions for this example\n",
    "    print(f\"Error publishing photo post: {e}\")\n",
    "\n",
    "# Print results\n",
    "    \n",
    "print(\"Photo post result:\", photo_post_result)\n"
   ]
  },
  {
   "cell_type": "markdown",
   "metadata": {},
   "source": [
    "# Utils Tests\n",
    "\n",
    "##  def get_page_or_user_info\n",
    "##  def get_page_id (scraping)\n",
    "\n"
   ]
  },
  {
   "cell_type": "code",
   "execution_count": 4,
   "metadata": {},
   "outputs": [
    {
     "name": "stderr",
     "output_type": "stream",
     "text": [
      "DEBUG:urllib3.connectionpool:Starting new HTTPS connection (1): graph.facebook.com:443\n",
      "DEBUG:urllib3.connectionpool:https://graph.facebook.com:443 \"GET /v3.1/100044233849394?fields=id%2Cname%2Cabout&access_token=EAAN4vZBLefZAUBO7lXxSGMZCadd0fs9hpNVH3y5pG27N1I24KZB5iZB0HJYNsOmAMBZCgfZAOH3GV3gfOai2u1EWxM7ZBgSTI5w215Oew3NmYUH5n1VUWpC4kZAuXkZAtavqaXVnJpsEplYFRFbCSZAEiiLkWDnnddfR2Fo8SZBK2VZBPDa36CNr3p43bLEXrTIZBSyu5Y HTTP/1.1\" 400 259\n",
      "DEBUG:urllib3.connectionpool:https://graph.facebook.com:443 \"GET /v3.1///profile/100044233849394?fields=id%2Cname%2Clink%2Cwebsite&access_token=EAAN4vZBLefZAUBO7lXxSGMZCadd0fs9hpNVH3y5pG27N1I24KZB5iZB0HJYNsOmAMBZCgfZAOH3GV3gfOai2u1EWxM7ZBgSTI5w215Oew3NmYUH5n1VUWpC4kZAuXkZAtavqaXVnJpsEplYFRFbCSZAEiiLkWDnnddfR2Fo8SZBK2VZBPDa36CNr3p43bLEXrTIZBSyu5Y HTTP/1.1\" 400 141\n"
     ]
    },
    {
     "name": "stdout",
     "output_type": "stream",
     "text": [
      "Error retrieving page/user info: Unsupported get request. Object with ID '100044233849394' does not exist, cannot be loaded due to missing permissions, or does not support this operation. Please read the Graph API documentation at https://developers.facebook.com/docs/graph-api\n",
      "{}\n",
      "Error retrieving page/user info: Unknown path components: /100044233849394\n",
      "{}\n"
     ]
    }
   ],
   "source": [
    "user_info = Utils.get_page_or_user_info(api_client=fb_client, page_or_user_id=\"100044233849394\")\n",
    "print(user_info)\n",
    "\n",
    "# Fetch specific fields\n",
    "specific_fields = [\"id\", \"name\", \"link\", \"website\"]\n",
    "page_info = Utils.get_page_or_user_info(api_client=fb_client, page_or_user_id=user_id, fields=specific_fields)\n",
    "print(page_info)"
   ]
  },
  {
   "cell_type": "markdown",
   "metadata": {},
   "source": [
    "## Get the id of a page by its name"
   ]
  },
  {
   "cell_type": "code",
   "execution_count": 3,
   "metadata": {},
   "outputs": [
    {
     "name": "stderr",
     "output_type": "stream",
     "text": [
      "DEBUG:urllib3.connectionpool:Starting new HTTPS connection (1): www.facebook.com:443\n",
      "DEBUG:urllib3.connectionpool:https://www.facebook.com:443 \"GET /laesenciadehuelva HTTP/1.1\" 200 None\n"
     ]
    },
    {
     "name": "stdout",
     "output_type": "stream",
     "text": [
      "Found User ID for laesenciadehuelva: //profile/100044233849394\n"
     ]
    }
   ],
   "source": [
    "page_name = \"laesenciadehuelva\"  # Replace with the actual Page name\n",
    "user_id = Utils.get_page_id(page_name)\n",
    "\n",
    "if user_id:\n",
    "    print(f\"Found User ID for {page_name}: {user_id}\")\n",
    "else:\n",
    "    print(f\"Could not find User ID for {page_name}.\")"
   ]
  }
 ],
 "metadata": {
  "kernelspec": {
   "display_name": "my_torch_env",
   "language": "python",
   "name": "python3"
  },
  "language_info": {
   "codemirror_mode": {
    "name": "ipython",
    "version": 3
   },
   "file_extension": ".py",
   "mimetype": "text/x-python",
   "name": "python",
   "nbconvert_exporter": "python",
   "pygments_lexer": "ipython3",
   "version": "3.10.14"
  }
 },
 "nbformat": 4,
 "nbformat_minor": 2
}
