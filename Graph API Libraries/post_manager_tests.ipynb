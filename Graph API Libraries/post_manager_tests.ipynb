{
 "cells": [
  {
   "cell_type": "markdown",
   "metadata": {},
   "source": [
    "# to run in all cases\n",
    "### get the credentials and instantiate the fb_client"
   ]
  },
  {
   "cell_type": "code",
   "execution_count": 14,
   "metadata": {},
   "outputs": [],
   "source": [
    "import os\n",
    "from typing import Dict, Optional, Any\n",
    "import facebook\n",
    "from facebook_api_client import FacebookAPIClient\n",
    "from post_manager import PostManager\n",
    "\n",
    "# Load credentials\n",
    "try:\n",
    "    app_id = os.environ[\"FB_ES_App_id\"]\n",
    "    app_secret = os.environ[\"FB_ES_App_secret\"]\n",
    "    access_token = os.environ[\"FB_ES_App_token\"]\n",
    "    page_id = os.environ[\"FB_ES_Pg_id\"]\n",
    "except KeyError:\n",
    "    print(\"Error: Environment variables not set. Please set them before running the tests.\")\n",
    "    exit(1)  # Exit with error code\n",
    "\n",
    "\n",
    "# Instantiate the FacebookAPIClient and PostManager\n",
    "fb_client = FacebookAPIClient(app_id, app_secret, access_token, page_id)\n",
    "post_manager = PostManager(fb_client)"
   ]
  },
  {
   "cell_type": "markdown",
   "metadata": {},
   "source": [
    "## Test to grab the latest post"
   ]
  },
  {
   "cell_type": "code",
   "execution_count": null,
   "metadata": {},
   "outputs": [],
   "source": [
    "try:\n",
    "    latest_post = post_manager.get_latest_post(page_id)\n",
    "    if latest_post:\n",
    "        print(\"Latest post retrieved successfully:\")\n",
    "        print(f\"  ID: {latest_post['id']}\")\n",
    "        print(f\"  Message: {latest_post['message']}\")\n",
    "        print(f\"  Post link: {latest_post['permalink_url']}\")\n",
    "        print(f\"  Likes Count: {latest_post['likes']['summary']['total_count']}\")\n",
    "        print(f\"  Comments Count: {latest_post['comments']['summary']['total_count']}\")\n",
    "        print(\"---------------------------------------------------------------------\")\n",
    "        \n",
    "        # You can print other fields here as well\n",
    "        import json\n",
    "        print(\"latest post retrieved successfully:\")\n",
    "        print(json.dumps(latest_post, indent=4))      # Pretty-print the dictionary\n",
    "\n",
    "    else:\n",
    "        print(\"No latest post found or error retrieving post.\")\n",
    "except Exception as e:  # Catching general exceptions for this example\n",
    "    print(f\"Error retrieving latest post: {e}\")\n"
   ]
  },
  {
   "cell_type": "markdown",
   "metadata": {},
   "source": [
    "## Test to grab the latests posts (num_posts)"
   ]
  },
  {
   "cell_type": "code",
   "execution_count": 15,
   "metadata": {},
   "outputs": [
    {
     "name": "stdout",
     "output_type": "stream",
     "text": [
      "Error retrieving latest post: 'PostManager' object has no attribute 'get_latest_posts'\n"
     ]
    }
   ],
   "source": [
    "try:\n",
    "    latest_post = post_manager.get_latest_posts(page_id, num_posts=3)\n",
    "    if latest_post:\n",
    "        print(\"Latest post retrieved successfully:\")\n",
    "        print(f\"  ID: {latest_post['id']}\")\n",
    "        print(f\"  Message: {latest_post['message']}\")\n",
    "        print(f\"  Post link: {latest_post['permalink_url']}\")\n",
    "        print(f\"  Likes Count: {latest_post['likes']['summary']['total_count']}\")\n",
    "        print(f\"  Comments Count: {latest_post['comments']['summary']['total_count']}\")\n",
    "        print(\"---------------------------------------------------------------------\")\n",
    "        \n",
    "        # You can print other fields here as well\n",
    "        import json\n",
    "        print(\"latest post retrieved successfully:\")\n",
    "        print(json.dumps(latest_post, indent=4))      # Pretty-print the dictionary\n",
    "\n",
    "    else:\n",
    "        print(\"No latest post found or error retrieving post.\")\n",
    "except Exception as e:  # Catching general exceptions for this example\n",
    "    print(f\"Error retrieving latest post: {e}\")\n"
   ]
  },
  {
   "cell_type": "markdown",
   "metadata": {},
   "source": [
    "## Test to retrieve a post and its media by post id"
   ]
  },
  {
   "cell_type": "code",
   "execution_count": null,
   "metadata": {},
   "outputs": [],
   "source": [
    "\n",
    "post_id = \"303403436189223_122111155826316036\"  # Replace with the actual post ID\n",
    "specific_post = post_manager.get_post_by_id(post_id)\n",
    "if specific_post:\n",
    "    import json\n",
    "    print(json.dumps(specific_post, indent=4)) \n",
    "\n",
    "    if \"attachments\" in specific_post:\n",
    "        attachments = specific_post[\"attachments\"][\"data\"]\n",
    "        for attachment in attachments:\n",
    "            media_type = attachment.get(\"media_type\")\n",
    "            if media_type == \"photo\":\n",
    "                photo_url = attachment[\"media\"][\"image\"][\"src\"]\n",
    "                print(f\"Found photo attachment: {photo_url}\")\n",
    "            elif media_type == \"video\":\n",
    "                video_url = attachment[\"media\"][\"source\"]\n",
    "                print(f\"Found video attachment: {video_url}\")\n",
    "            # Add other media types (e.g., \"link\", \"album\") if needed\n",
    "    else:\n",
    "        print(\"No attachments found in this post.\")\n",
    "else:\n",
    "    print(\"No post found or error retrieving post.\")\n"
   ]
  },
  {
   "cell_type": "markdown",
   "metadata": {},
   "source": [
    "## Test to publish a message post"
   ]
  },
  {
   "cell_type": "code",
   "execution_count": null,
   "metadata": {},
   "outputs": [],
   "source": [
    "   \n",
    "\n",
    "\n",
    "# Publish a text post\n",
    "text_post_message = \"I loved 2024 Romeria de El Rocio\"\n",
    "try:\n",
    "    text_post_result = post_manager.publish_text_post(page_id, text_post_message)\n",
    "except Exception as e:  # Catching general exceptions for this example\n",
    "    print(f\"Error publishing text post: {e}\")\n",
    "\n",
    "print(\"Text post result:\", text_post_result)\n"
   ]
  },
  {
   "cell_type": "markdown",
   "metadata": {},
   "source": [
    "## Test to publish a one photo post with a message"
   ]
  },
  {
   "cell_type": "code",
   "execution_count": 5,
   "metadata": {},
   "outputs": [
    {
     "name": "stdout",
     "output_type": "stream",
     "text": [
      "Post with photo published successfully. Post ID: 303403436189223_122111155826316036\n",
      "Photo post result: {'id': '122111155778316036', 'post_id': '303403436189223_122111155826316036'}\n"
     ]
    }
   ],
   "source": [
    "\n",
    "\n",
    "photo_post_message = \"El Rocio so full with horses\"\n",
    "photo_path = r\"C:\\Users\\manue\\Documents\\Disfrutando Huelva\\Agrupados para editar\\Rocio - Todos\\Caballos carros y carretas en el rocio\\20240518_131042~2.jpg\"\n",
    "try:\n",
    "    photo_post_result = post_manager.publish_photo_post(page_id, photo_post_message, photo_path)\n",
    "except Exception as e:  # Catching general exceptions for this example\n",
    "    print(f\"Error publishing photo post: {e}\")\n",
    "\n",
    "# Print results\n",
    "    \n",
    "print(\"Photo post result:\", photo_post_result)\n"
   ]
  }
 ],
 "metadata": {
  "kernelspec": {
   "display_name": "my_torch_env",
   "language": "python",
   "name": "my_torch_env"
  },
  "language_info": {
   "codemirror_mode": {
    "name": "ipython",
    "version": 3
   },
   "file_extension": ".py",
   "mimetype": "text/x-python",
   "name": "python",
   "nbconvert_exporter": "python",
   "pygments_lexer": "ipython3",
   "version": "3.10.14"
  }
 },
 "nbformat": 4,
 "nbformat_minor": 2
}
