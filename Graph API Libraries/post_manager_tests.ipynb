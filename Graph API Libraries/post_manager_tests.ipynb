{
 "cells": [
  {
   "cell_type": "markdown",
   "metadata": {},
   "source": [
    "# to run in all cases\n",
    "### get the credentials and instantiate the fb_client"
   ]
  },
  {
   "cell_type": "markdown",
   "metadata": {},
   "source": [
    "### Environmental Variables based on App and User/Page\n",
    "App M001\n",
    " - FB_M001_App_id\n",
    " - FB_M001_App_secret\n",
    " - FB_M001_user_token\n",
    " - FB_M001_DH_App_token (Access toke page)\n",
    " - FB_M001_ES_App_token (Access toke page)\n",
    "\n",
    "ES\n",
    " - FB_ES_App_id\n",
    " - FB_ES_App_secret\n",
    " - FB_ES_user_token\n",
    " - FB_ES_ES_App_token (Access toke page)\n",
    "\n",
    "\n",
    "Pages:\n",
    " - FB_DH_Pg_id - DH Page ID: 122097693698010058 \n",
    " - FB_ES_Pg_id - ES Page ID: 303403436189223\n"
   ]
  },
  {
   "cell_type": "code",
   "execution_count": 4,
   "metadata": {},
   "outputs": [],
   "source": [
    "import os\n",
    "from typing import Dict, Optional, Any, List\n",
    "import json\n",
    "import facebook\n",
    "from facebook_api_client import FacebookAPIClient\n",
    "from post_manager import PostManager\n",
    "from utils import Utils\n",
    "\n",
    "import logging\n",
    "logging.basicConfig(level=logging.DEBUG)  # Set the logging level to DEBUG\n",
    "\n",
    "# Load credentials (RELEVANT IF I AM GOING TO USE\n",
    "# DIFFERENT CREDENTIALS THAT THOSE DEFINED ON THE FacebookAPIClient Class load credentials)\n",
    "\n",
    "try:\n",
    "    app_id = os.environ[\"FB_M001_App_id\"]\n",
    "    app_secret = os.environ[\"FB_M001_App_secret\"]\n",
    "    access_token = os.environ[\"FB_M001_user_token\"]\n",
    "    page_id = os.environ[\"FB_ES_Pg_id\"]\n",
    "\n",
    "    \n",
    "except KeyError:\n",
    "    print(\"Error: Environment variables not set. Please set them before running the tests.\")\n",
    "    exit(1)  # Exit with error code\n",
    "\n",
    "\n",
    "# Instantiate the FacebookAPIClient and PostManager\n",
    "fb_client = FacebookAPIClient(app_id, app_secret, access_token, page_id)\n",
    "post_manager = PostManager(fb_client)\n",
    "utils = Utils(fb_client)"
   ]
  },
  {
   "cell_type": "code",
   "execution_count": 2,
   "metadata": {},
   "outputs": [
    {
     "name": "stdout",
     "output_type": "stream",
     "text": [
      "977190470450581\n",
      "7627c7fe57c8013facd015499dd413fd\n",
      "EAAN4vZBLefZAUBO7lXxSGMZCadd0fs9hpNVH3y5pG27N1I24KZB5iZB0HJYNsOmAMBZCgfZAOH3GV3gfOai2u1EWxM7ZBgSTI5w215Oew3NmYUH5n1VUWpC4kZAuXkZAtavqaXVnJpsEplYFRFbCSZAEiiLkWDnnddfR2Fo8SZBK2VZBPDa36CNr3p43bLEXrTIZBSyu5Y\n",
      "303403436189223\n"
     ]
    }
   ],
   "source": [
    "print(app_id)\n",
    "print(app_secret)\n",
    "print(access_token)\n",
    "print(page_id)"
   ]
  },
  {
   "cell_type": "code",
   "execution_count": null,
   "metadata": {},
   "outputs": [],
   "source": [
    "print(dir(post_manager)) \n",
    "print(dir(Utils))\n"
   ]
  },
  {
   "cell_type": "markdown",
   "metadata": {},
   "source": [
    "## Test to get information about a Group\n",
    "### when only the name is known\n",
    "\n",
    "\n",
    "# PENDING CHECK"
   ]
  },
  {
   "cell_type": "code",
   "execution_count": 5,
   "metadata": {},
   "outputs": [
    {
     "name": "stderr",
     "output_type": "stream",
     "text": [
      "DEBUG:urllib3.connectionpool:Starting new HTTPS connection (1): graph.facebook.com:443\n",
      "DEBUG:urllib3.connectionpool:https://graph.facebook.com:443 \"GET /v3.1/search?q=Yo+soy+de+Huelva%2C+casi+na+%21%21%21&type=group&limit=10&fields=id%2Cname%2Cprivacy&access_token=EAAN4vZBLefZAUBO7lXxSGMZCadd0fs9hpNVH3y5pG27N1I24KZB5iZB0HJYNsOmAMBZCgfZAOH3GV3gfOai2u1EWxM7ZBgSTI5w215Oew3NmYUH5n1VUWpC4kZAuXkZAtavqaXVnJpsEplYFRFbCSZAEiiLkWDnnddfR2Fo8SZBK2VZBPDa36CNr3p43bLEXrTIZBSyu5Y HTTP/1.1\" 500 126\n"
     ]
    },
    {
     "name": "stdout",
     "output_type": "stream",
     "text": [
      "Error searching for groups: An unknown error has occurred.\n",
      "No groups found matching the query.\n"
     ]
    }
   ],
   "source": [
    "group_name = \"Yo soy de Huelva, casi na !!!\"\n",
    "search_results = utils.search_groups_by_name(group_name)\n",
    "\n",
    "if search_results:\n",
    "    for group in search_results:\n",
    "        print(f\"Group ID: {group['id']}, Name: {group['name']}, Privacy: {group['privacy']}\")\n",
    "else:\n",
    "    print(\"No groups found matching the query.\")"
   ]
  },
  {
   "cell_type": "markdown",
   "metadata": {},
   "source": [
    "### when the id is known"
   ]
  },
  {
   "cell_type": "code",
   "execution_count": null,
   "metadata": {},
   "outputs": [],
   "source": [
    "group_id = \"490852652771054\"\n",
    "group_data = utils.get_group_info(fb_client, group_id)\n",
    "print(group_data) "
   ]
  },
  {
   "cell_type": "markdown",
   "metadata": {},
   "source": [
    "## Test to grab the latest post"
   ]
  },
  {
   "cell_type": "code",
   "execution_count": null,
   "metadata": {},
   "outputs": [],
   "source": [
    "try:\n",
    "    latest_post = post_manager.get_latest_post(page_id)\n",
    "    if latest_post:\n",
    "        print(\"Latest post retrieved successfully:\")\n",
    "        print(f\"  ID: {latest_post['id']}\")\n",
    "        print(f\"  Message: {latest_post['message']}\")\n",
    "        print(f\"  Post link: {latest_post['permalink_url']}\")\n",
    "        print(f\"  Likes Count: {latest_post['likes']['summary']['total_count']}\")\n",
    "        print(f\"  Comments Count: {latest_post['comments']['summary']['total_count']}\")\n",
    "        print(\"---------------------------------------------------------------------\")\n",
    "        \n",
    "        # You can print other fields here as well\n",
    "        import json\n",
    "        print(\"latest post retrieved successfully:\")\n",
    "        print(json.dumps(latest_post, indent=4))      # Pretty-print the dictionary\n",
    "\n",
    "    else:\n",
    "        print(\"No latest post found or error retrieving post.\")\n",
    "except Exception as e:  # Catching general exceptions for this example\n",
    "    print(f\"Error retrieving latest post: {e}\")\n",
    "\n",
    "print(f\" Post ID: {latest_post['id']}\") "
   ]
  },
  {
   "cell_type": "markdown",
   "metadata": {},
   "source": [
    "## Test to grab the latests posts (num_posts)"
   ]
  },
  {
   "cell_type": "code",
   "execution_count": null,
   "metadata": {},
   "outputs": [],
   "source": [
    "try:\n",
    "    latest_posts = post_manager.get_latest_posts(page_id, num_posts=3) \n",
    "    if latest_posts:  # Check if the list is not empty\n",
    "        print(\"Latest posts retrieved successfully:\")\n",
    "        for post in latest_posts:\n",
    "            print(f\"  ID: {post['id']}\")\n",
    "            print(f\"  Message: {post.get('message', 'No message available')}\")  # Use get() to handle missing messages\n",
    "            print(f\"  Post link: {post['permalink_url']}\")\n",
    "            print(f\"  Likes Count: {post['likes']['summary']['total_count']}\")\n",
    "            print(f\"  Comments Count: {post['comments']['summary']['total_count']}\")\n",
    "            print(\"---------------------------------------------------------------------\")\n",
    "\n",
    "            # You can print other fields here as well\n",
    "            import json\n",
    "            print(json.dumps(post, indent=4))      # Pretty-print each post individually\n",
    "\n",
    "    else:\n",
    "        print(\"No latest posts found or error retrieving posts.\")\n",
    "except Exception as e:  # Catching general exceptions for this example\n",
    "    print(f\"Error retrieving latest posts: {e}\")\n",
    "\n"
   ]
  },
  {
   "cell_type": "code",
   "execution_count": null,
   "metadata": {},
   "outputs": [],
   "source": [
    "# tests/test_post_manager.py (create a separate tests folder)\n",
    "import unittest\n",
    "from unittest.mock import patch  # Mocking for API calls\n",
    "from post_manager import PostManager  # Assuming this is your module name\n",
    "\n",
    "class TestPostManager(unittest.TestCase):\n",
    "    def setUp(self):\n",
    "        # Create a mock FacebookAPIClient\n",
    "        self.mock_api_client = patch(\"post_manager.FacebookAPIClient\").start()  # Mocking the api client for test\n",
    "        self.post_manager = PostManager(self.mock_api_client)\n",
    "\n",
    "    def tearDown(self):\n",
    "        patch.stopall()\n",
    "\n",
    "    @patch(\"facebook.GraphAPI.get_connections\")  # Mock the get_connections method of the GraphAPI\n",
    "    def test_get_latest_posts(self, mock_get_connections):\n",
    "        # Mock API response data\n",
    "        mock_response = {\n",
    "            \"data\": [\n",
    "                {\n",
    "                    \"id\": \"1234567890\",\n",
    "                    \"message\": \"This is a test post.\",\n",
    "                    \"created_time\": \"2024-05-23T12:00:00+0000\",\n",
    "                    \"permalink_url\": \"https://www.facebook.com/1234567890\",\n",
    "                    \"likes\": {\"summary\": {\"total_count\": 10}},\n",
    "                    \"comments\": {\"summary\": {\"total_count\": 5}},\n",
    "                },\n",
    "                # Add more mock post data as needed\n",
    "            ]\n",
    "        }\n",
    "        mock_get_connections.return_value = mock_response\n",
    "\n",
    "        posts = self.post_manager.get_latest_posts(page_id, num_posts=2)  # Request 2 posts\n",
    "        # Printing results\n",
    "        print(\"TEST OUTPUT - get_latest_posts\")\n",
    "        for post in posts:\n",
    "            print(\"Post ID:\", post['id'])\n",
    "            print(\"Message:\", post['message'])\n",
    "            print(\"Likes:\", post['likes']['summary']['total_count'])\n",
    "            print(\"Comments:\", post['comments']['summary']['total_count'])\n",
    "            print(\"---\")\n",
    "        self.assertEqual(len(posts), 2)  # Check that the correct number of posts were returned\n",
    "        \n",
    "        # Check a few specific fields in the first post (customize these)\n",
    "        self.assertEqual(posts[0][\"id\"], \"1234567890\")\n",
    "        self.assertEqual(posts[0][\"message\"], \"This is a test post.\")\n",
    "\n",
    "if __name__ == \"__main__\":\n",
    "    %run post_manager.py\n"
   ]
  },
  {
   "cell_type": "markdown",
   "metadata": {},
   "source": [
    "## Test to retrieve a post and its media by post id"
   ]
  },
  {
   "cell_type": "code",
   "execution_count": null,
   "metadata": {},
   "outputs": [],
   "source": [
    "\n",
    "post_id = \"303403436189223_122111155826316036\"  # Replace with the actual post ID\n",
    "specific_post = post_manager.get_post_by_id(post_id)\n",
    "if specific_post:\n",
    "    import json\n",
    "    print(json.dumps(specific_post, indent=4)) \n",
    "\n",
    "    if \"attachments\" in specific_post:\n",
    "        attachments = specific_post[\"attachments\"][\"data\"]\n",
    "        for attachment in attachments:\n",
    "            media_type = attachment.get(\"media_type\")\n",
    "            if media_type == \"photo\":\n",
    "                photo_url = attachment[\"media\"][\"image\"][\"src\"]\n",
    "                print(f\"Found photo attachment: {photo_url}\")\n",
    "            elif media_type == \"video\":\n",
    "                video_url = attachment[\"media\"][\"source\"]\n",
    "                print(f\"Found video attachment: {video_url}\")\n",
    "            # Add other media types (e.g., \"link\", \"album\") if needed\n",
    "    else:\n",
    "        print(\"No attachments found in this post.\")\n",
    "else:\n",
    "    print(\"No post found or error retrieving post.\")\n"
   ]
  },
  {
   "cell_type": "markdown",
   "metadata": {},
   "source": [
    "## Test to publish a message post"
   ]
  },
  {
   "cell_type": "code",
   "execution_count": null,
   "metadata": {},
   "outputs": [],
   "source": [
    "   \n",
    "\n",
    "\n",
    "# Publish a text post\n",
    "text_post_message = \"I loved 2024 Romeria de El Rocio\"\n",
    "try:\n",
    "    text_post_result = post_manager.publish_text_post(page_id, text_post_message)\n",
    "except Exception as e:  # Catching general exceptions for this example\n",
    "    print(f\"Error publishing text post: {e}\")\n",
    "\n",
    "print(\"Text post result:\", text_post_result)\n"
   ]
  },
  {
   "cell_type": "markdown",
   "metadata": {},
   "source": [
    "## Test to publish a one photo post with a message"
   ]
  },
  {
   "cell_type": "code",
   "execution_count": null,
   "metadata": {},
   "outputs": [],
   "source": [
    "\n",
    "\n",
    "photo_post_message = \"El Rocio so full with horses\"\n",
    "photo_path = r\"C:\\Users\\manue\\Documents\\Disfrutando Huelva\\Agrupados para editar\\Rocio - Todos\\Caballos carros y carretas en el rocio\\20240518_131042~2.jpg\"\n",
    "try:\n",
    "    photo_post_result = post_manager.publish_photo_post(page_id, photo_post_message, photo_path)\n",
    "except Exception as e:  # Catching general exceptions for this example\n",
    "    print(f\"Error publishing photo post: {e}\")\n",
    "\n",
    "# Print results\n",
    "    \n",
    "print(\"Photo post result:\", photo_post_result)\n"
   ]
  }
 ],
 "metadata": {
  "kernelspec": {
   "display_name": "my_torch_env",
   "language": "python",
   "name": "my_torch_env"
  },
  "language_info": {
   "codemirror_mode": {
    "name": "ipython",
    "version": 3
   },
   "file_extension": ".py",
   "mimetype": "text/x-python",
   "name": "python",
   "nbconvert_exporter": "python",
   "pygments_lexer": "ipython3",
   "version": "3.10.14"
  }
 },
 "nbformat": 4,
 "nbformat_minor": 2
}
