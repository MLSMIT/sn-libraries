{
 "cells": [
  {
   "cell_type": "code",
   "execution_count": null,
   "metadata": {},
   "outputs": [],
   "source": [
    "from ig_api_client import IgApiClient\n",
    "from ig_post_manager import IGPostManager\n",
    "\n",
    "# Load your Instagram credentials (replace placeholders)\n",
    "access_token = \"YOUR_INSTAGRAM_USER_ACCESS_TOKEN\"\n",
    "instagram_business_account_id = \"YOUR_INSTAGRAM_BUSINESS_ACCOUNT_ID\"\n",
    "\n",
    "# Create the IgApiClient instance\n",
    "ig_client = IgApiClient(access_token, instagram_business_account_id)\n",
    "ig_post_manager = IGPostManager(ig_client)\n",
    "\n",
    "# Test publishing a post\n",
    "media_paths = [\"path/to/your/photo1.jpg\", \"path/to/your/photo2.jpg\"]\n",
    "message = \"This is a test post with multiple images!\"\n",
    "post = ig_post_manager.publish_post(message, media_paths)\n",
    "print(post)  # Print the resulting SocialMediaPost object"
   ]
  }
 ],
 "metadata": {
  "language_info": {
   "name": "python"
  }
 },
 "nbformat": 4,
 "nbformat_minor": 2
}
